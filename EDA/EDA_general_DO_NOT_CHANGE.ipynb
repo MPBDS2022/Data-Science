{
 "cells": [
  {
   "cell_type": "markdown",
   "id": "f0eb06f3",
   "metadata": {
    "id": "f0eb06f3"
   },
   "source": [
    "# **EDA Basics**"
   ]
  },
  {
   "cell_type": "markdown",
   "id": "a683f8d5",
   "metadata": {},
   "source": [
    "## **Libraries**"
   ]
  },
  {
   "cell_type": "code",
   "execution_count": 1,
   "id": "c0022e4d",
   "metadata": {
    "id": "c0022e4d"
   },
   "outputs": [],
   "source": [
    "import numpy as np\n",
    "import pandas as pd\n",
    "import matplotlib.pyplot as plt\n",
    "import seaborn as sns\n",
    "\n",
    "# Removes the limit for the number of displayed columns\n",
    "pd.set_option(\"display.max_columns\", None)\n",
    "# Sets the limit for the number of displayed rows\n",
    "pd.set_option(\"display.max_rows\", 100)\n",
    "\n",
    "import warnings\n",
    "warnings.filterwarnings(\"ignore\")"
   ]
  },
  {
   "cell_type": "markdown",
   "id": "51b91836",
   "metadata": {
    "id": "51b91836"
   },
   "source": [
    "### **Importing the Dataset**"
   ]
  },
  {
   "cell_type": "code",
   "execution_count": 2,
   "id": "db0d776a",
   "metadata": {
    "id": "db0d776a"
   },
   "outputs": [
    {
     "ename": "FileNotFoundError",
     "evalue": "[Errno 2] No such file or directory: 'SuperKart.csv'",
     "output_type": "error",
     "traceback": [
      "\u001b[0;31m---------------------------------------------------------------------------\u001b[0m",
      "\u001b[0;31mFileNotFoundError\u001b[0m                         Traceback (most recent call last)",
      "Cell \u001b[0;32mIn [2], line 1\u001b[0m\n\u001b[0;32m----> 1\u001b[0m SOMENAME \u001b[39m=\u001b[39m pd\u001b[39m.\u001b[39;49mread_csv(\u001b[39m\"\u001b[39;49m\u001b[39mSuperKart.csv\u001b[39;49m\u001b[39m\"\u001b[39;49m)\n",
      "File \u001b[0;32m/opt/homebrew/lib/python3.10/site-packages/pandas/util/_decorators.py:211\u001b[0m, in \u001b[0;36mdeprecate_kwarg.<locals>._deprecate_kwarg.<locals>.wrapper\u001b[0;34m(*args, **kwargs)\u001b[0m\n\u001b[1;32m    209\u001b[0m     \u001b[39melse\u001b[39;00m:\n\u001b[1;32m    210\u001b[0m         kwargs[new_arg_name] \u001b[39m=\u001b[39m new_arg_value\n\u001b[0;32m--> 211\u001b[0m \u001b[39mreturn\u001b[39;00m func(\u001b[39m*\u001b[39;49margs, \u001b[39m*\u001b[39;49m\u001b[39m*\u001b[39;49mkwargs)\n",
      "File \u001b[0;32m/opt/homebrew/lib/python3.10/site-packages/pandas/util/_decorators.py:331\u001b[0m, in \u001b[0;36mdeprecate_nonkeyword_arguments.<locals>.decorate.<locals>.wrapper\u001b[0;34m(*args, **kwargs)\u001b[0m\n\u001b[1;32m    325\u001b[0m \u001b[39mif\u001b[39;00m \u001b[39mlen\u001b[39m(args) \u001b[39m>\u001b[39m num_allow_args:\n\u001b[1;32m    326\u001b[0m     warnings\u001b[39m.\u001b[39mwarn(\n\u001b[1;32m    327\u001b[0m         msg\u001b[39m.\u001b[39mformat(arguments\u001b[39m=\u001b[39m_format_argument_list(allow_args)),\n\u001b[1;32m    328\u001b[0m         \u001b[39mFutureWarning\u001b[39;00m,\n\u001b[1;32m    329\u001b[0m         stacklevel\u001b[39m=\u001b[39mfind_stack_level(),\n\u001b[1;32m    330\u001b[0m     )\n\u001b[0;32m--> 331\u001b[0m \u001b[39mreturn\u001b[39;00m func(\u001b[39m*\u001b[39;49margs, \u001b[39m*\u001b[39;49m\u001b[39m*\u001b[39;49mkwargs)\n",
      "File \u001b[0;32m/opt/homebrew/lib/python3.10/site-packages/pandas/io/parsers/readers.py:950\u001b[0m, in \u001b[0;36mread_csv\u001b[0;34m(filepath_or_buffer, sep, delimiter, header, names, index_col, usecols, squeeze, prefix, mangle_dupe_cols, dtype, engine, converters, true_values, false_values, skipinitialspace, skiprows, skipfooter, nrows, na_values, keep_default_na, na_filter, verbose, skip_blank_lines, parse_dates, infer_datetime_format, keep_date_col, date_parser, dayfirst, cache_dates, iterator, chunksize, compression, thousands, decimal, lineterminator, quotechar, quoting, doublequote, escapechar, comment, encoding, encoding_errors, dialect, error_bad_lines, warn_bad_lines, on_bad_lines, delim_whitespace, low_memory, memory_map, float_precision, storage_options)\u001b[0m\n\u001b[1;32m    935\u001b[0m kwds_defaults \u001b[39m=\u001b[39m _refine_defaults_read(\n\u001b[1;32m    936\u001b[0m     dialect,\n\u001b[1;32m    937\u001b[0m     delimiter,\n\u001b[0;32m   (...)\u001b[0m\n\u001b[1;32m    946\u001b[0m     defaults\u001b[39m=\u001b[39m{\u001b[39m\"\u001b[39m\u001b[39mdelimiter\u001b[39m\u001b[39m\"\u001b[39m: \u001b[39m\"\u001b[39m\u001b[39m,\u001b[39m\u001b[39m\"\u001b[39m},\n\u001b[1;32m    947\u001b[0m )\n\u001b[1;32m    948\u001b[0m kwds\u001b[39m.\u001b[39mupdate(kwds_defaults)\n\u001b[0;32m--> 950\u001b[0m \u001b[39mreturn\u001b[39;00m _read(filepath_or_buffer, kwds)\n",
      "File \u001b[0;32m/opt/homebrew/lib/python3.10/site-packages/pandas/io/parsers/readers.py:605\u001b[0m, in \u001b[0;36m_read\u001b[0;34m(filepath_or_buffer, kwds)\u001b[0m\n\u001b[1;32m    602\u001b[0m _validate_names(kwds\u001b[39m.\u001b[39mget(\u001b[39m\"\u001b[39m\u001b[39mnames\u001b[39m\u001b[39m\"\u001b[39m, \u001b[39mNone\u001b[39;00m))\n\u001b[1;32m    604\u001b[0m \u001b[39m# Create the parser.\u001b[39;00m\n\u001b[0;32m--> 605\u001b[0m parser \u001b[39m=\u001b[39m TextFileReader(filepath_or_buffer, \u001b[39m*\u001b[39;49m\u001b[39m*\u001b[39;49mkwds)\n\u001b[1;32m    607\u001b[0m \u001b[39mif\u001b[39;00m chunksize \u001b[39mor\u001b[39;00m iterator:\n\u001b[1;32m    608\u001b[0m     \u001b[39mreturn\u001b[39;00m parser\n",
      "File \u001b[0;32m/opt/homebrew/lib/python3.10/site-packages/pandas/io/parsers/readers.py:1442\u001b[0m, in \u001b[0;36mTextFileReader.__init__\u001b[0;34m(self, f, engine, **kwds)\u001b[0m\n\u001b[1;32m   1439\u001b[0m     \u001b[39mself\u001b[39m\u001b[39m.\u001b[39moptions[\u001b[39m\"\u001b[39m\u001b[39mhas_index_names\u001b[39m\u001b[39m\"\u001b[39m] \u001b[39m=\u001b[39m kwds[\u001b[39m\"\u001b[39m\u001b[39mhas_index_names\u001b[39m\u001b[39m\"\u001b[39m]\n\u001b[1;32m   1441\u001b[0m \u001b[39mself\u001b[39m\u001b[39m.\u001b[39mhandles: IOHandles \u001b[39m|\u001b[39m \u001b[39mNone\u001b[39;00m \u001b[39m=\u001b[39m \u001b[39mNone\u001b[39;00m\n\u001b[0;32m-> 1442\u001b[0m \u001b[39mself\u001b[39m\u001b[39m.\u001b[39m_engine \u001b[39m=\u001b[39m \u001b[39mself\u001b[39;49m\u001b[39m.\u001b[39;49m_make_engine(f, \u001b[39mself\u001b[39;49m\u001b[39m.\u001b[39;49mengine)\n",
      "File \u001b[0;32m/opt/homebrew/lib/python3.10/site-packages/pandas/io/parsers/readers.py:1735\u001b[0m, in \u001b[0;36mTextFileReader._make_engine\u001b[0;34m(self, f, engine)\u001b[0m\n\u001b[1;32m   1733\u001b[0m     \u001b[39mif\u001b[39;00m \u001b[39m\"\u001b[39m\u001b[39mb\u001b[39m\u001b[39m\"\u001b[39m \u001b[39mnot\u001b[39;00m \u001b[39min\u001b[39;00m mode:\n\u001b[1;32m   1734\u001b[0m         mode \u001b[39m+\u001b[39m\u001b[39m=\u001b[39m \u001b[39m\"\u001b[39m\u001b[39mb\u001b[39m\u001b[39m\"\u001b[39m\n\u001b[0;32m-> 1735\u001b[0m \u001b[39mself\u001b[39m\u001b[39m.\u001b[39mhandles \u001b[39m=\u001b[39m get_handle(\n\u001b[1;32m   1736\u001b[0m     f,\n\u001b[1;32m   1737\u001b[0m     mode,\n\u001b[1;32m   1738\u001b[0m     encoding\u001b[39m=\u001b[39;49m\u001b[39mself\u001b[39;49m\u001b[39m.\u001b[39;49moptions\u001b[39m.\u001b[39;49mget(\u001b[39m\"\u001b[39;49m\u001b[39mencoding\u001b[39;49m\u001b[39m\"\u001b[39;49m, \u001b[39mNone\u001b[39;49;00m),\n\u001b[1;32m   1739\u001b[0m     compression\u001b[39m=\u001b[39;49m\u001b[39mself\u001b[39;49m\u001b[39m.\u001b[39;49moptions\u001b[39m.\u001b[39;49mget(\u001b[39m\"\u001b[39;49m\u001b[39mcompression\u001b[39;49m\u001b[39m\"\u001b[39;49m, \u001b[39mNone\u001b[39;49;00m),\n\u001b[1;32m   1740\u001b[0m     memory_map\u001b[39m=\u001b[39;49m\u001b[39mself\u001b[39;49m\u001b[39m.\u001b[39;49moptions\u001b[39m.\u001b[39;49mget(\u001b[39m\"\u001b[39;49m\u001b[39mmemory_map\u001b[39;49m\u001b[39m\"\u001b[39;49m, \u001b[39mFalse\u001b[39;49;00m),\n\u001b[1;32m   1741\u001b[0m     is_text\u001b[39m=\u001b[39;49mis_text,\n\u001b[1;32m   1742\u001b[0m     errors\u001b[39m=\u001b[39;49m\u001b[39mself\u001b[39;49m\u001b[39m.\u001b[39;49moptions\u001b[39m.\u001b[39;49mget(\u001b[39m\"\u001b[39;49m\u001b[39mencoding_errors\u001b[39;49m\u001b[39m\"\u001b[39;49m, \u001b[39m\"\u001b[39;49m\u001b[39mstrict\u001b[39;49m\u001b[39m\"\u001b[39;49m),\n\u001b[1;32m   1743\u001b[0m     storage_options\u001b[39m=\u001b[39;49m\u001b[39mself\u001b[39;49m\u001b[39m.\u001b[39;49moptions\u001b[39m.\u001b[39;49mget(\u001b[39m\"\u001b[39;49m\u001b[39mstorage_options\u001b[39;49m\u001b[39m\"\u001b[39;49m, \u001b[39mNone\u001b[39;49;00m),\n\u001b[1;32m   1744\u001b[0m )\n\u001b[1;32m   1745\u001b[0m \u001b[39massert\u001b[39;00m \u001b[39mself\u001b[39m\u001b[39m.\u001b[39mhandles \u001b[39mis\u001b[39;00m \u001b[39mnot\u001b[39;00m \u001b[39mNone\u001b[39;00m\n\u001b[1;32m   1746\u001b[0m f \u001b[39m=\u001b[39m \u001b[39mself\u001b[39m\u001b[39m.\u001b[39mhandles\u001b[39m.\u001b[39mhandle\n",
      "File \u001b[0;32m/opt/homebrew/lib/python3.10/site-packages/pandas/io/common.py:856\u001b[0m, in \u001b[0;36mget_handle\u001b[0;34m(path_or_buf, mode, encoding, compression, memory_map, is_text, errors, storage_options)\u001b[0m\n\u001b[1;32m    851\u001b[0m \u001b[39melif\u001b[39;00m \u001b[39misinstance\u001b[39m(handle, \u001b[39mstr\u001b[39m):\n\u001b[1;32m    852\u001b[0m     \u001b[39m# Check whether the filename is to be opened in binary mode.\u001b[39;00m\n\u001b[1;32m    853\u001b[0m     \u001b[39m# Binary mode does not support 'encoding' and 'newline'.\u001b[39;00m\n\u001b[1;32m    854\u001b[0m     \u001b[39mif\u001b[39;00m ioargs\u001b[39m.\u001b[39mencoding \u001b[39mand\u001b[39;00m \u001b[39m\"\u001b[39m\u001b[39mb\u001b[39m\u001b[39m\"\u001b[39m \u001b[39mnot\u001b[39;00m \u001b[39min\u001b[39;00m ioargs\u001b[39m.\u001b[39mmode:\n\u001b[1;32m    855\u001b[0m         \u001b[39m# Encoding\u001b[39;00m\n\u001b[0;32m--> 856\u001b[0m         handle \u001b[39m=\u001b[39m \u001b[39mopen\u001b[39;49m(\n\u001b[1;32m    857\u001b[0m             handle,\n\u001b[1;32m    858\u001b[0m             ioargs\u001b[39m.\u001b[39;49mmode,\n\u001b[1;32m    859\u001b[0m             encoding\u001b[39m=\u001b[39;49mioargs\u001b[39m.\u001b[39;49mencoding,\n\u001b[1;32m    860\u001b[0m             errors\u001b[39m=\u001b[39;49merrors,\n\u001b[1;32m    861\u001b[0m             newline\u001b[39m=\u001b[39;49m\u001b[39m\"\u001b[39;49m\u001b[39m\"\u001b[39;49m,\n\u001b[1;32m    862\u001b[0m         )\n\u001b[1;32m    863\u001b[0m     \u001b[39melse\u001b[39;00m:\n\u001b[1;32m    864\u001b[0m         \u001b[39m# Binary mode\u001b[39;00m\n\u001b[1;32m    865\u001b[0m         handle \u001b[39m=\u001b[39m \u001b[39mopen\u001b[39m(handle, ioargs\u001b[39m.\u001b[39mmode)\n",
      "\u001b[0;31mFileNotFoundError\u001b[0m: [Errno 2] No such file or directory: 'SuperKart.csv'"
     ]
    }
   ],
   "source": [
    "SOMENAME = pd.read_csv(\"SuperKart.csv\")"
   ]
  },
  {
   "cell_type": "code",
   "execution_count": null,
   "id": "3a41759a",
   "metadata": {
    "id": "3a41759a"
   },
   "outputs": [],
   "source": [
    "# Savong the dataset to another variable\n",
    "data = SOMENAME.copy()"
   ]
  },
  {
   "cell_type": "markdown",
   "id": "65c8c14d",
   "metadata": {
    "id": "65c8c14d"
   },
   "source": [
    "### **View the first and last 5 rows of the dataset**"
   ]
  },
  {
   "cell_type": "code",
   "execution_count": null,
   "id": "27d5a6d3",
   "metadata": {
    "colab": {
     "base_uri": "https://localhost:8080/",
     "height": 357
    },
    "id": "27d5a6d3",
    "outputId": "4a2fe46b-7c36-4f62-8ffd-7e2cf492c09b"
   },
   "outputs": [
    {
     "data": {
      "text/html": [
       "<div>\n",
       "<style scoped>\n",
       "    .dataframe tbody tr th:only-of-type {\n",
       "        vertical-align: middle;\n",
       "    }\n",
       "\n",
       "    .dataframe tbody tr th {\n",
       "        vertical-align: top;\n",
       "    }\n",
       "\n",
       "    .dataframe thead th {\n",
       "        text-align: right;\n",
       "    }\n",
       "</style>\n",
       "<table border=\"1\" class=\"dataframe\">\n",
       "  <thead>\n",
       "    <tr style=\"text-align: right;\">\n",
       "      <th></th>\n",
       "      <th>Product_Id</th>\n",
       "      <th>Product_Weight</th>\n",
       "      <th>Product_Sugar_Content</th>\n",
       "      <th>Product_Allocated_Area</th>\n",
       "      <th>Product_Type</th>\n",
       "      <th>Product_MRP</th>\n",
       "      <th>Store_Id</th>\n",
       "      <th>Store_Establishment_Year</th>\n",
       "      <th>Store_Size</th>\n",
       "      <th>Store_Location_City_Type</th>\n",
       "      <th>Store_Type</th>\n",
       "      <th>Product_Store_Sales_Total</th>\n",
       "    </tr>\n",
       "  </thead>\n",
       "  <tbody>\n",
       "    <tr>\n",
       "      <th>0</th>\n",
       "      <td>FD6114</td>\n",
       "      <td>12.66</td>\n",
       "      <td>Low Sugar</td>\n",
       "      <td>0.027</td>\n",
       "      <td>Frozen Foods</td>\n",
       "      <td>117.08</td>\n",
       "      <td>OUT004</td>\n",
       "      <td>2009</td>\n",
       "      <td>Medium</td>\n",
       "      <td>Tier 2</td>\n",
       "      <td>Supermarket Type2</td>\n",
       "      <td>2842.40</td>\n",
       "    </tr>\n",
       "    <tr>\n",
       "      <th>1</th>\n",
       "      <td>FD7839</td>\n",
       "      <td>16.54</td>\n",
       "      <td>Low Sugar</td>\n",
       "      <td>0.144</td>\n",
       "      <td>Dairy</td>\n",
       "      <td>171.43</td>\n",
       "      <td>OUT003</td>\n",
       "      <td>1999</td>\n",
       "      <td>Medium</td>\n",
       "      <td>Tier 1</td>\n",
       "      <td>Departmental Store</td>\n",
       "      <td>4830.02</td>\n",
       "    </tr>\n",
       "    <tr>\n",
       "      <th>2</th>\n",
       "      <td>FD5075</td>\n",
       "      <td>14.28</td>\n",
       "      <td>Regular</td>\n",
       "      <td>0.031</td>\n",
       "      <td>Canned</td>\n",
       "      <td>162.08</td>\n",
       "      <td>OUT001</td>\n",
       "      <td>1987</td>\n",
       "      <td>High</td>\n",
       "      <td>Tier 2</td>\n",
       "      <td>Supermarket Type1</td>\n",
       "      <td>4130.16</td>\n",
       "    </tr>\n",
       "    <tr>\n",
       "      <th>3</th>\n",
       "      <td>FD8233</td>\n",
       "      <td>12.10</td>\n",
       "      <td>Low Sugar</td>\n",
       "      <td>0.112</td>\n",
       "      <td>Baking Goods</td>\n",
       "      <td>186.31</td>\n",
       "      <td>OUT001</td>\n",
       "      <td>1987</td>\n",
       "      <td>High</td>\n",
       "      <td>Tier 2</td>\n",
       "      <td>Supermarket Type1</td>\n",
       "      <td>4132.18</td>\n",
       "    </tr>\n",
       "    <tr>\n",
       "      <th>4</th>\n",
       "      <td>NC1180</td>\n",
       "      <td>9.57</td>\n",
       "      <td>No Sugar</td>\n",
       "      <td>0.010</td>\n",
       "      <td>Health and Hygiene</td>\n",
       "      <td>123.67</td>\n",
       "      <td>OUT002</td>\n",
       "      <td>1998</td>\n",
       "      <td>Small</td>\n",
       "      <td>Tier 3</td>\n",
       "      <td>Food Mart</td>\n",
       "      <td>2279.36</td>\n",
       "    </tr>\n",
       "  </tbody>\n",
       "</table>\n",
       "</div>"
      ],
      "text/plain": [
       "  Product_Id  Product_Weight Product_Sugar_Content  Product_Allocated_Area  \\\n",
       "0     FD6114           12.66             Low Sugar                   0.027   \n",
       "1     FD7839           16.54             Low Sugar                   0.144   \n",
       "2     FD5075           14.28               Regular                   0.031   \n",
       "3     FD8233           12.10             Low Sugar                   0.112   \n",
       "4     NC1180            9.57              No Sugar                   0.010   \n",
       "\n",
       "         Product_Type  Product_MRP Store_Id  Store_Establishment_Year  \\\n",
       "0        Frozen Foods       117.08   OUT004                      2009   \n",
       "1               Dairy       171.43   OUT003                      1999   \n",
       "2              Canned       162.08   OUT001                      1987   \n",
       "3        Baking Goods       186.31   OUT001                      1987   \n",
       "4  Health and Hygiene       123.67   OUT002                      1998   \n",
       "\n",
       "  Store_Size Store_Location_City_Type          Store_Type  \\\n",
       "0     Medium                   Tier 2   Supermarket Type2   \n",
       "1     Medium                   Tier 1  Departmental Store   \n",
       "2       High                   Tier 2   Supermarket Type1   \n",
       "3       High                   Tier 2   Supermarket Type1   \n",
       "4      Small                   Tier 3           Food Mart   \n",
       "\n",
       "   Product_Store_Sales_Total  \n",
       "0                    2842.40  \n",
       "1                    4830.02  \n",
       "2                    4130.16  \n",
       "3                    4132.18  \n",
       "4                    2279.36  "
      ]
     },
     "execution_count": 4,
     "metadata": {},
     "output_type": "execute_result"
    }
   ],
   "source": [
    "data.head()"
   ]
  },
  {
   "cell_type": "markdown",
   "id": "e69f5111",
   "metadata": {
    "id": "e69f5111"
   },
   "source": [
    "**Observation:**\n",
    "\n",
    "- "
   ]
  },
  {
   "cell_type": "code",
   "execution_count": null,
   "id": "cb5ec8ca",
   "metadata": {
    "colab": {
     "base_uri": "https://localhost:8080/",
     "height": 340
    },
    "id": "cb5ec8ca",
    "outputId": "40fb8351-5e80-4446-c3e7-f03bce80506e"
   },
   "outputs": [
    {
     "data": {
      "text/html": [
       "<div>\n",
       "<style scoped>\n",
       "    .dataframe tbody tr th:only-of-type {\n",
       "        vertical-align: middle;\n",
       "    }\n",
       "\n",
       "    .dataframe tbody tr th {\n",
       "        vertical-align: top;\n",
       "    }\n",
       "\n",
       "    .dataframe thead th {\n",
       "        text-align: right;\n",
       "    }\n",
       "</style>\n",
       "<table border=\"1\" class=\"dataframe\">\n",
       "  <thead>\n",
       "    <tr style=\"text-align: right;\">\n",
       "      <th></th>\n",
       "      <th>Product_Id</th>\n",
       "      <th>Product_Weight</th>\n",
       "      <th>Product_Sugar_Content</th>\n",
       "      <th>Product_Allocated_Area</th>\n",
       "      <th>Product_Type</th>\n",
       "      <th>Product_MRP</th>\n",
       "      <th>Store_Id</th>\n",
       "      <th>Store_Establishment_Year</th>\n",
       "      <th>Store_Size</th>\n",
       "      <th>Store_Location_City_Type</th>\n",
       "      <th>Store_Type</th>\n",
       "      <th>Product_Store_Sales_Total</th>\n",
       "    </tr>\n",
       "  </thead>\n",
       "  <tbody>\n",
       "    <tr>\n",
       "      <th>8758</th>\n",
       "      <td>NC7546</td>\n",
       "      <td>14.80</td>\n",
       "      <td>No Sugar</td>\n",
       "      <td>0.016</td>\n",
       "      <td>Health and Hygiene</td>\n",
       "      <td>140.53</td>\n",
       "      <td>OUT004</td>\n",
       "      <td>2009</td>\n",
       "      <td>Medium</td>\n",
       "      <td>Tier 2</td>\n",
       "      <td>Supermarket Type2</td>\n",
       "      <td>3806.53</td>\n",
       "    </tr>\n",
       "    <tr>\n",
       "      <th>8759</th>\n",
       "      <td>NC584</td>\n",
       "      <td>14.06</td>\n",
       "      <td>No Sugar</td>\n",
       "      <td>0.142</td>\n",
       "      <td>Household</td>\n",
       "      <td>144.51</td>\n",
       "      <td>OUT004</td>\n",
       "      <td>2009</td>\n",
       "      <td>Medium</td>\n",
       "      <td>Tier 2</td>\n",
       "      <td>Supermarket Type2</td>\n",
       "      <td>5020.74</td>\n",
       "    </tr>\n",
       "    <tr>\n",
       "      <th>8760</th>\n",
       "      <td>NC2471</td>\n",
       "      <td>13.48</td>\n",
       "      <td>No Sugar</td>\n",
       "      <td>0.017</td>\n",
       "      <td>Health and Hygiene</td>\n",
       "      <td>88.58</td>\n",
       "      <td>OUT001</td>\n",
       "      <td>1987</td>\n",
       "      <td>High</td>\n",
       "      <td>Tier 2</td>\n",
       "      <td>Supermarket Type1</td>\n",
       "      <td>2443.42</td>\n",
       "    </tr>\n",
       "    <tr>\n",
       "      <th>8761</th>\n",
       "      <td>NC7187</td>\n",
       "      <td>13.89</td>\n",
       "      <td>No Sugar</td>\n",
       "      <td>0.193</td>\n",
       "      <td>Household</td>\n",
       "      <td>168.44</td>\n",
       "      <td>OUT001</td>\n",
       "      <td>1987</td>\n",
       "      <td>High</td>\n",
       "      <td>Tier 2</td>\n",
       "      <td>Supermarket Type1</td>\n",
       "      <td>4171.82</td>\n",
       "    </tr>\n",
       "    <tr>\n",
       "      <th>8762</th>\n",
       "      <td>FD306</td>\n",
       "      <td>14.73</td>\n",
       "      <td>Low Sugar</td>\n",
       "      <td>0.177</td>\n",
       "      <td>Snack Foods</td>\n",
       "      <td>224.93</td>\n",
       "      <td>OUT002</td>\n",
       "      <td>1998</td>\n",
       "      <td>Small</td>\n",
       "      <td>Tier 3</td>\n",
       "      <td>Food Mart</td>\n",
       "      <td>2186.08</td>\n",
       "    </tr>\n",
       "  </tbody>\n",
       "</table>\n",
       "</div>"
      ],
      "text/plain": [
       "     Product_Id  Product_Weight Product_Sugar_Content  Product_Allocated_Area  \\\n",
       "8758     NC7546           14.80              No Sugar                   0.016   \n",
       "8759      NC584           14.06              No Sugar                   0.142   \n",
       "8760     NC2471           13.48              No Sugar                   0.017   \n",
       "8761     NC7187           13.89              No Sugar                   0.193   \n",
       "8762      FD306           14.73             Low Sugar                   0.177   \n",
       "\n",
       "            Product_Type  Product_MRP Store_Id  Store_Establishment_Year  \\\n",
       "8758  Health and Hygiene       140.53   OUT004                      2009   \n",
       "8759           Household       144.51   OUT004                      2009   \n",
       "8760  Health and Hygiene        88.58   OUT001                      1987   \n",
       "8761           Household       168.44   OUT001                      1987   \n",
       "8762         Snack Foods       224.93   OUT002                      1998   \n",
       "\n",
       "     Store_Size Store_Location_City_Type         Store_Type  \\\n",
       "8758     Medium                   Tier 2  Supermarket Type2   \n",
       "8759     Medium                   Tier 2  Supermarket Type2   \n",
       "8760       High                   Tier 2  Supermarket Type1   \n",
       "8761       High                   Tier 2  Supermarket Type1   \n",
       "8762      Small                   Tier 3          Food Mart   \n",
       "\n",
       "      Product_Store_Sales_Total  \n",
       "8758                    3806.53  \n",
       "8759                    5020.74  \n",
       "8760                    2443.42  \n",
       "8761                    4171.82  \n",
       "8762                    2186.08  "
      ]
     },
     "execution_count": 5,
     "metadata": {},
     "output_type": "execute_result"
    }
   ],
   "source": [
    "data.tail()"
   ]
  },
  {
   "cell_type": "markdown",
   "id": "ee04adcd",
   "metadata": {
    "id": "ee04adcd"
   },
   "source": [
    "### **Dataset shape**"
   ]
  },
  {
   "cell_type": "code",
   "execution_count": null,
   "id": "e9040b24",
   "metadata": {
    "colab": {
     "base_uri": "https://localhost:8080/"
    },
    "id": "e9040b24",
    "outputId": "261e0802-837f-4e98-ca6f-c6b81bd025e1"
   },
   "outputs": [
    {
     "name": "stdout",
     "output_type": "stream",
     "text": [
      "There are 8763 rows and 12 columns.\n"
     ]
    }
   ],
   "source": [
    "data.shape()"
   ]
  },
  {
   "cell_type": "markdown",
   "id": "e25abfe4",
   "metadata": {
    "id": "e25abfe4"
   },
   "source": [
    "### **Identify nulls and datatypes in this dataset**"
   ]
  },
  {
   "cell_type": "code",
   "execution_count": null,
   "id": "0e8cc237",
   "metadata": {
    "colab": {
     "base_uri": "https://localhost:8080/"
    },
    "id": "0e8cc237",
    "outputId": "efa84b8c-70a3-423a-9ca3-6e091d81e722",
    "scrolled": true
   },
   "outputs": [
    {
     "name": "stdout",
     "output_type": "stream",
     "text": [
      "<class 'pandas.core.frame.DataFrame'>\n",
      "RangeIndex: 8763 entries, 0 to 8762\n",
      "Data columns (total 12 columns):\n",
      " #   Column                     Non-Null Count  Dtype  \n",
      "---  ------                     --------------  -----  \n",
      " 0   Product_Id                 8763 non-null   object \n",
      " 1   Product_Weight             8763 non-null   float64\n",
      " 2   Product_Sugar_Content      8763 non-null   object \n",
      " 3   Product_Allocated_Area     8763 non-null   float64\n",
      " 4   Product_Type               8763 non-null   object \n",
      " 5   Product_MRP                8763 non-null   float64\n",
      " 6   Store_Id                   8763 non-null   object \n",
      " 7   Store_Establishment_Year   8763 non-null   int64  \n",
      " 8   Store_Size                 8763 non-null   object \n",
      " 9   Store_Location_City_Type   8763 non-null   object \n",
      " 10  Store_Type                 8763 non-null   object \n",
      " 11  Product_Store_Sales_Total  8763 non-null   float64\n",
      "dtypes: float64(4), int64(1), object(7)\n",
      "memory usage: 821.7+ KB\n"
     ]
    }
   ],
   "source": [
    "data.info()"
   ]
  },
  {
   "cell_type": "markdown",
   "id": "e9b70959",
   "metadata": {
    "id": "e9b70959"
   },
   "source": [
    "**Observations:**\n",
    "- XXXX"
   ]
  },
  {
   "cell_type": "markdown",
   "id": "9da3d471",
   "metadata": {
    "id": "9da3d471"
   },
   "source": [
    "### **Identify any missing values in the dataset** ###"
   ]
  },
  {
   "cell_type": "code",
   "execution_count": null,
   "id": "cf1d6de3",
   "metadata": {
    "colab": {
     "base_uri": "https://localhost:8080/"
    },
    "id": "cf1d6de3",
    "outputId": "a908b95d-dcdc-4e9a-b6c0-cbe5bcaafe51"
   },
   "outputs": [
    {
     "data": {
      "text/plain": [
       "Product_Id                   0\n",
       "Product_Weight               0\n",
       "Product_Sugar_Content        0\n",
       "Product_Allocated_Area       0\n",
       "Product_Type                 0\n",
       "Product_MRP                  0\n",
       "Store_Id                     0\n",
       "Store_Establishment_Year     0\n",
       "Store_Size                   0\n",
       "Store_Location_City_Type     0\n",
       "Store_Type                   0\n",
       "Product_Store_Sales_Total    0\n",
       "dtype: int64"
      ]
     },
     "execution_count": 8,
     "metadata": {},
     "output_type": "execute_result"
    }
   ],
   "source": [
    "data.isnull().sum()"
   ]
  },
  {
   "cell_type": "markdown",
   "id": "67f3b178",
   "metadata": {
    "id": "67f3b178"
   },
   "source": [
    "**Observation:**\n",
    "- XXX"
   ]
  },
  {
   "cell_type": "markdown",
   "id": "fdbb44b7",
   "metadata": {},
   "source": [
    "### **Check for any duplicates **"
   ]
  },
  {
   "cell_type": "code",
   "execution_count": null,
   "id": "489451d2",
   "metadata": {
    "colab": {
     "base_uri": "https://localhost:8080/"
    },
    "id": "489451d2",
    "outputId": "ea6675c1-8246-4d50-e95b-28e905387124"
   },
   "outputs": [
    {
     "data": {
      "text/plain": [
       "0"
      ]
     },
     "execution_count": 9,
     "metadata": {},
     "output_type": "execute_result"
    }
   ],
   "source": [
    "# Checking for duplicate values\n",
    "data.duplicated().sum()"
   ]
  },
  {
   "cell_type": "markdown",
   "id": "22487f52",
   "metadata": {
    "id": "22487f52"
   },
   "source": [
    "**Observation:**\n",
    "- XXXX"
   ]
  },
  {
   "cell_type": "markdown",
   "id": "9e76c12a",
   "metadata": {
    "id": "9e76c12a"
   },
   "source": [
    "--------\n",
    "## **Exploratory Data Analysis**\n",
    "---------"
   ]
  },
  {
   "cell_type": "markdown",
   "id": "f4ab23ef",
   "metadata": {
    "id": "f4ab23ef"
   },
   "source": [
    "### **Statistical Summary**"
   ]
  },
  {
   "cell_type": "code",
   "execution_count": null,
   "id": "ae93b01c",
   "metadata": {
    "colab": {
     "base_uri": "https://localhost:8080/",
     "height": 426
    },
    "id": "ae93b01c",
    "outputId": "71139946-8736-4391-bbe3-448c71a68376"
   },
   "outputs": [
    {
     "data": {
      "text/html": [
       "<div>\n",
       "<style scoped>\n",
       "    .dataframe tbody tr th:only-of-type {\n",
       "        vertical-align: middle;\n",
       "    }\n",
       "\n",
       "    .dataframe tbody tr th {\n",
       "        vertical-align: top;\n",
       "    }\n",
       "\n",
       "    .dataframe thead th {\n",
       "        text-align: right;\n",
       "    }\n",
       "</style>\n",
       "<table border=\"1\" class=\"dataframe\">\n",
       "  <thead>\n",
       "    <tr style=\"text-align: right;\">\n",
       "      <th></th>\n",
       "      <th>count</th>\n",
       "      <th>unique</th>\n",
       "      <th>top</th>\n",
       "      <th>freq</th>\n",
       "      <th>mean</th>\n",
       "      <th>std</th>\n",
       "      <th>min</th>\n",
       "      <th>25%</th>\n",
       "      <th>50%</th>\n",
       "      <th>75%</th>\n",
       "      <th>max</th>\n",
       "    </tr>\n",
       "  </thead>\n",
       "  <tbody>\n",
       "    <tr>\n",
       "      <th>Product_Id</th>\n",
       "      <td>8763</td>\n",
       "      <td>8763</td>\n",
       "      <td>FD6114</td>\n",
       "      <td>1</td>\n",
       "      <td>NaN</td>\n",
       "      <td>NaN</td>\n",
       "      <td>NaN</td>\n",
       "      <td>NaN</td>\n",
       "      <td>NaN</td>\n",
       "      <td>NaN</td>\n",
       "      <td>NaN</td>\n",
       "    </tr>\n",
       "    <tr>\n",
       "      <th>Product_Weight</th>\n",
       "      <td>8763.0</td>\n",
       "      <td>NaN</td>\n",
       "      <td>NaN</td>\n",
       "      <td>NaN</td>\n",
       "      <td>12.653792</td>\n",
       "      <td>2.21732</td>\n",
       "      <td>4.0</td>\n",
       "      <td>11.15</td>\n",
       "      <td>12.66</td>\n",
       "      <td>14.18</td>\n",
       "      <td>22.0</td>\n",
       "    </tr>\n",
       "    <tr>\n",
       "      <th>Product_Sugar_Content</th>\n",
       "      <td>8763</td>\n",
       "      <td>4</td>\n",
       "      <td>Low Sugar</td>\n",
       "      <td>4885</td>\n",
       "      <td>NaN</td>\n",
       "      <td>NaN</td>\n",
       "      <td>NaN</td>\n",
       "      <td>NaN</td>\n",
       "      <td>NaN</td>\n",
       "      <td>NaN</td>\n",
       "      <td>NaN</td>\n",
       "    </tr>\n",
       "    <tr>\n",
       "      <th>Product_Allocated_Area</th>\n",
       "      <td>8763.0</td>\n",
       "      <td>NaN</td>\n",
       "      <td>NaN</td>\n",
       "      <td>NaN</td>\n",
       "      <td>0.068786</td>\n",
       "      <td>0.048204</td>\n",
       "      <td>0.004</td>\n",
       "      <td>0.031</td>\n",
       "      <td>0.056</td>\n",
       "      <td>0.096</td>\n",
       "      <td>0.298</td>\n",
       "    </tr>\n",
       "    <tr>\n",
       "      <th>Product_Type</th>\n",
       "      <td>8763</td>\n",
       "      <td>16</td>\n",
       "      <td>Fruits and Vegetables</td>\n",
       "      <td>1249</td>\n",
       "      <td>NaN</td>\n",
       "      <td>NaN</td>\n",
       "      <td>NaN</td>\n",
       "      <td>NaN</td>\n",
       "      <td>NaN</td>\n",
       "      <td>NaN</td>\n",
       "      <td>NaN</td>\n",
       "    </tr>\n",
       "    <tr>\n",
       "      <th>Product_MRP</th>\n",
       "      <td>8763.0</td>\n",
       "      <td>NaN</td>\n",
       "      <td>NaN</td>\n",
       "      <td>NaN</td>\n",
       "      <td>147.032539</td>\n",
       "      <td>30.69411</td>\n",
       "      <td>31.0</td>\n",
       "      <td>126.16</td>\n",
       "      <td>146.74</td>\n",
       "      <td>167.585</td>\n",
       "      <td>266.0</td>\n",
       "    </tr>\n",
       "    <tr>\n",
       "      <th>Store_Id</th>\n",
       "      <td>8763</td>\n",
       "      <td>4</td>\n",
       "      <td>OUT004</td>\n",
       "      <td>4676</td>\n",
       "      <td>NaN</td>\n",
       "      <td>NaN</td>\n",
       "      <td>NaN</td>\n",
       "      <td>NaN</td>\n",
       "      <td>NaN</td>\n",
       "      <td>NaN</td>\n",
       "      <td>NaN</td>\n",
       "    </tr>\n",
       "    <tr>\n",
       "      <th>Store_Establishment_Year</th>\n",
       "      <td>8763.0</td>\n",
       "      <td>NaN</td>\n",
       "      <td>NaN</td>\n",
       "      <td>NaN</td>\n",
       "      <td>2002.032751</td>\n",
       "      <td>8.388381</td>\n",
       "      <td>1987.0</td>\n",
       "      <td>1998.0</td>\n",
       "      <td>2009.0</td>\n",
       "      <td>2009.0</td>\n",
       "      <td>2009.0</td>\n",
       "    </tr>\n",
       "    <tr>\n",
       "      <th>Store_Size</th>\n",
       "      <td>8763</td>\n",
       "      <td>3</td>\n",
       "      <td>Medium</td>\n",
       "      <td>6025</td>\n",
       "      <td>NaN</td>\n",
       "      <td>NaN</td>\n",
       "      <td>NaN</td>\n",
       "      <td>NaN</td>\n",
       "      <td>NaN</td>\n",
       "      <td>NaN</td>\n",
       "      <td>NaN</td>\n",
       "    </tr>\n",
       "    <tr>\n",
       "      <th>Store_Location_City_Type</th>\n",
       "      <td>8763</td>\n",
       "      <td>3</td>\n",
       "      <td>Tier 2</td>\n",
       "      <td>6262</td>\n",
       "      <td>NaN</td>\n",
       "      <td>NaN</td>\n",
       "      <td>NaN</td>\n",
       "      <td>NaN</td>\n",
       "      <td>NaN</td>\n",
       "      <td>NaN</td>\n",
       "      <td>NaN</td>\n",
       "    </tr>\n",
       "    <tr>\n",
       "      <th>Store_Type</th>\n",
       "      <td>8763</td>\n",
       "      <td>4</td>\n",
       "      <td>Supermarket Type2</td>\n",
       "      <td>4676</td>\n",
       "      <td>NaN</td>\n",
       "      <td>NaN</td>\n",
       "      <td>NaN</td>\n",
       "      <td>NaN</td>\n",
       "      <td>NaN</td>\n",
       "      <td>NaN</td>\n",
       "      <td>NaN</td>\n",
       "    </tr>\n",
       "    <tr>\n",
       "      <th>Product_Store_Sales_Total</th>\n",
       "      <td>8763.0</td>\n",
       "      <td>NaN</td>\n",
       "      <td>NaN</td>\n",
       "      <td>NaN</td>\n",
       "      <td>3464.00364</td>\n",
       "      <td>1065.630494</td>\n",
       "      <td>33.0</td>\n",
       "      <td>2761.715</td>\n",
       "      <td>3452.34</td>\n",
       "      <td>4145.165</td>\n",
       "      <td>8000.0</td>\n",
       "    </tr>\n",
       "  </tbody>\n",
       "</table>\n",
       "</div>"
      ],
      "text/plain": [
       "                            count unique                    top  freq  \\\n",
       "Product_Id                   8763   8763                 FD6114     1   \n",
       "Product_Weight             8763.0    NaN                    NaN   NaN   \n",
       "Product_Sugar_Content        8763      4              Low Sugar  4885   \n",
       "Product_Allocated_Area     8763.0    NaN                    NaN   NaN   \n",
       "Product_Type                 8763     16  Fruits and Vegetables  1249   \n",
       "Product_MRP                8763.0    NaN                    NaN   NaN   \n",
       "Store_Id                     8763      4                 OUT004  4676   \n",
       "Store_Establishment_Year   8763.0    NaN                    NaN   NaN   \n",
       "Store_Size                   8763      3                 Medium  6025   \n",
       "Store_Location_City_Type     8763      3                 Tier 2  6262   \n",
       "Store_Type                   8763      4      Supermarket Type2  4676   \n",
       "Product_Store_Sales_Total  8763.0    NaN                    NaN   NaN   \n",
       "\n",
       "                                  mean          std     min       25%  \\\n",
       "Product_Id                         NaN          NaN     NaN       NaN   \n",
       "Product_Weight               12.653792      2.21732     4.0     11.15   \n",
       "Product_Sugar_Content              NaN          NaN     NaN       NaN   \n",
       "Product_Allocated_Area        0.068786     0.048204   0.004     0.031   \n",
       "Product_Type                       NaN          NaN     NaN       NaN   \n",
       "Product_MRP                 147.032539     30.69411    31.0    126.16   \n",
       "Store_Id                           NaN          NaN     NaN       NaN   \n",
       "Store_Establishment_Year   2002.032751     8.388381  1987.0    1998.0   \n",
       "Store_Size                         NaN          NaN     NaN       NaN   \n",
       "Store_Location_City_Type           NaN          NaN     NaN       NaN   \n",
       "Store_Type                         NaN          NaN     NaN       NaN   \n",
       "Product_Store_Sales_Total   3464.00364  1065.630494    33.0  2761.715   \n",
       "\n",
       "                               50%       75%     max  \n",
       "Product_Id                     NaN       NaN     NaN  \n",
       "Product_Weight               12.66     14.18    22.0  \n",
       "Product_Sugar_Content          NaN       NaN     NaN  \n",
       "Product_Allocated_Area       0.056     0.096   0.298  \n",
       "Product_Type                   NaN       NaN     NaN  \n",
       "Product_MRP                 146.74   167.585   266.0  \n",
       "Store_Id                       NaN       NaN     NaN  \n",
       "Store_Establishment_Year    2009.0    2009.0  2009.0  \n",
       "Store_Size                     NaN       NaN     NaN  \n",
       "Store_Location_City_Type       NaN       NaN     NaN  \n",
       "Store_Type                     NaN       NaN     NaN  \n",
       "Product_Store_Sales_Total  3452.34  4145.165  8000.0  "
      ]
     },
     "execution_count": 10,
     "metadata": {},
     "output_type": "execute_result"
    }
   ],
   "source": [
    "data.describe(include = \"all\").T"
   ]
  },
  {
   "cell_type": "markdown",
   "id": "4a598b09",
   "metadata": {
    "id": "4a598b09"
   },
   "source": [
    "**Observations:**\n",
    "- XXXX"
   ]
  },
  {
   "cell_type": "markdown",
   "id": "12651542",
   "metadata": {
    "id": "12651542"
   },
   "source": [
    "**Find the count of each unique category in each of the categorical variables**"
   ]
  },
  {
   "cell_type": "code",
   "execution_count": null,
   "id": "75b8c38d",
   "metadata": {
    "colab": {
     "base_uri": "https://localhost:8080/"
    },
    "id": "75b8c38d",
    "outputId": "0d49a6b6-144b-48a7-84fb-219dc2579cbb"
   },
   "outputs": [
    {
     "name": "stdout",
     "output_type": "stream",
     "text": [
      "FD6114    1\n",
      "FD8349    1\n",
      "DR3530    1\n",
      "NC5926    1\n",
      "FD3575    1\n",
      "         ..\n",
      "FD2396    1\n",
      "FD681     1\n",
      "FD8077    1\n",
      "DR3118    1\n",
      "FD306     1\n",
      "Name: Product_Id, Length: 8763, dtype: int64\n",
      "--------------------------------------------------\n",
      "Low Sugar    4885\n",
      "Regular      2251\n",
      "No Sugar     1519\n",
      "reg           108\n",
      "Name: Product_Sugar_Content, dtype: int64\n",
      "--------------------------------------------------\n",
      "Fruits and Vegetables    1249\n",
      "Snack Foods              1149\n",
      "Frozen Foods              811\n",
      "Dairy                     796\n",
      "Household                 740\n",
      "Baking Goods              716\n",
      "Canned                    677\n",
      "Health and Hygiene        628\n",
      "Meat                      618\n",
      "Soft Drinks               519\n",
      "Breads                    200\n",
      "Hard Drinks               186\n",
      "Others                    151\n",
      "Starchy Foods             141\n",
      "Breakfast                 106\n",
      "Seafood                    76\n",
      "Name: Product_Type, dtype: int64\n",
      "--------------------------------------------------\n",
      "OUT004    4676\n",
      "OUT001    1586\n",
      "OUT003    1349\n",
      "OUT002    1152\n",
      "Name: Store_Id, dtype: int64\n",
      "--------------------------------------------------\n",
      "Medium    6025\n",
      "High      1586\n",
      "Small     1152\n",
      "Name: Store_Size, dtype: int64\n",
      "--------------------------------------------------\n",
      "Tier 2    6262\n",
      "Tier 1    1349\n",
      "Tier 3    1152\n",
      "Name: Store_Location_City_Type, dtype: int64\n",
      "--------------------------------------------------\n",
      "Supermarket Type2     4676\n",
      "Supermarket Type1     1586\n",
      "Departmental Store    1349\n",
      "Food Mart             1152\n",
      "Name: Store_Type, dtype: int64\n",
      "--------------------------------------------------\n"
     ]
    }
   ],
   "source": [
    "cat_col = list(data.select_dtypes(\"object\").columns)\n",
    "\n",
    "for column in cat_col:\n",
    "    print(data[column].value_counts())\n",
    "    print(\"-\" * 50)"
   ]
  },
  {
   "cell_type": "markdown",
   "id": "0d861520",
   "metadata": {
    "id": "0d861520"
   },
   "source": [
    "**Observations:**\n",
    "- XXX"
   ]
  },
  {
   "cell_type": "markdown",
   "id": "1ec91e09",
   "metadata": {},
   "source": [
    "### **If there are columns that have slightly different names but should be brought together....**"
   ]
  },
  {
   "cell_type": "code",
   "execution_count": null,
   "id": "f22d9e30",
   "metadata": {
    "id": "f22d9e30"
   },
   "outputs": [],
   "source": [
    "# Replacing reg with Regular in Product_Sugar_Content feature\n",
    "data.Product_Sugar_Content.replace(to_replace = [\"reg\"], value = [\"Regular\"], inplace = True)"
   ]
  },
  {
   "cell_type": "code",
   "execution_count": null,
   "id": "9468d673",
   "metadata": {
    "colab": {
     "base_uri": "https://localhost:8080/"
    },
    "id": "9468d673",
    "outputId": "99764a49-0646-4cf4-cd5a-b791364df07a"
   },
   "outputs": [
    {
     "data": {
      "text/plain": [
       "Low Sugar    4885\n",
       "Regular      2359\n",
       "No Sugar     1519\n",
       "Name: Product_Sugar_Content, dtype: int64"
      ]
     },
     "execution_count": 13,
     "metadata": {},
     "output_type": "execute_result"
    }
   ],
   "source": [
    "data.Product_Sugar_Content.value_counts()"
   ]
  },
  {
   "cell_type": "markdown",
   "id": "2bf4362a",
   "metadata": {
    "id": "2bf4362a"
   },
   "source": [
    "**Observation:**\n",
    "- DID IT WORK?"
   ]
  },
  {
   "cell_type": "markdown",
   "id": "51a4fb9b",
   "metadata": {
    "id": "51a4fb9b"
   },
   "source": [
    "**If a column is fully unique, drop it...**"
   ]
  },
  {
   "cell_type": "code",
   "execution_count": null,
   "id": "c64abe2e",
   "metadata": {
    "id": "c64abe2e"
   },
   "outputs": [],
   "source": [
    "data = data.drop([\"COLUMN_NAME\"], axis = 1)"
   ]
  },
  {
   "cell_type": "code",
   "execution_count": null,
   "id": "3ba93318",
   "metadata": {
    "colab": {
     "base_uri": "https://localhost:8080/",
     "height": 357
    },
    "id": "3ba93318",
    "outputId": "3426192b-718a-4bc4-8601-3d7f0854e5c8"
   },
   "outputs": [
    {
     "data": {
      "text/html": [
       "<div>\n",
       "<style scoped>\n",
       "    .dataframe tbody tr th:only-of-type {\n",
       "        vertical-align: middle;\n",
       "    }\n",
       "\n",
       "    .dataframe tbody tr th {\n",
       "        vertical-align: top;\n",
       "    }\n",
       "\n",
       "    .dataframe thead th {\n",
       "        text-align: right;\n",
       "    }\n",
       "</style>\n",
       "<table border=\"1\" class=\"dataframe\">\n",
       "  <thead>\n",
       "    <tr style=\"text-align: right;\">\n",
       "      <th></th>\n",
       "      <th>Product_Weight</th>\n",
       "      <th>Product_Sugar_Content</th>\n",
       "      <th>Product_Allocated_Area</th>\n",
       "      <th>Product_Type</th>\n",
       "      <th>Product_MRP</th>\n",
       "      <th>Store_Id</th>\n",
       "      <th>Store_Establishment_Year</th>\n",
       "      <th>Store_Size</th>\n",
       "      <th>Store_Location_City_Type</th>\n",
       "      <th>Store_Type</th>\n",
       "      <th>Product_Store_Sales_Total</th>\n",
       "      <th>Product_Id_char</th>\n",
       "    </tr>\n",
       "  </thead>\n",
       "  <tbody>\n",
       "    <tr>\n",
       "      <th>0</th>\n",
       "      <td>12.66</td>\n",
       "      <td>Low Sugar</td>\n",
       "      <td>0.027</td>\n",
       "      <td>Frozen Foods</td>\n",
       "      <td>117.08</td>\n",
       "      <td>OUT004</td>\n",
       "      <td>2009</td>\n",
       "      <td>Medium</td>\n",
       "      <td>Tier 2</td>\n",
       "      <td>Supermarket Type2</td>\n",
       "      <td>2842.40</td>\n",
       "      <td>FD</td>\n",
       "    </tr>\n",
       "    <tr>\n",
       "      <th>1</th>\n",
       "      <td>16.54</td>\n",
       "      <td>Low Sugar</td>\n",
       "      <td>0.144</td>\n",
       "      <td>Dairy</td>\n",
       "      <td>171.43</td>\n",
       "      <td>OUT003</td>\n",
       "      <td>1999</td>\n",
       "      <td>Medium</td>\n",
       "      <td>Tier 1</td>\n",
       "      <td>Departmental Store</td>\n",
       "      <td>4830.02</td>\n",
       "      <td>FD</td>\n",
       "    </tr>\n",
       "    <tr>\n",
       "      <th>2</th>\n",
       "      <td>14.28</td>\n",
       "      <td>Regular</td>\n",
       "      <td>0.031</td>\n",
       "      <td>Canned</td>\n",
       "      <td>162.08</td>\n",
       "      <td>OUT001</td>\n",
       "      <td>1987</td>\n",
       "      <td>High</td>\n",
       "      <td>Tier 2</td>\n",
       "      <td>Supermarket Type1</td>\n",
       "      <td>4130.16</td>\n",
       "      <td>FD</td>\n",
       "    </tr>\n",
       "    <tr>\n",
       "      <th>3</th>\n",
       "      <td>12.10</td>\n",
       "      <td>Low Sugar</td>\n",
       "      <td>0.112</td>\n",
       "      <td>Baking Goods</td>\n",
       "      <td>186.31</td>\n",
       "      <td>OUT001</td>\n",
       "      <td>1987</td>\n",
       "      <td>High</td>\n",
       "      <td>Tier 2</td>\n",
       "      <td>Supermarket Type1</td>\n",
       "      <td>4132.18</td>\n",
       "      <td>FD</td>\n",
       "    </tr>\n",
       "    <tr>\n",
       "      <th>4</th>\n",
       "      <td>9.57</td>\n",
       "      <td>No Sugar</td>\n",
       "      <td>0.010</td>\n",
       "      <td>Health and Hygiene</td>\n",
       "      <td>123.67</td>\n",
       "      <td>OUT002</td>\n",
       "      <td>1998</td>\n",
       "      <td>Small</td>\n",
       "      <td>Tier 3</td>\n",
       "      <td>Food Mart</td>\n",
       "      <td>2279.36</td>\n",
       "      <td>NC</td>\n",
       "    </tr>\n",
       "  </tbody>\n",
       "</table>\n",
       "</div>"
      ],
      "text/plain": [
       "   Product_Weight Product_Sugar_Content  Product_Allocated_Area  \\\n",
       "0           12.66             Low Sugar                   0.027   \n",
       "1           16.54             Low Sugar                   0.144   \n",
       "2           14.28               Regular                   0.031   \n",
       "3           12.10             Low Sugar                   0.112   \n",
       "4            9.57              No Sugar                   0.010   \n",
       "\n",
       "         Product_Type  Product_MRP Store_Id  Store_Establishment_Year  \\\n",
       "0        Frozen Foods       117.08   OUT004                      2009   \n",
       "1               Dairy       171.43   OUT003                      1999   \n",
       "2              Canned       162.08   OUT001                      1987   \n",
       "3        Baking Goods       186.31   OUT001                      1987   \n",
       "4  Health and Hygiene       123.67   OUT002                      1998   \n",
       "\n",
       "  Store_Size Store_Location_City_Type          Store_Type  \\\n",
       "0     Medium                   Tier 2   Supermarket Type2   \n",
       "1     Medium                   Tier 1  Departmental Store   \n",
       "2       High                   Tier 2   Supermarket Type1   \n",
       "3       High                   Tier 2   Supermarket Type1   \n",
       "4      Small                   Tier 3           Food Mart   \n",
       "\n",
       "   Product_Store_Sales_Total Product_Id_char  \n",
       "0                    2842.40              FD  \n",
       "1                    4830.02              FD  \n",
       "2                    4130.16              FD  \n",
       "3                    4132.18              FD  \n",
       "4                    2279.36              NC  "
      ]
     },
     "execution_count": 20,
     "metadata": {},
     "output_type": "execute_result"
    }
   ],
   "source": [
    "data.head()"
   ]
  },
  {
   "cell_type": "markdown",
   "id": "21341d2b",
   "metadata": {
    "id": "21341d2b"
   },
   "source": [
    "----------\n",
    "## **Univariate Analysis**\n",
    "----------"
   ]
  },
  {
   "cell_type": "markdown",
   "id": "6a1979a2",
   "metadata": {},
   "source": [
    "### **Create boxplots and histograms to explore and visualize data**"
   ]
  },
  {
   "cell_type": "code",
   "execution_count": null,
   "id": "c1ebcb3d",
   "metadata": {
    "id": "c1ebcb3d"
   },
   "outputs": [],
   "source": [
    "# This method creates a boxplot and a histogram along the same scale\n",
    "\n",
    "def histogram_boxplot(data, feature, figsize = (12, 7), kde = False, bins = None):\n",
    "    \"\"\"\n",
    "    Boxplot and histogram combined\n",
    "\n",
    "    data: dataframe\n",
    "    feature: dataframe column\n",
    "    figsize: size of figure (default (12,7))\n",
    "    kde: whether to the show density curve (default False)\n",
    "    bins: number of bins for histogram (default None)\n",
    "    \"\"\"\n",
    "    f2, (ax_box2, ax_hist2) = plt.subplots(\n",
    "        nrows = 2,  # Number of rows of the subplot grid = 2\n",
    "        sharex = True,  # x-axis will be shared among all subplots\n",
    "        gridspec_kw = {\"height_ratios\": (0.25, 0.75)},\n",
    "        figsize = figsize,\n",
    "    )  # Creating the 2 subplots\n",
    "    sns.boxplot(\n",
    "        data = data, x = feature, ax = ax_box2, showmeans = True, color = \"violet\"\n",
    "    )  # Boxplot will be created and a star will indicate the mean value of the column\n",
    "    sns.histplot(\n",
    "        data = data, x = feature, kde = kde, ax = ax_hist2, bins = bins, palette = \"winter\"\n",
    "    ) if bins else sns.histplot(\n",
    "        data = data, x = feature, kde = kde, ax = ax_hist2\n",
    "    )  # For histogram\n",
    "    ax_hist2.axvline(\n",
    "        data[feature].mean(), color = \"green\", linestyle = \"--\"\n",
    "    )  # Add mean to the histogram\n",
    "    ax_hist2.axvline(\n",
    "        data[feature].median(), color = \"black\", linestyle = \"-\"\n",
    "    )  # Add median to the histogram"
   ]
  },
  {
   "cell_type": "markdown",
   "id": "afe06238",
   "metadata": {
    "id": "afe06238"
   },
   "source": [
    "---------\n",
    "**Choose a column to study**\n",
    "----------"
   ]
  },
  {
   "cell_type": "code",
   "execution_count": null,
   "id": "dbc43098",
   "metadata": {
    "colab": {
     "base_uri": "https://localhost:8080/"
    },
    "id": "dbc43098",
    "outputId": "4116ccb8-01cd-4d49-b4fb-cc78323d1aa9"
   },
   "outputs": [
    {
     "data": {
      "image/png": "[encoded data removed]",
      "text/plain": [
       "<Figure size 864x504 with 2 Axes>"
      ]
     },
     "metadata": {
      "needs_background": "light"
     },
     "output_type": "display_data"
    }
   ],
   "source": [
    "histogram_boxplot(data, \"COLUMN_NAME\")"
   ]
  },
  {
   "cell_type": "markdown",
   "id": "431fda95",
   "metadata": {
    "id": "431fda95"
   },
   "source": [
    "**Observation:**\n",
    "- XXXXX"
   ]
  },
  {
   "cell_type": "markdown",
   "id": "9a38d5b3",
   "metadata": {},
   "source": [
    "-------\n",
    "## **Visualize the various types under a category type**\n",
    "_______"
   ]
  },
  {
   "cell_type": "code",
   "execution_count": null,
   "id": "1a1f7bdd",
   "metadata": {
    "id": "1a1f7bdd"
   },
   "outputs": [],
   "source": [
    "# Method to create labeled barplots\n",
    "\n",
    "def labeled_barplot(data, feature, perc = False, n = None):\n",
    "    \"\"\"\n",
    "    Barplot with percentage at the top\n",
    "\n",
    "    data: dataframe\n",
    "    feature: dataframe column\n",
    "    perc: whether to display percentages instead of count (default is False)\n",
    "    n: displays the top n category levels (default is None, i.e., display all levels)\n",
    "    \"\"\"\n",
    "\n",
    "    total = len(data[feature])  # Length of the column\n",
    "    count = data[feature].nunique()\n",
    "    if n is None:\n",
    "        plt.figure(figsize = (count + 1, 5))\n",
    "    else:\n",
    "        plt.figure(figsize = (n + 1, 5))\n",
    "\n",
    "    plt.xticks(rotation = 90, fontsize = 15)\n",
    "    ax = sns.countplot(\n",
    "        data = data,\n",
    "        x = feature,\n",
    "        palette = \"Paired\",\n",
    "        order = data[feature].value_counts().index[:n].sort_values(),\n",
    "    )\n",
    "\n",
    "    for p in ax.patches:\n",
    "        if perc == True:\n",
    "            label = \"{:.1f}%\".format(\n",
    "                100 * p.get_height() / total\n",
    "            )  # Percentage of each class of the category\n",
    "        else:\n",
    "            label = p.get_height()  # Count of each level of the category\n",
    "\n",
    "        x = p.get_x() + p.get_width() / 2  # Width of the plot\n",
    "        y = p.get_height()  # Height of the plot\n",
    "\n",
    "        ax.annotate(\n",
    "            label,\n",
    "            (x, y),\n",
    "            ha = \"center\",\n",
    "            va = \"center\",\n",
    "            size = 12,\n",
    "            xytext = (0, 5),\n",
    "            textcoords = \"offset points\",\n",
    "        )  # Annotate the percentage\n",
    "\n",
    "    plt.show()  # Show the plot"
   ]
  },
  {
   "cell_type": "markdown",
   "id": "af2e3e97",
   "metadata": {
    "id": "af2e3e97"
   },
   "source": [
    "**A Category with multiple types**"
   ]
  },
  {
   "cell_type": "code",
   "execution_count": null,
   "id": "1f4128d2",
   "metadata": {
    "colab": {
     "base_uri": "https://localhost:8080/"
    },
    "id": "1f4128d2",
    "outputId": "a9ebecba-7fb3-48e2-b2dd-fa1eebfc6b78"
   },
   "outputs": [
    {
     "data": {
      "image/png": "[encoded data removed]",
      "text/plain": [
       "<Figure size 288x360 with 1 Axes>"
      ]
     },
     "metadata": {
      "needs_background": "light"
     },
     "output_type": "display_data"
    }
   ],
   "source": [
    "labeled_barplot(data, \"COLUMN_NAME\", perc = True)"
   ]
  },
  {
   "cell_type": "markdown",
   "id": "058c0cf9",
   "metadata": {
    "id": "058c0cf9"
   },
   "source": [
    "**Observations:**\n",
    "- xxx"
   ]
  },
  {
   "cell_type": "markdown",
   "id": "46f0b9af",
   "metadata": {
    "id": "46f0b9af"
   },
   "source": [
    "----------\n",
    "### **Bivariate Analysis**\n",
    "----------"
   ]
  },
  {
   "cell_type": "markdown",
   "id": "cbdfbf46",
   "metadata": {},
   "source": [
    "### **Correlation Matrix as heatmap**"
   ]
  },
  {
   "cell_type": "code",
   "execution_count": null,
   "id": "896fd22b",
   "metadata": {
    "colab": {
     "base_uri": "https://localhost:8080/",
     "height": 442
    },
    "id": "896fd22b",
    "outputId": "c6c19002-b83f-4ce9-e05f-2bc435faadd6"
   },
   "outputs": [
    {
     "data": {
      "image/png": "[encoded data removed]",
      "text/plain": [
       "<Figure size 720x360 with 2 Axes>"
      ]
     },
     "metadata": {
      "needs_background": "light"
     },
     "output_type": "display_data"
    }
   ],
   "source": [
    "cols_list = data.select_dtypes(include = np.number).columns.tolist()\n",
    "\n",
    "plt.figure(figsize = (10, 5))\n",
    "sns.heatmap(\n",
    "    data[cols_list].corr(), annot = True, vmin = -1, vmax = 1, fmt = \".2f\", cmap = \"Spectral\"\n",
    ")\n",
    "plt.show()"
   ]
  },
  {
   "cell_type": "markdown",
   "id": "033113bf",
   "metadata": {
    "id": "033113bf"
   },
   "source": [
    "**Observations:**\n",
    "- xxxxx"
   ]
  },
  {
   "cell_type": "markdown",
   "id": "02b68b47",
   "metadata": {
    "id": "02b68b47"
   },
   "source": [
    "**Visualize the distribution of the target categorical variable (dependent or experimental, all depending on scope of the project) with the numeric columns with a SCATTERPLOT** "
   ]
  },
  {
   "cell_type": "code",
   "execution_count": null,
   "id": "12daa38c",
   "metadata": {
    "colab": {
     "base_uri": "https://localhost:8080/",
     "height": 389
    },
    "id": "12daa38c",
    "outputId": "b7ec860f-b64c-4fde-ddd0-4d27e0e7e99a"
   },
   "outputs": [
    {
     "data": {
      "image/png": "[encoded data removed]",
      "text/plain": [
       "<Figure size 576x432 with 1 Axes>"
      ]
     },
     "metadata": {
      "needs_background": "light"
     },
     "output_type": "display_data"
    }
   ],
   "source": [
    "plt.figure(figsize = [8, 6])\n",
    "sns.scatterplot(x = data.Product_Weight, y = data.Product_Store_Sales_Total)\n",
    "plt.show()"
   ]
  },
  {
   "cell_type": "markdown",
   "id": "20f889af",
   "metadata": {
    "id": "20f889af"
   },
   "source": [
    "**Observation:**\n",
    "- xxx "
   ]
  },
  {
   "cell_type": "markdown",
   "id": "9292a578",
   "metadata": {
    "id": "9292a578"
   },
   "source": [
    "-------\n",
    "## **Visualize relationships across multiple classes under a multi-class category against the target variable**\n",
    "-------"
   ]
  },
  {
   "cell_type": "code",
   "execution_count": null,
   "id": "ca6cdaaa",
   "metadata": {
    "colab": {
     "base_uri": "https://localhost:8080/",
     "height": 606
    },
    "id": "ca6cdaaa",
    "outputId": "ce87a385-40c7-471d-80e8-9447aeb8933f"
   },
   "outputs": [
    {
     "data": {
      "image/png": "[encoded data removed]",
      "text/plain": [
       "<Figure size 1008x576 with 1 Axes>"
      ]
     },
     "metadata": {
      "needs_background": "light"
     },
     "output_type": "display_data"
    }
   ],
   "source": [
    "df_NEW_DATAFRAME_1 = data.groupby([\"MULTICLASS_COLUMN_NAME\"], as_index = False)[\n",
    "    \"TARGET_VARIABLE\"\n",
    "].sum()\n",
    "plt.figure(figsize = [14, 8])\n",
    "plt.xticks(rotation = 90)\n",
    "a = sns.barplot(x = df_NEW_DATAFRAME_1, y = df_NEW_DATAFRAME_1.TARGET_VARIABLE)\n",
    "a.set_xlabel(\"Column Label\")\n",
    "a.set_ylabel(\"Target variable name\")\n",
    "plt.show()"
   ]
  },
  {
   "cell_type": "markdown",
   "id": "ff9725b5",
   "metadata": {
    "id": "ff9725b5"
   },
   "source": [
    "**Observations:**\n",
    "- xxx"
   ]
  },
  {
   "cell_type": "markdown",
   "id": "e8ecab60",
   "metadata": {
    "id": "e8ecab60"
   },
   "source": [
    "---------\n",
    "**Visualize the distribution of the target variable with the other multi-class categorical columns (MULTICLASS_COLUMN_NAME)**\n",
    "---------"
   ]
  },
  {
   "cell_type": "code",
   "execution_count": null,
   "id": "70fccb54",
   "metadata": {
    "colab": {
     "base_uri": "https://localhost:8080/",
     "height": 543
    },
    "id": "70fccb54",
    "outputId": "fc67ace6-508c-4b7c-8a70-43ecd174d27d"
   },
   "outputs": [
    {
     "data": {
      "image/png": "[encoded data removed]",
      "text/plain": [
       "<Figure size 1008x576 with 1 Axes>"
      ]
     },
     "metadata": {
      "needs_background": "light"
     },
     "output_type": "display_data"
    }
   ],
   "source": [
    "plt.figure(figsize = [14, 8])\n",
    "sns.boxplot(data.MULTICLASS_COLUMN_NAME, data.TARGET_VARIABLE)\n",
    "plt.xticks(rotation = 90)\n",
    "plt.title(\"TITLE\")\n",
    "plt.xlabel(\"X axis labl\")\n",
    "plt.ylabel(\"Target Variable Label\")\n",
    "plt.show()"
   ]
  },
  {
   "cell_type": "markdown",
   "id": "0322eaa5",
   "metadata": {
    "id": "0322eaa5"
   },
   "source": [
    "**Observations:**\n",
    "- xxxx"
   ]
  },
  {
   "cell_type": "markdown",
   "id": "02523ef7",
   "metadata": {
    "id": "02523ef7"
   },
   "source": [
    "-------\n",
    "## **Visualize relationships between columns**\n",
    "---------"
   ]
  },
  {
   "cell_type": "markdown",
   "id": "d415aff8",
   "metadata": {
    "id": "d415aff8"
   },
   "source": [
    "CHANGE THIS\n",
    "\n",
    "**Generally certain product types will have higher product weight than others. Let's have a look.**"
   ]
  },
  {
   "cell_type": "code",
   "execution_count": null,
   "id": "f79b3e0d",
   "metadata": {
    "colab": {
     "base_uri": "https://localhost:8080/",
     "height": 611
    },
    "id": "f79b3e0d",
    "outputId": "305f0e58-8b28-449d-a639-5ea1810e5c79"
   },
   "outputs": [
    {
     "data": {
      "image/png": "[encoded data removed]",
      "text/plain": [
       "<Figure size 1008x576 with 1 Axes>"
      ]
     },
     "metadata": {
      "needs_background": "light"
     },
     "output_type": "display_data"
    }
   ],
   "source": [
    "plt.figure(figsize = [14, 8])\n",
    "sns.boxplot(data.Product_Type, data.Product_Weight)\n",
    "plt.xticks(rotation = 90)\n",
    "plt.title(\"Boxplot - Product_Type Vs Product_Weight\")\n",
    "plt.xlabel(\"Types of Products\")\n",
    "plt.ylabel(\"Product_Weight\")\n",
    "plt.show()"
   ]
  },
  {
   "cell_type": "markdown",
   "id": "a6de538e",
   "metadata": {
    "id": "a6de538e"
   },
   "source": [
    "**Observation:**\n",
    "- xxxx"
   ]
  },
  {
   "cell_type": "markdown",
   "id": "9d6b86b0",
   "metadata": {
    "id": "9d6b86b0"
   },
   "source": [
    "CHANGE THIS TOO\n",
    "\n",
    "**Let's find out whether there is some relationship between the weight of the product and its sugar content**"
   ]
  },
  {
   "cell_type": "code",
   "execution_count": null,
   "id": "34df8ae3",
   "metadata": {
    "colab": {
     "base_uri": "https://localhost:8080/",
     "height": 556
    },
    "id": "34df8ae3",
    "outputId": "89120420-2035-4556-fe2b-8c37a208f3ad"
   },
   "outputs": [
    {
     "data": {
      "image/png": "[encoded data removed]",
      "text/plain": [
       "<Figure size 1008x576 with 1 Axes>"
      ]
     },
     "metadata": {
      "needs_background": "light"
     },
     "output_type": "display_data"
    }
   ],
   "source": [
    "plt.figure(figsize = [14, 8])\n",
    "sns.boxplot(data.Product_Sugar_Content, data.Product_Weight)\n",
    "plt.xticks(rotation = 90)\n",
    "plt.title(\"Boxplot - Product_Sugar_Content Vs Product_Weight\")\n",
    "plt.xlabel(\"Product_Sugar_Content\")\n",
    "plt.ylabel(\"Product_Weight\")\n",
    "plt.show()"
   ]
  },
  {
   "cell_type": "markdown",
   "id": "2a47c4be",
   "metadata": {
    "id": "2a47c4be"
   },
   "source": [
    "**Observation:**\n",
    "- xxxx"
   ]
  },
  {
   "cell_type": "markdown",
   "id": "c2bd287f",
   "metadata": {
    "id": "c2bd287f"
   },
   "source": [
    "-------\n",
    "## **Visualize one numerical column against a multi-class categorical**\n",
    "--------\n"
   ]
  },
  {
   "cell_type": "code",
   "execution_count": null,
   "id": "e349075a",
   "metadata": {
    "colab": {
     "base_uri": "https://localhost:8080/",
     "height": 596
    },
    "id": "e349075a",
    "outputId": "457b02a7-1381-4d33-cdc2-6494ea5279ce"
   },
   "outputs": [
    {
     "data": {
      "image/png": "[encoded data removed]",
      "text/plain": [
       "<Figure size 1008x576 with 2 Axes>"
      ]
     },
     "metadata": {
      "needs_background": "light"
     },
     "output_type": "display_data"
    }
   ],
   "source": [
    "plt.figure(figsize = (14, 8))\n",
    "sns.heatmap(\n",
    "    pd.crosstab(data[\"NUM_COLUMN_NAME\"], data[\"CAT_COLUMN_NAME\"]),\n",
    "    annot = True,\n",
    "    fmt = \"g\",\n",
    "    cmap = \"viridis\",\n",
    ")\n",
    "plt.ylabel(\"numerical LABEL\")\n",
    "plt.xlabel(\"categorical LABEL\")\n",
    "plt.show()"
   ]
  },
  {
   "cell_type": "markdown",
   "id": "4e62eb5e",
   "metadata": {
    "id": "4e62eb5e"
   },
   "source": [
    "**Observation:**\n",
    "- xxx"
   ]
  },
  {
   "cell_type": "markdown",
   "id": "f47c5e18",
   "metadata": {
    "id": "f47c5e18"
   },
   "source": [
    "**Different product types have different prices. Let's analyze the trend.**"
   ]
  },
  {
   "cell_type": "code",
   "execution_count": null,
   "id": "8f538ae2",
   "metadata": {
    "colab": {
     "base_uri": "https://localhost:8080/",
     "height": 612
    },
    "id": "8f538ae2",
    "outputId": "76d06b5b-cf20-4990-ddda-4663b0fa5cb0"
   },
   "outputs": [
    {
     "data": {
      "image/png": "[encoded data removed]",
      "text/plain": [
       "<Figure size 1008x576 with 1 Axes>"
      ]
     },
     "metadata": {
      "needs_background": "light"
     },
     "output_type": "display_data"
    }
   ],
   "source": [
    "plt.figure(figsize = [14, 8])\n",
    "sns.boxplot(data.Product_Type, data.Product_MRP)\n",
    "plt.xticks(rotation = 90)\n",
    "plt.title(\"Boxplot - Product_Type Vs Product_MRP\")\n",
    "plt.xlabel(\"Product_Type\")\n",
    "plt.ylabel(\"Product_MRP (of each product)\")\n",
    "plt.show()"
   ]
  },
  {
   "cell_type": "markdown",
   "id": "f559b274",
   "metadata": {
    "id": "f559b274"
   },
   "source": [
    "**Observation:**\n",
    "- xxx"
   ]
  },
  {
   "cell_type": "markdown",
   "id": "d1bb6c77",
   "metadata": {
    "id": "d1bb6c77"
   },
   "source": [
    "**Let's find out how the Product_MRP varies with the different stores**"
   ]
  },
  {
   "cell_type": "code",
   "execution_count": null,
   "id": "cb496e1d",
   "metadata": {
    "colab": {
     "base_uri": "https://localhost:8080/",
     "height": 543
    },
    "id": "cb496e1d",
    "outputId": "60aa9cd3-4b74-4231-be9f-20dc7f4f34d4"
   },
   "outputs": [
    {
     "data": {
      "image/png": "[encoded data removed]",
      "text/plain": [
       "<Figure size 1008x576 with 1 Axes>"
      ]
     },
     "metadata": {
      "needs_background": "light"
     },
     "output_type": "display_data"
    }
   ],
   "source": [
    "plt.figure(figsize = [14, 8])\n",
    "sns.boxplot(data.Store_Id, data.Product_MRP)\n",
    "plt.xticks(rotation = 90)\n",
    "plt.title(\"Boxplot - Store_Id Vs Product_MRP\")\n",
    "plt.xlabel(\"Stores\")\n",
    "plt.ylabel(\"Product_MRP (of each product)\")\n",
    "plt.show()"
   ]
  },
  {
   "cell_type": "markdown",
   "id": "dbe59b12",
   "metadata": {
    "id": "dbe59b12"
   },
   "source": [
    "**Observation:**\n",
    "- xxx"
   ]
  },
  {
   "cell_type": "markdown",
   "id": "09d79669",
   "metadata": {
    "id": "09d79669"
   },
   "source": [
    "-----\n",
    "**Stat analysis of subclasses per relevant cat col**."
   ]
  },
  {
   "cell_type": "markdown",
   "id": "4e457801",
   "metadata": {
    "id": "4e457801"
   },
   "source": [
    "### **relevant info**"
   ]
  },
  {
   "cell_type": "code",
   "execution_count": null,
   "id": "d67d5a44",
   "metadata": {
    "colab": {
     "base_uri": "https://localhost:8080/",
     "height": 426
    },
    "id": "d67d5a44",
    "outputId": "f002e7a7-44b6-459d-940f-df7959a4b9f7"
   },
   "outputs": [
    {
     "data": {
      "text/html": [
       "<div>\n",
       "<style scoped>\n",
       "    .dataframe tbody tr th:only-of-type {\n",
       "        vertical-align: middle;\n",
       "    }\n",
       "\n",
       "    .dataframe tbody tr th {\n",
       "        vertical-align: top;\n",
       "    }\n",
       "\n",
       "    .dataframe thead th {\n",
       "        text-align: right;\n",
       "    }\n",
       "</style>\n",
       "<table border=\"1\" class=\"dataframe\">\n",
       "  <thead>\n",
       "    <tr style=\"text-align: right;\">\n",
       "      <th></th>\n",
       "      <th>count</th>\n",
       "      <th>unique</th>\n",
       "      <th>top</th>\n",
       "      <th>freq</th>\n",
       "      <th>mean</th>\n",
       "      <th>std</th>\n",
       "      <th>min</th>\n",
       "      <th>25%</th>\n",
       "      <th>50%</th>\n",
       "      <th>75%</th>\n",
       "      <th>max</th>\n",
       "    </tr>\n",
       "  </thead>\n",
       "  <tbody>\n",
       "    <tr>\n",
       "      <th>Product_Weight</th>\n",
       "      <td>1586.0</td>\n",
       "      <td>NaN</td>\n",
       "      <td>NaN</td>\n",
       "      <td>NaN</td>\n",
       "      <td>13.458865</td>\n",
       "      <td>2.064975</td>\n",
       "      <td>6.16</td>\n",
       "      <td>12.0525</td>\n",
       "      <td>13.96</td>\n",
       "      <td>14.95</td>\n",
       "      <td>17.97</td>\n",
       "    </tr>\n",
       "    <tr>\n",
       "      <th>Product_Sugar_Content</th>\n",
       "      <td>1586</td>\n",
       "      <td>3</td>\n",
       "      <td>Low Sugar</td>\n",
       "      <td>845</td>\n",
       "      <td>NaN</td>\n",
       "      <td>NaN</td>\n",
       "      <td>NaN</td>\n",
       "      <td>NaN</td>\n",
       "      <td>NaN</td>\n",
       "      <td>NaN</td>\n",
       "      <td>NaN</td>\n",
       "    </tr>\n",
       "    <tr>\n",
       "      <th>Product_Allocated_Area</th>\n",
       "      <td>1586.0</td>\n",
       "      <td>NaN</td>\n",
       "      <td>NaN</td>\n",
       "      <td>NaN</td>\n",
       "      <td>0.068768</td>\n",
       "      <td>0.047131</td>\n",
       "      <td>0.004</td>\n",
       "      <td>0.033</td>\n",
       "      <td>0.0565</td>\n",
       "      <td>0.094</td>\n",
       "      <td>0.295</td>\n",
       "    </tr>\n",
       "    <tr>\n",
       "      <th>Product_Type</th>\n",
       "      <td>1586</td>\n",
       "      <td>16</td>\n",
       "      <td>Snack Foods</td>\n",
       "      <td>202</td>\n",
       "      <td>NaN</td>\n",
       "      <td>NaN</td>\n",
       "      <td>NaN</td>\n",
       "      <td>NaN</td>\n",
       "      <td>NaN</td>\n",
       "      <td>NaN</td>\n",
       "      <td>NaN</td>\n",
       "    </tr>\n",
       "    <tr>\n",
       "      <th>Product_MRP</th>\n",
       "      <td>1586.0</td>\n",
       "      <td>NaN</td>\n",
       "      <td>NaN</td>\n",
       "      <td>NaN</td>\n",
       "      <td>160.514054</td>\n",
       "      <td>30.359059</td>\n",
       "      <td>71.35</td>\n",
       "      <td>141.72</td>\n",
       "      <td>168.32</td>\n",
       "      <td>182.9375</td>\n",
       "      <td>226.59</td>\n",
       "    </tr>\n",
       "    <tr>\n",
       "      <th>Store_Id</th>\n",
       "      <td>1586</td>\n",
       "      <td>1</td>\n",
       "      <td>OUT001</td>\n",
       "      <td>1586</td>\n",
       "      <td>NaN</td>\n",
       "      <td>NaN</td>\n",
       "      <td>NaN</td>\n",
       "      <td>NaN</td>\n",
       "      <td>NaN</td>\n",
       "      <td>NaN</td>\n",
       "      <td>NaN</td>\n",
       "    </tr>\n",
       "    <tr>\n",
       "      <th>Store_Establishment_Year</th>\n",
       "      <td>1586.0</td>\n",
       "      <td>NaN</td>\n",
       "      <td>NaN</td>\n",
       "      <td>NaN</td>\n",
       "      <td>1987.0</td>\n",
       "      <td>0.0</td>\n",
       "      <td>1987.0</td>\n",
       "      <td>1987.0</td>\n",
       "      <td>1987.0</td>\n",
       "      <td>1987.0</td>\n",
       "      <td>1987.0</td>\n",
       "    </tr>\n",
       "    <tr>\n",
       "      <th>Store_Size</th>\n",
       "      <td>1586</td>\n",
       "      <td>1</td>\n",
       "      <td>High</td>\n",
       "      <td>1586</td>\n",
       "      <td>NaN</td>\n",
       "      <td>NaN</td>\n",
       "      <td>NaN</td>\n",
       "      <td>NaN</td>\n",
       "      <td>NaN</td>\n",
       "      <td>NaN</td>\n",
       "      <td>NaN</td>\n",
       "    </tr>\n",
       "    <tr>\n",
       "      <th>Store_Location_City_Type</th>\n",
       "      <td>1586</td>\n",
       "      <td>1</td>\n",
       "      <td>Tier 2</td>\n",
       "      <td>1586</td>\n",
       "      <td>NaN</td>\n",
       "      <td>NaN</td>\n",
       "      <td>NaN</td>\n",
       "      <td>NaN</td>\n",
       "      <td>NaN</td>\n",
       "      <td>NaN</td>\n",
       "      <td>NaN</td>\n",
       "    </tr>\n",
       "    <tr>\n",
       "      <th>Store_Type</th>\n",
       "      <td>1586</td>\n",
       "      <td>1</td>\n",
       "      <td>Supermarket Type1</td>\n",
       "      <td>1586</td>\n",
       "      <td>NaN</td>\n",
       "      <td>NaN</td>\n",
       "      <td>NaN</td>\n",
       "      <td>NaN</td>\n",
       "      <td>NaN</td>\n",
       "      <td>NaN</td>\n",
       "      <td>NaN</td>\n",
       "    </tr>\n",
       "    <tr>\n",
       "      <th>Product_Store_Sales_Total</th>\n",
       "      <td>1586.0</td>\n",
       "      <td>NaN</td>\n",
       "      <td>NaN</td>\n",
       "      <td>NaN</td>\n",
       "      <td>3923.778802</td>\n",
       "      <td>904.62901</td>\n",
       "      <td>2300.56</td>\n",
       "      <td>3285.51</td>\n",
       "      <td>4139.645</td>\n",
       "      <td>4639.4</td>\n",
       "      <td>4997.63</td>\n",
       "    </tr>\n",
       "    <tr>\n",
       "      <th>Product_Id_char</th>\n",
       "      <td>1586</td>\n",
       "      <td>3</td>\n",
       "      <td>FD</td>\n",
       "      <td>1163</td>\n",
       "      <td>NaN</td>\n",
       "      <td>NaN</td>\n",
       "      <td>NaN</td>\n",
       "      <td>NaN</td>\n",
       "      <td>NaN</td>\n",
       "      <td>NaN</td>\n",
       "      <td>NaN</td>\n",
       "    </tr>\n",
       "  </tbody>\n",
       "</table>\n",
       "</div>"
      ],
      "text/plain": [
       "                            count unique                top  freq  \\\n",
       "Product_Weight             1586.0    NaN                NaN   NaN   \n",
       "Product_Sugar_Content        1586      3          Low Sugar   845   \n",
       "Product_Allocated_Area     1586.0    NaN                NaN   NaN   \n",
       "Product_Type                 1586     16        Snack Foods   202   \n",
       "Product_MRP                1586.0    NaN                NaN   NaN   \n",
       "Store_Id                     1586      1             OUT001  1586   \n",
       "Store_Establishment_Year   1586.0    NaN                NaN   NaN   \n",
       "Store_Size                   1586      1               High  1586   \n",
       "Store_Location_City_Type     1586      1             Tier 2  1586   \n",
       "Store_Type                   1586      1  Supermarket Type1  1586   \n",
       "Product_Store_Sales_Total  1586.0    NaN                NaN   NaN   \n",
       "Product_Id_char              1586      3                 FD  1163   \n",
       "\n",
       "                                  mean        std      min      25%       50%  \\\n",
       "Product_Weight               13.458865   2.064975     6.16  12.0525     13.96   \n",
       "Product_Sugar_Content              NaN        NaN      NaN      NaN       NaN   \n",
       "Product_Allocated_Area        0.068768   0.047131    0.004    0.033    0.0565   \n",
       "Product_Type                       NaN        NaN      NaN      NaN       NaN   \n",
       "Product_MRP                 160.514054  30.359059    71.35   141.72    168.32   \n",
       "Store_Id                           NaN        NaN      NaN      NaN       NaN   \n",
       "Store_Establishment_Year        1987.0        0.0   1987.0   1987.0    1987.0   \n",
       "Store_Size                         NaN        NaN      NaN      NaN       NaN   \n",
       "Store_Location_City_Type           NaN        NaN      NaN      NaN       NaN   \n",
       "Store_Type                         NaN        NaN      NaN      NaN       NaN   \n",
       "Product_Store_Sales_Total  3923.778802  904.62901  2300.56  3285.51  4139.645   \n",
       "Product_Id_char                    NaN        NaN      NaN      NaN       NaN   \n",
       "\n",
       "                                75%      max  \n",
       "Product_Weight                14.95    17.97  \n",
       "Product_Sugar_Content           NaN      NaN  \n",
       "Product_Allocated_Area        0.094    0.295  \n",
       "Product_Type                    NaN      NaN  \n",
       "Product_MRP                182.9375   226.59  \n",
       "Store_Id                        NaN      NaN  \n",
       "Store_Establishment_Year     1987.0   1987.0  \n",
       "Store_Size                      NaN      NaN  \n",
       "Store_Location_City_Type        NaN      NaN  \n",
       "Store_Type                      NaN      NaN  \n",
       "Product_Store_Sales_Total    4639.4  4997.63  \n",
       "Product_Id_char                 NaN      NaN  "
      ]
     },
     "execution_count": 51,
     "metadata": {},
     "output_type": "execute_result"
    }
   ],
   "source": [
    "data.loc[data[\"Store_Id\"] == \"OUT001\"].describe(include = \"all\").T"
   ]
  },
  {
   "cell_type": "markdown",
   "id": "45de3d68",
   "metadata": {
    "id": "45de3d68"
   },
   "source": [
    "**Observations:**\n",
    "- xxxx"
   ]
  },
  {
   "cell_type": "code",
   "execution_count": null,
   "id": "e57ead84",
   "metadata": {
    "colab": {
     "base_uri": "https://localhost:8080/"
    },
    "id": "e57ead84",
    "outputId": "134afb18-7c08-4649-c847-6fdd36875493"
   },
   "outputs": [
    {
     "data": {
      "text/plain": [
       "6223113.18"
      ]
     },
     "execution_count": 52,
     "metadata": {},
     "output_type": "execute_result"
    }
   ],
   "source": [
    "data.loc[data[\"Store_Id\"] == \"OUT001\", \"Product_Store_Sales_Total\"].sum()"
   ]
  },
  {
   "cell_type": "markdown",
   "id": "c0fa1b47",
   "metadata": {
    "id": "c0fa1b47"
   },
   "source": [
    "**OUT001 has generated total revenue of 6223113 from the sales of goods.**"
   ]
  },
  {
   "cell_type": "code",
   "execution_count": null,
   "id": "cd9ac2da",
   "metadata": {
    "colab": {
     "base_uri": "https://localhost:8080/",
     "height": 612
    },
    "id": "cd9ac2da",
    "outputId": "3842e954-412b-48ee-e1f2-5260312de056"
   },
   "outputs": [
    {
     "data": {
      "image/png": "[encoded data removed]",
      "text/plain": [
       "<Figure size 1008x576 with 1 Axes>"
      ]
     },
     "metadata": {
      "needs_background": "light"
     },
     "output_type": "display_data"
    }
   ],
   "source": [
    "df_OUT001 = (\n",
    "    data.loc[data[\"Store_Id\"] == \"OUT001\"]\n",
    "    .groupby([\"Product_Type\"], as_index = False)[\"Product_Store_Sales_Total\"]\n",
    "    .sum()\n",
    ")\n",
    "plt.figure(figsize = [14, 8])\n",
    "plt.xticks(rotation = 90)\n",
    "plt.xlabel(\"Product_Type\")\n",
    "plt.ylabel(\"Product_Store_Sales_Total\")\n",
    "plt.title(\"OUT001\")\n",
    "sns.barplot(x = df_OUT001.Product_Type, y = df_OUT001.Product_Store_Sales_Total)\n",
    "plt.show()"
   ]
  },
  {
   "cell_type": "markdown",
   "id": "c7b1f9f1",
   "metadata": {
    "id": "c7b1f9f1"
   },
   "source": [
    "**Observations:**\n",
    "- xxxx"
   ]
  },
  {
   "cell_type": "markdown",
   "id": "9ef8562c",
   "metadata": {
    "id": "9ef8562c"
   },
   "source": [
    "**Let's find out the revenue generated by the stores from each of the product types**."
   ]
  },
  {
   "cell_type": "code",
   "execution_count": null,
   "id": "f7337f4f",
   "metadata": {
    "colab": {
     "base_uri": "https://localhost:8080/",
     "height": 1000
    },
    "id": "f7337f4f",
    "outputId": "8807702c-5384-44b6-cc8c-905a05838682"
   },
   "outputs": [
    {
     "data": {
      "text/html": [
       "<div>\n",
       "<style scoped>\n",
       "    .dataframe tbody tr th:only-of-type {\n",
       "        vertical-align: middle;\n",
       "    }\n",
       "\n",
       "    .dataframe tbody tr th {\n",
       "        vertical-align: top;\n",
       "    }\n",
       "\n",
       "    .dataframe thead th {\n",
       "        text-align: right;\n",
       "    }\n",
       "</style>\n",
       "<table border=\"1\" class=\"dataframe\">\n",
       "  <thead>\n",
       "    <tr style=\"text-align: right;\">\n",
       "      <th></th>\n",
       "      <th>Product_Type</th>\n",
       "      <th>Store_Id</th>\n",
       "      <th>Product_Store_Sales_Total</th>\n",
       "    </tr>\n",
       "  </thead>\n",
       "  <tbody>\n",
       "    <tr>\n",
       "      <th>0</th>\n",
       "      <td>Baking Goods</td>\n",
       "      <td>OUT001</td>\n",
       "      <td>525131.04</td>\n",
       "    </tr>\n",
       "    <tr>\n",
       "      <th>1</th>\n",
       "      <td>Baking Goods</td>\n",
       "      <td>OUT002</td>\n",
       "      <td>169860.50</td>\n",
       "    </tr>\n",
       "    <tr>\n",
       "      <th>2</th>\n",
       "      <td>Baking Goods</td>\n",
       "      <td>OUT003</td>\n",
       "      <td>491908.20</td>\n",
       "    </tr>\n",
       "    <tr>\n",
       "      <th>3</th>\n",
       "      <td>Baking Goods</td>\n",
       "      <td>OUT004</td>\n",
       "      <td>1266086.26</td>\n",
       "    </tr>\n",
       "    <tr>\n",
       "      <th>4</th>\n",
       "      <td>Breads</td>\n",
       "      <td>OUT001</td>\n",
       "      <td>121274.09</td>\n",
       "    </tr>\n",
       "    <tr>\n",
       "      <th>5</th>\n",
       "      <td>Breads</td>\n",
       "      <td>OUT002</td>\n",
       "      <td>43419.47</td>\n",
       "    </tr>\n",
       "    <tr>\n",
       "      <th>6</th>\n",
       "      <td>Breads</td>\n",
       "      <td>OUT003</td>\n",
       "      <td>175391.93</td>\n",
       "    </tr>\n",
       "    <tr>\n",
       "      <th>7</th>\n",
       "      <td>Breads</td>\n",
       "      <td>OUT004</td>\n",
       "      <td>374856.75</td>\n",
       "    </tr>\n",
       "    <tr>\n",
       "      <th>8</th>\n",
       "      <td>Breakfast</td>\n",
       "      <td>OUT001</td>\n",
       "      <td>38161.10</td>\n",
       "    </tr>\n",
       "    <tr>\n",
       "      <th>9</th>\n",
       "      <td>Breakfast</td>\n",
       "      <td>OUT002</td>\n",
       "      <td>23396.10</td>\n",
       "    </tr>\n",
       "    <tr>\n",
       "      <th>10</th>\n",
       "      <td>Breakfast</td>\n",
       "      <td>OUT003</td>\n",
       "      <td>95634.08</td>\n",
       "    </tr>\n",
       "    <tr>\n",
       "      <th>11</th>\n",
       "      <td>Breakfast</td>\n",
       "      <td>OUT004</td>\n",
       "      <td>204939.13</td>\n",
       "    </tr>\n",
       "    <tr>\n",
       "      <th>12</th>\n",
       "      <td>Canned</td>\n",
       "      <td>OUT001</td>\n",
       "      <td>449016.38</td>\n",
       "    </tr>\n",
       "    <tr>\n",
       "      <th>13</th>\n",
       "      <td>Canned</td>\n",
       "      <td>OUT002</td>\n",
       "      <td>151467.66</td>\n",
       "    </tr>\n",
       "    <tr>\n",
       "      <th>14</th>\n",
       "      <td>Canned</td>\n",
       "      <td>OUT003</td>\n",
       "      <td>452445.17</td>\n",
       "    </tr>\n",
       "    <tr>\n",
       "      <th>15</th>\n",
       "      <td>Canned</td>\n",
       "      <td>OUT004</td>\n",
       "      <td>1247153.50</td>\n",
       "    </tr>\n",
       "    <tr>\n",
       "      <th>16</th>\n",
       "      <td>Dairy</td>\n",
       "      <td>OUT001</td>\n",
       "      <td>598767.62</td>\n",
       "    </tr>\n",
       "    <tr>\n",
       "      <th>17</th>\n",
       "      <td>Dairy</td>\n",
       "      <td>OUT002</td>\n",
       "      <td>178888.18</td>\n",
       "    </tr>\n",
       "    <tr>\n",
       "      <th>18</th>\n",
       "      <td>Dairy</td>\n",
       "      <td>OUT003</td>\n",
       "      <td>715814.94</td>\n",
       "    </tr>\n",
       "    <tr>\n",
       "      <th>19</th>\n",
       "      <td>Dairy</td>\n",
       "      <td>OUT004</td>\n",
       "      <td>1318447.30</td>\n",
       "    </tr>\n",
       "    <tr>\n",
       "      <th>20</th>\n",
       "      <td>Frozen Foods</td>\n",
       "      <td>OUT001</td>\n",
       "      <td>558556.81</td>\n",
       "    </tr>\n",
       "    <tr>\n",
       "      <th>21</th>\n",
       "      <td>Frozen Foods</td>\n",
       "      <td>OUT002</td>\n",
       "      <td>180295.95</td>\n",
       "    </tr>\n",
       "    <tr>\n",
       "      <th>22</th>\n",
       "      <td>Frozen Foods</td>\n",
       "      <td>OUT003</td>\n",
       "      <td>597608.42</td>\n",
       "    </tr>\n",
       "    <tr>\n",
       "      <th>23</th>\n",
       "      <td>Frozen Foods</td>\n",
       "      <td>OUT004</td>\n",
       "      <td>1473519.65</td>\n",
       "    </tr>\n",
       "    <tr>\n",
       "      <th>24</th>\n",
       "      <td>Fruits and Vegetables</td>\n",
       "      <td>OUT001</td>\n",
       "      <td>792992.59</td>\n",
       "    </tr>\n",
       "    <tr>\n",
       "      <th>25</th>\n",
       "      <td>Fruits and Vegetables</td>\n",
       "      <td>OUT002</td>\n",
       "      <td>298503.56</td>\n",
       "    </tr>\n",
       "    <tr>\n",
       "      <th>26</th>\n",
       "      <td>Fruits and Vegetables</td>\n",
       "      <td>OUT003</td>\n",
       "      <td>897437.46</td>\n",
       "    </tr>\n",
       "    <tr>\n",
       "      <th>27</th>\n",
       "      <td>Fruits and Vegetables</td>\n",
       "      <td>OUT004</td>\n",
       "      <td>2311899.66</td>\n",
       "    </tr>\n",
       "    <tr>\n",
       "      <th>28</th>\n",
       "      <td>Hard Drinks</td>\n",
       "      <td>OUT001</td>\n",
       "      <td>152920.74</td>\n",
       "    </tr>\n",
       "    <tr>\n",
       "      <th>29</th>\n",
       "      <td>Hard Drinks</td>\n",
       "      <td>OUT002</td>\n",
       "      <td>54281.85</td>\n",
       "    </tr>\n",
       "    <tr>\n",
       "      <th>30</th>\n",
       "      <td>Hard Drinks</td>\n",
       "      <td>OUT003</td>\n",
       "      <td>110760.30</td>\n",
       "    </tr>\n",
       "    <tr>\n",
       "      <th>31</th>\n",
       "      <td>Hard Drinks</td>\n",
       "      <td>OUT004</td>\n",
       "      <td>307851.73</td>\n",
       "    </tr>\n",
       "    <tr>\n",
       "      <th>32</th>\n",
       "      <td>Health and Hygiene</td>\n",
       "      <td>OUT001</td>\n",
       "      <td>435005.31</td>\n",
       "    </tr>\n",
       "    <tr>\n",
       "      <th>33</th>\n",
       "      <td>Health and Hygiene</td>\n",
       "      <td>OUT002</td>\n",
       "      <td>164660.81</td>\n",
       "    </tr>\n",
       "    <tr>\n",
       "      <th>34</th>\n",
       "      <td>Health and Hygiene</td>\n",
       "      <td>OUT003</td>\n",
       "      <td>439139.18</td>\n",
       "    </tr>\n",
       "    <tr>\n",
       "      <th>35</th>\n",
       "      <td>Health and Hygiene</td>\n",
       "      <td>OUT004</td>\n",
       "      <td>1124901.91</td>\n",
       "    </tr>\n",
       "    <tr>\n",
       "      <th>36</th>\n",
       "      <td>Household</td>\n",
       "      <td>OUT001</td>\n",
       "      <td>531371.38</td>\n",
       "    </tr>\n",
       "    <tr>\n",
       "      <th>37</th>\n",
       "      <td>Household</td>\n",
       "      <td>OUT002</td>\n",
       "      <td>184665.65</td>\n",
       "    </tr>\n",
       "    <tr>\n",
       "      <th>38</th>\n",
       "      <td>Household</td>\n",
       "      <td>OUT003</td>\n",
       "      <td>523981.64</td>\n",
       "    </tr>\n",
       "    <tr>\n",
       "      <th>39</th>\n",
       "      <td>Household</td>\n",
       "      <td>OUT004</td>\n",
       "      <td>1324721.50</td>\n",
       "    </tr>\n",
       "    <tr>\n",
       "      <th>40</th>\n",
       "      <td>Meat</td>\n",
       "      <td>OUT001</td>\n",
       "      <td>505867.28</td>\n",
       "    </tr>\n",
       "    <tr>\n",
       "      <th>41</th>\n",
       "      <td>Meat</td>\n",
       "      <td>OUT002</td>\n",
       "      <td>151800.01</td>\n",
       "    </tr>\n",
       "    <tr>\n",
       "      <th>42</th>\n",
       "      <td>Meat</td>\n",
       "      <td>OUT003</td>\n",
       "      <td>520939.68</td>\n",
       "    </tr>\n",
       "    <tr>\n",
       "      <th>43</th>\n",
       "      <td>Meat</td>\n",
       "      <td>OUT004</td>\n",
       "      <td>950604.97</td>\n",
       "    </tr>\n",
       "    <tr>\n",
       "      <th>44</th>\n",
       "      <td>Others</td>\n",
       "      <td>OUT001</td>\n",
       "      <td>123977.09</td>\n",
       "    </tr>\n",
       "    <tr>\n",
       "      <th>45</th>\n",
       "      <td>Others</td>\n",
       "      <td>OUT002</td>\n",
       "      <td>32835.73</td>\n",
       "    </tr>\n",
       "    <tr>\n",
       "      <th>46</th>\n",
       "      <td>Others</td>\n",
       "      <td>OUT003</td>\n",
       "      <td>159963.75</td>\n",
       "    </tr>\n",
       "    <tr>\n",
       "      <th>47</th>\n",
       "      <td>Others</td>\n",
       "      <td>OUT004</td>\n",
       "      <td>224719.73</td>\n",
       "    </tr>\n",
       "    <tr>\n",
       "      <th>48</th>\n",
       "      <td>Seafood</td>\n",
       "      <td>OUT001</td>\n",
       "      <td>52936.84</td>\n",
       "    </tr>\n",
       "    <tr>\n",
       "      <th>49</th>\n",
       "      <td>Seafood</td>\n",
       "      <td>OUT002</td>\n",
       "      <td>17663.35</td>\n",
       "    </tr>\n",
       "    <tr>\n",
       "      <th>50</th>\n",
       "      <td>Seafood</td>\n",
       "      <td>OUT003</td>\n",
       "      <td>65337.48</td>\n",
       "    </tr>\n",
       "    <tr>\n",
       "      <th>51</th>\n",
       "      <td>Seafood</td>\n",
       "      <td>OUT004</td>\n",
       "      <td>136466.37</td>\n",
       "    </tr>\n",
       "    <tr>\n",
       "      <th>52</th>\n",
       "      <td>Snack Foods</td>\n",
       "      <td>OUT001</td>\n",
       "      <td>806142.24</td>\n",
       "    </tr>\n",
       "    <tr>\n",
       "      <th>53</th>\n",
       "      <td>Snack Foods</td>\n",
       "      <td>OUT002</td>\n",
       "      <td>255317.57</td>\n",
       "    </tr>\n",
       "    <tr>\n",
       "      <th>54</th>\n",
       "      <td>Snack Foods</td>\n",
       "      <td>OUT003</td>\n",
       "      <td>918510.44</td>\n",
       "    </tr>\n",
       "    <tr>\n",
       "      <th>55</th>\n",
       "      <td>Snack Foods</td>\n",
       "      <td>OUT004</td>\n",
       "      <td>2009026.70</td>\n",
       "    </tr>\n",
       "    <tr>\n",
       "      <th>56</th>\n",
       "      <td>Soft Drinks</td>\n",
       "      <td>OUT001</td>\n",
       "      <td>410548.69</td>\n",
       "    </tr>\n",
       "    <tr>\n",
       "      <th>57</th>\n",
       "      <td>Soft Drinks</td>\n",
       "      <td>OUT002</td>\n",
       "      <td>103808.35</td>\n",
       "    </tr>\n",
       "    <tr>\n",
       "      <th>58</th>\n",
       "      <td>Soft Drinks</td>\n",
       "      <td>OUT003</td>\n",
       "      <td>365046.30</td>\n",
       "    </tr>\n",
       "    <tr>\n",
       "      <th>59</th>\n",
       "      <td>Soft Drinks</td>\n",
       "      <td>OUT004</td>\n",
       "      <td>917641.38</td>\n",
       "    </tr>\n",
       "    <tr>\n",
       "      <th>60</th>\n",
       "      <td>Starchy Foods</td>\n",
       "      <td>OUT001</td>\n",
       "      <td>120443.98</td>\n",
       "    </tr>\n",
       "    <tr>\n",
       "      <th>61</th>\n",
       "      <td>Starchy Foods</td>\n",
       "      <td>OUT002</td>\n",
       "      <td>20044.98</td>\n",
       "    </tr>\n",
       "    <tr>\n",
       "      <th>62</th>\n",
       "      <td>Starchy Foods</td>\n",
       "      <td>OUT003</td>\n",
       "      <td>143538.60</td>\n",
       "    </tr>\n",
       "    <tr>\n",
       "      <th>63</th>\n",
       "      <td>Starchy Foods</td>\n",
       "      <td>OUT004</td>\n",
       "      <td>234746.89</td>\n",
       "    </tr>\n",
       "  </tbody>\n",
       "</table>\n",
       "</div>"
      ],
      "text/plain": [
       "             Product_Type Store_Id  Product_Store_Sales_Total\n",
       "0            Baking Goods   OUT001                  525131.04\n",
       "1            Baking Goods   OUT002                  169860.50\n",
       "2            Baking Goods   OUT003                  491908.20\n",
       "3            Baking Goods   OUT004                 1266086.26\n",
       "4                  Breads   OUT001                  121274.09\n",
       "5                  Breads   OUT002                   43419.47\n",
       "6                  Breads   OUT003                  175391.93\n",
       "7                  Breads   OUT004                  374856.75\n",
       "8               Breakfast   OUT001                   38161.10\n",
       "9               Breakfast   OUT002                   23396.10\n",
       "10              Breakfast   OUT003                   95634.08\n",
       "11              Breakfast   OUT004                  204939.13\n",
       "12                 Canned   OUT001                  449016.38\n",
       "13                 Canned   OUT002                  151467.66\n",
       "14                 Canned   OUT003                  452445.17\n",
       "15                 Canned   OUT004                 1247153.50\n",
       "16                  Dairy   OUT001                  598767.62\n",
       "17                  Dairy   OUT002                  178888.18\n",
       "18                  Dairy   OUT003                  715814.94\n",
       "19                  Dairy   OUT004                 1318447.30\n",
       "20           Frozen Foods   OUT001                  558556.81\n",
       "21           Frozen Foods   OUT002                  180295.95\n",
       "22           Frozen Foods   OUT003                  597608.42\n",
       "23           Frozen Foods   OUT004                 1473519.65\n",
       "24  Fruits and Vegetables   OUT001                  792992.59\n",
       "25  Fruits and Vegetables   OUT002                  298503.56\n",
       "26  Fruits and Vegetables   OUT003                  897437.46\n",
       "27  Fruits and Vegetables   OUT004                 2311899.66\n",
       "28            Hard Drinks   OUT001                  152920.74\n",
       "29            Hard Drinks   OUT002                   54281.85\n",
       "30            Hard Drinks   OUT003                  110760.30\n",
       "31            Hard Drinks   OUT004                  307851.73\n",
       "32     Health and Hygiene   OUT001                  435005.31\n",
       "33     Health and Hygiene   OUT002                  164660.81\n",
       "34     Health and Hygiene   OUT003                  439139.18\n",
       "35     Health and Hygiene   OUT004                 1124901.91\n",
       "36              Household   OUT001                  531371.38\n",
       "37              Household   OUT002                  184665.65\n",
       "38              Household   OUT003                  523981.64\n",
       "39              Household   OUT004                 1324721.50\n",
       "40                   Meat   OUT001                  505867.28\n",
       "41                   Meat   OUT002                  151800.01\n",
       "42                   Meat   OUT003                  520939.68\n",
       "43                   Meat   OUT004                  950604.97\n",
       "44                 Others   OUT001                  123977.09\n",
       "45                 Others   OUT002                   32835.73\n",
       "46                 Others   OUT003                  159963.75\n",
       "47                 Others   OUT004                  224719.73\n",
       "48                Seafood   OUT001                   52936.84\n",
       "49                Seafood   OUT002                   17663.35\n",
       "50                Seafood   OUT003                   65337.48\n",
       "51                Seafood   OUT004                  136466.37\n",
       "52            Snack Foods   OUT001                  806142.24\n",
       "53            Snack Foods   OUT002                  255317.57\n",
       "54            Snack Foods   OUT003                  918510.44\n",
       "55            Snack Foods   OUT004                 2009026.70\n",
       "56            Soft Drinks   OUT001                  410548.69\n",
       "57            Soft Drinks   OUT002                  103808.35\n",
       "58            Soft Drinks   OUT003                  365046.30\n",
       "59            Soft Drinks   OUT004                  917641.38\n",
       "60          Starchy Foods   OUT001                  120443.98\n",
       "61          Starchy Foods   OUT002                   20044.98\n",
       "62          Starchy Foods   OUT003                  143538.60\n",
       "63          Starchy Foods   OUT004                  234746.89"
      ]
     },
     "execution_count": 63,
     "metadata": {},
     "output_type": "execute_result"
    }
   ],
   "source": [
    "df1 = data.groupby([\"Product_Type\", \"Store_Id\"], as_index = False)[\n",
    "    \"Product_Store_Sales_Total\"\n",
    "].sum()\n",
    "df1"
   ]
  },
  {
   "cell_type": "markdown",
   "id": "fccffb14",
   "metadata": {
    "id": "fccffb14"
   },
   "source": [
    "**Observations:**\n",
    "- xxx"
   ]
  },
  {
   "cell_type": "markdown",
   "id": "f3083f23",
   "metadata": {
    "id": "f3083f23"
   },
   "source": [
    "**Let's find out the revenue generated by the stores from products having different levels of sugar content**."
   ]
  },
  {
   "cell_type": "code",
   "execution_count": null,
   "id": "0167eedf",
   "metadata": {
    "colab": {
     "base_uri": "https://localhost:8080/",
     "height": 426
    },
    "id": "0167eedf",
    "outputId": "1aad8ad9-ce73-418e-8535-5beb1e4284bf"
   },
   "outputs": [
    {
     "data": {
      "text/html": [
       "<div>\n",
       "<style scoped>\n",
       "    .dataframe tbody tr th:only-of-type {\n",
       "        vertical-align: middle;\n",
       "    }\n",
       "\n",
       "    .dataframe tbody tr th {\n",
       "        vertical-align: top;\n",
       "    }\n",
       "\n",
       "    .dataframe thead th {\n",
       "        text-align: right;\n",
       "    }\n",
       "</style>\n",
       "<table border=\"1\" class=\"dataframe\">\n",
       "  <thead>\n",
       "    <tr style=\"text-align: right;\">\n",
       "      <th></th>\n",
       "      <th>Product_Sugar_Content</th>\n",
       "      <th>Store_Id</th>\n",
       "      <th>Product_Store_Sales_Total</th>\n",
       "    </tr>\n",
       "  </thead>\n",
       "  <tbody>\n",
       "    <tr>\n",
       "      <th>0</th>\n",
       "      <td>Low Sugar</td>\n",
       "      <td>OUT001</td>\n",
       "      <td>3300834.93</td>\n",
       "    </tr>\n",
       "    <tr>\n",
       "      <th>1</th>\n",
       "      <td>Low Sugar</td>\n",
       "      <td>OUT002</td>\n",
       "      <td>1156758.85</td>\n",
       "    </tr>\n",
       "    <tr>\n",
       "      <th>2</th>\n",
       "      <td>Low Sugar</td>\n",
       "      <td>OUT003</td>\n",
       "      <td>3706903.24</td>\n",
       "    </tr>\n",
       "    <tr>\n",
       "      <th>3</th>\n",
       "      <td>Low Sugar</td>\n",
       "      <td>OUT004</td>\n",
       "      <td>8658908.78</td>\n",
       "    </tr>\n",
       "    <tr>\n",
       "      <th>4</th>\n",
       "      <td>No Sugar</td>\n",
       "      <td>OUT001</td>\n",
       "      <td>1090353.78</td>\n",
       "    </tr>\n",
       "    <tr>\n",
       "      <th>5</th>\n",
       "      <td>No Sugar</td>\n",
       "      <td>OUT002</td>\n",
       "      <td>382162.19</td>\n",
       "    </tr>\n",
       "    <tr>\n",
       "      <th>6</th>\n",
       "      <td>No Sugar</td>\n",
       "      <td>OUT003</td>\n",
       "      <td>1123084.57</td>\n",
       "    </tr>\n",
       "    <tr>\n",
       "      <th>7</th>\n",
       "      <td>No Sugar</td>\n",
       "      <td>OUT004</td>\n",
       "      <td>2674343.14</td>\n",
       "    </tr>\n",
       "    <tr>\n",
       "      <th>8</th>\n",
       "      <td>Regular</td>\n",
       "      <td>OUT001</td>\n",
       "      <td>1831924.47</td>\n",
       "    </tr>\n",
       "    <tr>\n",
       "      <th>9</th>\n",
       "      <td>Regular</td>\n",
       "      <td>OUT002</td>\n",
       "      <td>491988.68</td>\n",
       "    </tr>\n",
       "    <tr>\n",
       "      <th>10</th>\n",
       "      <td>Regular</td>\n",
       "      <td>OUT003</td>\n",
       "      <td>1843469.76</td>\n",
       "    </tr>\n",
       "    <tr>\n",
       "      <th>11</th>\n",
       "      <td>Regular</td>\n",
       "      <td>OUT004</td>\n",
       "      <td>4094331.51</td>\n",
       "    </tr>\n",
       "  </tbody>\n",
       "</table>\n",
       "</div>"
      ],
      "text/plain": [
       "   Product_Sugar_Content Store_Id  Product_Store_Sales_Total\n",
       "0              Low Sugar   OUT001                 3300834.93\n",
       "1              Low Sugar   OUT002                 1156758.85\n",
       "2              Low Sugar   OUT003                 3706903.24\n",
       "3              Low Sugar   OUT004                 8658908.78\n",
       "4               No Sugar   OUT001                 1090353.78\n",
       "5               No Sugar   OUT002                  382162.19\n",
       "6               No Sugar   OUT003                 1123084.57\n",
       "7               No Sugar   OUT004                 2674343.14\n",
       "8                Regular   OUT001                 1831924.47\n",
       "9                Regular   OUT002                  491988.68\n",
       "10               Regular   OUT003                 1843469.76\n",
       "11               Regular   OUT004                 4094331.51"
      ]
     },
     "execution_count": 64,
     "metadata": {},
     "output_type": "execute_result"
    }
   ],
   "source": [
    "df2 = data.groupby([\"Product_Sugar_Content\", \"Store_Id\"], as_index = False)[\n",
    "    \"Product_Store_Sales_Total\"\n",
    "].sum()\n",
    "df2"
   ]
  },
  {
   "cell_type": "markdown",
   "id": "ba3192c9",
   "metadata": {
    "id": "ba3192c9"
   },
   "source": [
    "**Observation:**\n",
    "- xxx"
   ]
  },
  {
   "cell_type": "markdown",
   "id": "0292b8ae",
   "metadata": {},
   "source": [
    "--------\n",
    "## **Data Preprocessing**\n",
    "-----------"
   ]
  },
  {
   "cell_type": "markdown",
   "id": "03621a50",
   "metadata": {
    "id": "03621a50"
   },
   "source": [
    "## **Feature Engineering**"
   ]
  },
  {
   "cell_type": "markdown",
   "id": "288f871c",
   "metadata": {
    "id": "288f871c"
   },
   "source": [
    "**A store which has been in the business for a long duration is more trustworthy than the newly established ones. On the other hand, older stores may sometimes lack infrastructure if proper attention is not given. So let us calculate the current age of the store and incorporate that in our model.** "
   ]
  },
  {
   "cell_type": "code",
   "execution_count": null,
   "id": "c18c2219",
   "metadata": {
    "id": "c18c2219"
   },
   "outputs": [],
   "source": [
    "# Outlet Age\n",
    "data[\"Store_Age_Years\"] = 2022 - data.Store_Establishment_Year"
   ]
  },
  {
   "cell_type": "markdown",
   "id": "27b7992e",
   "metadata": {
    "id": "27b7992e"
   },
   "source": [
    "**We have 16 different product types in our dataset. So let us make two broad categories, perishables and non perishables, in order to reduce the number of product types.**"
   ]
  },
  {
   "cell_type": "code",
   "execution_count": null,
   "id": "f67aec38",
   "metadata": {
    "id": "f67aec38"
   },
   "outputs": [],
   "source": [
    "perishables = [\n",
    "    \"Dairy\",\n",
    "    \"Meat\",\n",
    "    \"Fruits and Vegetables\",\n",
    "    \"Breakfast\",\n",
    "    \"Breads\",\n",
    "    \"Seafood\",\n",
    "]"
   ]
  },
  {
   "cell_type": "code",
   "execution_count": null,
   "id": "bdf7bc3a",
   "metadata": {
    "colab": {
     "base_uri": "https://localhost:8080/"
    },
    "id": "bdf7bc3a",
    "outputId": "93c63ec7-b723-4598-f78a-a4910c859857"
   },
   "outputs": [
    {
     "data": {
      "text/plain": [
       "0       Non Perishables\n",
       "1           Perishables\n",
       "2       Non Perishables\n",
       "3       Non Perishables\n",
       "4       Non Perishables\n",
       "             ...       \n",
       "8758    Non Perishables\n",
       "8759    Non Perishables\n",
       "8760    Non Perishables\n",
       "8761    Non Perishables\n",
       "8762    Non Perishables\n",
       "Name: Product_Type, Length: 8763, dtype: object"
      ]
     },
     "execution_count": 67,
     "metadata": {},
     "output_type": "execute_result"
    }
   ],
   "source": [
    "def change(x):\n",
    "    if x in perishables:\n",
    "        return \"Perishables\"\n",
    "    else:\n",
    "        return \"Non Perishables\"\n",
    "\n",
    "\n",
    "data.Product_Type.apply(change)"
   ]
  },
  {
   "cell_type": "code",
   "execution_count": null,
   "id": "b32a2dac",
   "metadata": {
    "id": "b32a2dac"
   },
   "outputs": [],
   "source": [
    "change1 = []\n",
    "for i in range(0, len(data)):\n",
    "    if data.Product_Type[i] in perishables:\n",
    "        change1.append(\"Perishables\")\n",
    "    else:\n",
    "        change1.append(\"Non Perishables\")"
   ]
  },
  {
   "cell_type": "code",
   "execution_count": null,
   "id": "4d524638",
   "metadata": {
    "id": "4d524638"
   },
   "outputs": [],
   "source": [
    "data[\"Product_Type_Category\"] = pd.Series(change1)"
   ]
  },
  {
   "cell_type": "code",
   "execution_count": null,
   "id": "e1e1c5ca",
   "metadata": {
    "colab": {
     "base_uri": "https://localhost:8080/",
     "height": 357
    },
    "id": "e1e1c5ca",
    "outputId": "798ae4c8-e2a9-4f09-9ab2-954bd4af5367"
   },
   "outputs": [
    {
     "data": {
      "text/html": [
       "<div>\n",
       "<style scoped>\n",
       "    .dataframe tbody tr th:only-of-type {\n",
       "        vertical-align: middle;\n",
       "    }\n",
       "\n",
       "    .dataframe tbody tr th {\n",
       "        vertical-align: top;\n",
       "    }\n",
       "\n",
       "    .dataframe thead th {\n",
       "        text-align: right;\n",
       "    }\n",
       "</style>\n",
       "<table border=\"1\" class=\"dataframe\">\n",
       "  <thead>\n",
       "    <tr style=\"text-align: right;\">\n",
       "      <th></th>\n",
       "      <th>Product_Weight</th>\n",
       "      <th>Product_Sugar_Content</th>\n",
       "      <th>Product_Allocated_Area</th>\n",
       "      <th>Product_Type</th>\n",
       "      <th>Product_MRP</th>\n",
       "      <th>Store_Id</th>\n",
       "      <th>Store_Establishment_Year</th>\n",
       "      <th>Store_Size</th>\n",
       "      <th>Store_Location_City_Type</th>\n",
       "      <th>Store_Type</th>\n",
       "      <th>Product_Store_Sales_Total</th>\n",
       "      <th>Product_Id_char</th>\n",
       "      <th>Store_Age_Years</th>\n",
       "      <th>Product_Type_Category</th>\n",
       "    </tr>\n",
       "  </thead>\n",
       "  <tbody>\n",
       "    <tr>\n",
       "      <th>0</th>\n",
       "      <td>12.66</td>\n",
       "      <td>Low Sugar</td>\n",
       "      <td>0.027</td>\n",
       "      <td>Frozen Foods</td>\n",
       "      <td>117.08</td>\n",
       "      <td>OUT004</td>\n",
       "      <td>2009</td>\n",
       "      <td>Medium</td>\n",
       "      <td>Tier 2</td>\n",
       "      <td>Supermarket Type2</td>\n",
       "      <td>2842.40</td>\n",
       "      <td>FD</td>\n",
       "      <td>13</td>\n",
       "      <td>Non Perishables</td>\n",
       "    </tr>\n",
       "    <tr>\n",
       "      <th>1</th>\n",
       "      <td>16.54</td>\n",
       "      <td>Low Sugar</td>\n",
       "      <td>0.144</td>\n",
       "      <td>Dairy</td>\n",
       "      <td>171.43</td>\n",
       "      <td>OUT003</td>\n",
       "      <td>1999</td>\n",
       "      <td>Medium</td>\n",
       "      <td>Tier 1</td>\n",
       "      <td>Departmental Store</td>\n",
       "      <td>4830.02</td>\n",
       "      <td>FD</td>\n",
       "      <td>23</td>\n",
       "      <td>Perishables</td>\n",
       "    </tr>\n",
       "    <tr>\n",
       "      <th>2</th>\n",
       "      <td>14.28</td>\n",
       "      <td>Regular</td>\n",
       "      <td>0.031</td>\n",
       "      <td>Canned</td>\n",
       "      <td>162.08</td>\n",
       "      <td>OUT001</td>\n",
       "      <td>1987</td>\n",
       "      <td>High</td>\n",
       "      <td>Tier 2</td>\n",
       "      <td>Supermarket Type1</td>\n",
       "      <td>4130.16</td>\n",
       "      <td>FD</td>\n",
       "      <td>35</td>\n",
       "      <td>Non Perishables</td>\n",
       "    </tr>\n",
       "    <tr>\n",
       "      <th>3</th>\n",
       "      <td>12.10</td>\n",
       "      <td>Low Sugar</td>\n",
       "      <td>0.112</td>\n",
       "      <td>Baking Goods</td>\n",
       "      <td>186.31</td>\n",
       "      <td>OUT001</td>\n",
       "      <td>1987</td>\n",
       "      <td>High</td>\n",
       "      <td>Tier 2</td>\n",
       "      <td>Supermarket Type1</td>\n",
       "      <td>4132.18</td>\n",
       "      <td>FD</td>\n",
       "      <td>35</td>\n",
       "      <td>Non Perishables</td>\n",
       "    </tr>\n",
       "    <tr>\n",
       "      <th>4</th>\n",
       "      <td>9.57</td>\n",
       "      <td>No Sugar</td>\n",
       "      <td>0.010</td>\n",
       "      <td>Health and Hygiene</td>\n",
       "      <td>123.67</td>\n",
       "      <td>OUT002</td>\n",
       "      <td>1998</td>\n",
       "      <td>Small</td>\n",
       "      <td>Tier 3</td>\n",
       "      <td>Food Mart</td>\n",
       "      <td>2279.36</td>\n",
       "      <td>NC</td>\n",
       "      <td>24</td>\n",
       "      <td>Non Perishables</td>\n",
       "    </tr>\n",
       "  </tbody>\n",
       "</table>\n",
       "</div>"
      ],
      "text/plain": [
       "   Product_Weight Product_Sugar_Content  Product_Allocated_Area  \\\n",
       "0           12.66             Low Sugar                   0.027   \n",
       "1           16.54             Low Sugar                   0.144   \n",
       "2           14.28               Regular                   0.031   \n",
       "3           12.10             Low Sugar                   0.112   \n",
       "4            9.57              No Sugar                   0.010   \n",
       "\n",
       "         Product_Type  Product_MRP Store_Id  Store_Establishment_Year  \\\n",
       "0        Frozen Foods       117.08   OUT004                      2009   \n",
       "1               Dairy       171.43   OUT003                      1999   \n",
       "2              Canned       162.08   OUT001                      1987   \n",
       "3        Baking Goods       186.31   OUT001                      1987   \n",
       "4  Health and Hygiene       123.67   OUT002                      1998   \n",
       "\n",
       "  Store_Size Store_Location_City_Type          Store_Type  \\\n",
       "0     Medium                   Tier 2   Supermarket Type2   \n",
       "1     Medium                   Tier 1  Departmental Store   \n",
       "2       High                   Tier 2   Supermarket Type1   \n",
       "3       High                   Tier 2   Supermarket Type1   \n",
       "4      Small                   Tier 3           Food Mart   \n",
       "\n",
       "   Product_Store_Sales_Total Product_Id_char  Store_Age_Years  \\\n",
       "0                    2842.40              FD               13   \n",
       "1                    4830.02              FD               23   \n",
       "2                    4130.16              FD               35   \n",
       "3                    4132.18              FD               35   \n",
       "4                    2279.36              NC               24   \n",
       "\n",
       "  Product_Type_Category  \n",
       "0       Non Perishables  \n",
       "1           Perishables  \n",
       "2       Non Perishables  \n",
       "3       Non Perishables  \n",
       "4       Non Perishables  "
      ]
     },
     "execution_count": 70,
     "metadata": {},
     "output_type": "execute_result"
    }
   ],
   "source": [
    "data.head()"
   ]
  },
  {
   "cell_type": "markdown",
   "id": "fef26ce9",
   "metadata": {
    "id": "fef26ce9"
   },
   "source": [
    "-----------\n",
    "## **Characterize Outliers**\n",
    "\n",
    "-----------"
   ]
  },
  {
   "cell_type": "code",
   "execution_count": null,
   "id": "5e04f7e5",
   "metadata": {
    "colab": {
     "base_uri": "https://localhost:8080/",
     "height": 250
    },
    "id": "5e04f7e5",
    "outputId": "4c566355-3ebb-4a56-f14b-464c629a9792"
   },
   "outputs": [
    {
     "data": {
      "image/png": "[encoded data removed]",
      "text/plain": [
       "<Figure size 1080x864 with 4 Axes>"
      ]
     },
     "metadata": {
      "needs_background": "light"
     },
     "output_type": "display_data"
    }
   ],
   "source": [
    "\n",
    "numeric_columns = data.select_dtypes(include=np.number).columns.tolist()\n",
    "numeric_columns.remove(\"Store_Establishment_Year\")\n",
    "numeric_columns.remove(\"Store_Age_Years\")\n",
    "\n",
    "\n",
    "plt.figure(figsize = (15, 12))\n",
    "\n",
    "for i, variable in enumerate(numeric_columns):\n",
    "    plt.subplot(4, 4, i + 1)\n",
    "    plt.boxplot(data[variable], whis = 1.5)\n",
    "    plt.tight_layout()\n",
    "    plt.title(variable)\n",
    "\n",
    "plt.show()"
   ]
  },
  {
   "cell_type": "markdown",
   "id": "9b0b8adc",
   "metadata": {
    "id": "9b0b8adc"
   },
   "source": [
    "**Observations:**\n",
    "\n",
    "- xxx"
   ]
  },
  {
   "cell_type": "code",
   "execution_count": null,
   "id": "d2ab0ea2",
   "metadata": {},
   "outputs": [
    {
     "data": {
      "image/png": "[encoded data removed]",
      "text/plain": [
       "<Figure size 1152x576 with 2 Axes>"
      ]
     },
     "metadata": {
      "needs_background": "light"
     },
     "output_type": "display_data"
    }
   ],
   "source": [
    "plt.figure(figsize = (16, 8))\n",
    "sns.heatmap(data.corr(), annot = True)\n",
    "plt.show()"
   ]
  },
  {
   "cell_type": "markdown",
   "id": "54a09d33",
   "metadata": {},
   "source": [
    "**Observations:**\n",
    "- xxxx"
   ]
  },
  {
   "cell_type": "markdown",
   "id": "70970767",
   "metadata": {
    "id": "70970767"
   },
   "source": [
    "----------\n",
    "## **Data Preparation for modeling**\n",
    "------------"
   ]
  },
  {
   "cell_type": "markdown",
   "id": "733ebe5e",
   "metadata": {},
   "source": [
    "-------\n",
    "## **Objectives:**\n",
    "- What is the target variable?\n",
    "- Which categorical features need to be encoded?\n",
    "- Which columns can be dropped?\n",
    "- Data needs to be split out to training and testing data subsets\n",
    "--------"
   ]
  },
  {
   "cell_type": "code",
   "execution_count": null,
   "id": "6dc255ba",
   "metadata": {
    "id": "6dc255ba"
   },
   "outputs": [],
   "source": [
    "# Drop these columns XXXXX XXXXX\n",
    "\n",
    "data = data.drop([\"Product_Type\", \"Store_Id\", \"Store_Establishment_Year\"], axis = 1)"
   ]
  },
  {
   "cell_type": "code",
   "execution_count": null,
   "id": "17ff3352",
   "metadata": {
    "id": "17ff3352"
   },
   "outputs": [],
   "source": [
    "# Generate dummy variables\n",
    "\n",
    "data = pd.get_dummies(\n",
    "    data,\n",
    "    columns = data.select_dtypes(include = [\"object\", \"category\"]).columns.tolist(),\n",
    "    drop_first = True,\n",
    ")"
   ]
  },
  {
   "cell_type": "code",
   "execution_count": null,
   "id": "dgSN0AB1FSm_",
   "metadata": {
    "id": "dgSN0AB1FSm_"
   },
   "outputs": [],
   "source": [
    "# Separating features and the target variable\n",
    "\n",
    "X = data.drop([\"Product_Store_Sales_Total\"], axis = 1)\n",
    "y = data[\"Product_Store_Sales_Total\"]"
   ]
  },
  {
   "cell_type": "code",
   "execution_count": null,
   "id": "Ewv3n5_gGrqm",
   "metadata": {
    "id": "Ewv3n5_gGrqm"
   },
   "outputs": [],
   "source": [
    "X = sm.add_constant(X)"
   ]
  },
  {
   "cell_type": "code",
   "execution_count": null,
   "id": "9QYGh6PhFZF6",
   "metadata": {
    "id": "9QYGh6PhFZF6"
   },
   "outputs": [],
   "source": [
    "# Split the data into train and test sets in 70:30 ratio (or 80/20)\n",
    "\n",
    "X_train, X_test, y_train, y_test = train_test_split(\n",
    "    X, y, test_size = 0.30, random_state = 1)"
   ]
  },
  {
   "cell_type": "markdown",
   "id": "653f4715",
   "metadata": {
    "id": "653f4715"
   },
   "source": [
    "----------\n",
    "## **Check for Multicollinearity**\n",
    "----------"
   ]
  },
  {
   "cell_type": "markdown",
   "id": "0e252f3b",
   "metadata": {},
   "source": [
    "## **Objectives:**\n",
    "\n",
    "- Use the Variance Inflation Factor (VIF), to characterize multicollinearity in the data.\n",
    "- Those features with a VIF score > 5 will be dropped / processed till all the features have a VIF score < 5"
   ]
  },
  {
   "cell_type": "code",
   "execution_count": null,
   "id": "99a2a922",
   "metadata": {
    "colab": {
     "base_uri": "https://localhost:8080/"
    },
    "id": "99a2a922",
    "outputId": "da60e67d-d63f-4f30-a26b-749d68215015"
   },
   "outputs": [
    {
     "name": "stdout",
     "output_type": "stream",
     "text": [
      "                              feature       VIF\n",
      "0                               const  0.000000\n",
      "1                      Product_Weight  1.752928\n",
      "2              Product_Allocated_Area  1.001184\n",
      "3                         Product_MRP  1.885058\n",
      "4                     Store_Age_Years       inf\n",
      "5      Product_Sugar_Content_No Sugar       inf\n",
      "6       Product_Sugar_Content_Regular  1.088506\n",
      "7                   Store_Size_Medium       inf\n",
      "8                    Store_Size_Small       inf\n",
      "9     Store_Location_City_Type_Tier 2       inf\n",
      "10    Store_Location_City_Type_Tier 3       inf\n",
      "11               Store_Type_Food Mart       inf\n",
      "12       Store_Type_Supermarket Type1       inf\n",
      "13       Store_Type_Supermarket Type2       inf\n",
      "14                 Product_Id_char_FD  2.774371\n",
      "15                 Product_Id_char_NC       inf\n",
      "16  Product_Type_Category_Perishables  1.217690\n"
     ]
    }
   ],
   "source": [
    "from statsmodels.stats.outliers_influence import variance_inflation_factor\n",
    "\n",
    "# Method to check VIF\n",
    "\n",
    "def checking_vif(train):\n",
    "    vif = pd.DataFrame()\n",
    "    vif[\"feature\"] = train.columns\n",
    "\n",
    "    # Calculate VIF for each feature\n",
    "    vif[\"VIF\"] = [\n",
    "        variance_inflation_factor(train.values, i) for i in range(len(train.columns))\n",
    "    ]\n",
    "    return vif\n"
   ]
  },
  {
   "cell_type": "code",
   "execution_count": null,
   "id": "d7f0493a",
   "metadata": {},
   "outputs": [],
   "source": [
    "print(checking_vif(X_train))"
   ]
  },
  {
   "cell_type": "markdown",
   "id": "e9226234",
   "metadata": {
    "id": "e9226234"
   },
   "source": [
    "**Observations:**\n",
    "- xxxx"
   ]
  },
  {
   "cell_type": "markdown",
   "id": "82887c59",
   "metadata": {},
   "source": [
    "### **Drop columns**"
   ]
  },
  {
   "cell_type": "code",
   "execution_count": null,
   "id": "xXfNK5XBFpP7",
   "metadata": {
    "id": "xXfNK5XBFpP7"
   },
   "outputs": [],
   "source": [
    "X_train = X_train.drop('Store_Age_Years',axis = 1)\n",
    "\n",
    "X_test = X_test.drop('Store_Age_Years',axis = 1)"
   ]
  },
  {
   "cell_type": "markdown",
   "id": "fcd5865a",
   "metadata": {},
   "source": [
    "--------\n",
    "## **Check the VIF again**\n",
    "---------"
   ]
  },
  {
   "cell_type": "code",
   "execution_count": null,
   "id": "wAGrXP2xHOB-",
   "metadata": {
    "colab": {
     "base_uri": "https://localhost:8080/"
    },
    "id": "wAGrXP2xHOB-",
    "outputId": "5657b910-5a40-48c1-df75-d9130f710826"
   },
   "outputs": [
    {
     "name": "stdout",
     "output_type": "stream",
     "text": [
      "                              feature       VIF\n",
      "0                               const  0.000000\n",
      "1                      Product_Weight  1.752928\n",
      "2              Product_Allocated_Area  1.001184\n",
      "3                         Product_MRP  1.885058\n",
      "4      Product_Sugar_Content_No Sugar       inf\n",
      "5       Product_Sugar_Content_Regular  1.088506\n",
      "6                   Store_Size_Medium       inf\n",
      "7                    Store_Size_Small       inf\n",
      "8     Store_Location_City_Type_Tier 2       inf\n",
      "9     Store_Location_City_Type_Tier 3       inf\n",
      "10               Store_Type_Food Mart       inf\n",
      "11       Store_Type_Supermarket Type1       inf\n",
      "12       Store_Type_Supermarket Type2       inf\n",
      "13                 Product_Id_char_FD  2.774371\n",
      "14                 Product_Id_char_NC       inf\n",
      "15  Product_Type_Category_Perishables  1.217690\n"
     ]
    }
   ],
   "source": [
    "print(checking_vif(X_train))"
   ]
  },
  {
   "cell_type": "markdown",
   "id": "36756a63",
   "metadata": {
    "id": "36756a63"
   },
   "source": [
    "---------\n",
    "# **Building Models**\n",
    "---------"
   ]
  },
  {
   "cell_type": "markdown",
   "id": "39f66c01",
   "metadata": {},
   "source": [
    "-----------\n",
    "## **Method for generating Performance Metrics**\n",
    "----------"
   ]
  },
  {
   "cell_type": "code",
   "execution_count": null,
   "id": "04d88690",
   "metadata": {
    "id": "04d88690"
   },
   "outputs": [],
   "source": [
    "from sklearn.metrics import r2_score, mean_absolute_percentage_error, mean_absolute_error, mean_squared_error\n",
    "\n",
    "# Model Performance on test and train data\n",
    "\n",
    "def model_pref(olsmodel, x_train, x_test):\n",
    "\n",
    "    # In-sample Prediction\n",
    "\n",
    "    y_pred_train = olsmodel.predict(x_train)\n",
    "    y_observed_train = y_train\n",
    "\n",
    "    # Prediction on test data\n",
    "    \n",
    "    y_pred_test = olsmodel.predict(x_test)\n",
    "    y_observed_test = y_test\n",
    "\n",
    "    print(\n",
    "        pd.DataFrame(\n",
    "            {\n",
    "                \"Data\": [\"Train\", \"Test\"],\n",
    "                \"RMSE\": [\n",
    "                    np.sqrt(mean_squared_error(y_pred_train, y_observed_train)),\n",
    "                    np.sqrt(mean_squared_error(y_pred_test, y_observed_test)),\n",
    "                ],\n",
    "                \"MAE\": [\n",
    "                    mean_absolute_error(y_pred_train, y_observed_train),\n",
    "                    mean_absolute_error(y_pred_test, y_observed_test),\n",
    "                ],\n",
    "                \n",
    "                \"r2\": [\n",
    "                    r2_score(y_pred_train, y_observed_train),\n",
    "                    r2_score(y_pred_test, y_observed_test),\n",
    "                ],\n",
    "            }\n",
    "        )\n",
    "    )"
   ]
  },
  {
   "cell_type": "markdown",
   "id": "24c8799a",
   "metadata": {},
   "source": [
    "-----\n",
    "## **Fit the FIRST model**\n",
    "------"
   ]
  },
  {
   "cell_type": "code",
   "execution_count": 82,
   "id": "b78bdee9",
   "metadata": {
    "colab": {
     "base_uri": "https://localhost:8080/",
     "height": 760
    },
    "id": "b78bdee9",
    "outputId": "4ec0be38-538a-46d3-be33-e2643c14249d"
   },
   "outputs": [
    {
     "data": {
      "text/html": [
       "<table class=\"simpletable\">\n",
       "<caption>OLS Regression Results</caption>\n",
       "<tr>\n",
       "  <th>Dep. Variable:</th>    <td>Product_Store_Sales_Total</td> <th>  R-squared:         </th> <td>   0.824</td> \n",
       "</tr>\n",
       "<tr>\n",
       "  <th>Model:</th>                       <td>OLS</td>            <th>  Adj. R-squared:    </th> <td>   0.823</td> \n",
       "</tr>\n",
       "<tr>\n",
       "  <th>Method:</th>                 <td>Least Squares</td>       <th>  F-statistic:       </th> <td>   2860.</td> \n",
       "</tr>\n",
       "<tr>\n",
       "  <th>Date:</th>                 <td>Tue, 16 Aug 2022</td>      <th>  Prob (F-statistic):</th>  <td>  0.00</td>  \n",
       "</tr>\n",
       "<tr>\n",
       "  <th>Time:</th>                     <td>16:19:05</td>          <th>  Log-Likelihood:    </th> <td> -46132.</td> \n",
       "</tr>\n",
       "<tr>\n",
       "  <th>No. Observations:</th>          <td>  6134</td>           <th>  AIC:               </th> <td>9.229e+04</td>\n",
       "</tr>\n",
       "<tr>\n",
       "  <th>Df Residuals:</th>              <td>  6123</td>           <th>  BIC:               </th> <td>9.236e+04</td>\n",
       "</tr>\n",
       "<tr>\n",
       "  <th>Df Model:</th>                  <td>    10</td>           <th>                     </th>     <td> </td>    \n",
       "</tr>\n",
       "<tr>\n",
       "  <th>Covariance Type:</th>          <td>nonrobust</td>         <th>                     </th>     <td> </td>    \n",
       "</tr>\n",
       "</table>\n",
       "<table class=\"simpletable\">\n",
       "<tr>\n",
       "                  <td></td>                     <th>coef</th>     <th>std err</th>      <th>t</th>      <th>P>|t|</th>  <th>[0.025</th>    <th>0.975]</th>  \n",
       "</tr>\n",
       "<tr>\n",
       "  <th>const</th>                             <td>  176.6077</td> <td>   42.659</td> <td>    4.140</td> <td> 0.000</td> <td>   92.982</td> <td>  260.234</td>\n",
       "</tr>\n",
       "<tr>\n",
       "  <th>Product_Weight</th>                    <td>  135.0943</td> <td>    3.436</td> <td>   39.318</td> <td> 0.000</td> <td>  128.359</td> <td>  141.830</td>\n",
       "</tr>\n",
       "<tr>\n",
       "  <th>Product_Allocated_Area</th>            <td> -139.5679</td> <td>  118.876</td> <td>   -1.174</td> <td> 0.240</td> <td> -372.608</td> <td>   93.472</td>\n",
       "</tr>\n",
       "<tr>\n",
       "  <th>Product_MRP</th>                       <td>   12.8696</td> <td>    0.254</td> <td>   50.702</td> <td> 0.000</td> <td>   12.372</td> <td>   13.367</td>\n",
       "</tr>\n",
       "<tr>\n",
       "  <th>Product_Sugar_Content_No Sugar</th>    <td>   16.0039</td> <td>   12.324</td> <td>    1.299</td> <td> 0.194</td> <td>   -8.155</td> <td>   40.163</td>\n",
       "</tr>\n",
       "<tr>\n",
       "  <th>Product_Sugar_Content_Regular</th>     <td>   30.8608</td> <td>   13.284</td> <td>    2.323</td> <td> 0.020</td> <td>    4.819</td> <td>   56.902</td>\n",
       "</tr>\n",
       "<tr>\n",
       "  <th>Store_Size_Medium</th>                 <td>  394.3947</td> <td>   26.547</td> <td>   14.856</td> <td> 0.000</td> <td>  342.353</td> <td>  446.436</td>\n",
       "</tr>\n",
       "<tr>\n",
       "  <th>Store_Size_Small</th>                  <td> -383.1731</td> <td>    5.776</td> <td>  -66.339</td> <td> 0.000</td> <td> -394.496</td> <td> -371.850</td>\n",
       "</tr>\n",
       "<tr>\n",
       "  <th>Store_Location_City_Type_Tier 2</th>   <td> -308.1516</td> <td>    8.855</td> <td>  -34.801</td> <td> 0.000</td> <td> -325.510</td> <td> -290.794</td>\n",
       "</tr>\n",
       "<tr>\n",
       "  <th>Store_Location_City_Type_Tier 3</th>   <td> -383.1731</td> <td>    5.776</td> <td>  -66.339</td> <td> 0.000</td> <td> -394.496</td> <td> -371.850</td>\n",
       "</tr>\n",
       "<tr>\n",
       "  <th>Store_Type_Food Mart</th>              <td> -383.1731</td> <td>    5.776</td> <td>  -66.339</td> <td> 0.000</td> <td> -394.496</td> <td> -371.850</td>\n",
       "</tr>\n",
       "<tr>\n",
       "  <th>Store_Type_Supermarket Type1</th>      <td>  165.3861</td> <td>   17.762</td> <td>    9.311</td> <td> 0.000</td> <td>  130.566</td> <td>  200.206</td>\n",
       "</tr>\n",
       "<tr>\n",
       "  <th>Store_Type_Supermarket Type2</th>      <td> -473.5378</td> <td>   17.176</td> <td>  -27.570</td> <td> 0.000</td> <td> -507.208</td> <td> -439.867</td>\n",
       "</tr>\n",
       "<tr>\n",
       "  <th>Product_Id_char_FD</th>                <td>    0.3932</td> <td>   21.936</td> <td>    0.018</td> <td> 0.986</td> <td>  -42.609</td> <td>   43.396</td>\n",
       "</tr>\n",
       "<tr>\n",
       "  <th>Product_Id_char_NC</th>                <td>   16.0039</td> <td>   12.324</td> <td>    1.299</td> <td> 0.194</td> <td>   -8.155</td> <td>   40.163</td>\n",
       "</tr>\n",
       "<tr>\n",
       "  <th>Product_Type_Category_Perishables</th> <td>    7.7111</td> <td>   13.233</td> <td>    0.583</td> <td> 0.560</td> <td>  -18.231</td> <td>   33.653</td>\n",
       "</tr>\n",
       "</table>\n",
       "<table class=\"simpletable\">\n",
       "<tr>\n",
       "  <th>Omnibus:</th>       <td>1745.262</td> <th>  Durbin-Watson:     </th> <td>   1.987</td> \n",
       "</tr>\n",
       "<tr>\n",
       "  <th>Prob(Omnibus):</th>  <td> 0.000</td>  <th>  Jarque-Bera (JB):  </th> <td>46497.082</td>\n",
       "</tr>\n",
       "<tr>\n",
       "  <th>Skew:</th>           <td> 0.775</td>  <th>  Prob(JB):          </th> <td>    0.00</td> \n",
       "</tr>\n",
       "<tr>\n",
       "  <th>Kurtosis:</th>       <td>16.399</td>  <th>  Cond. No.          </th> <td>8.67e+19</td> \n",
       "</tr>\n",
       "</table><br/><br/>Notes:<br/>[1] Standard Errors assume that the covariance matrix of the errors is correctly specified.<br/>[2] The smallest eigenvalue is 1.85e-32. This might indicate that there are<br/>strong multicollinearity problems or that the design matrix is singular."
      ],
      "text/plain": [
       "<class 'statsmodels.iolib.summary.Summary'>\n",
       "\"\"\"\n",
       "                                OLS Regression Results                               \n",
       "=====================================================================================\n",
       "Dep. Variable:     Product_Store_Sales_Total   R-squared:                       0.824\n",
       "Model:                                   OLS   Adj. R-squared:                  0.823\n",
       "Method:                        Least Squares   F-statistic:                     2860.\n",
       "Date:                       Tue, 16 Aug 2022   Prob (F-statistic):               0.00\n",
       "Time:                               16:19:05   Log-Likelihood:                -46132.\n",
       "No. Observations:                       6134   AIC:                         9.229e+04\n",
       "Df Residuals:                           6123   BIC:                         9.236e+04\n",
       "Df Model:                                 10                                         \n",
       "Covariance Type:                   nonrobust                                         \n",
       "=====================================================================================================\n",
       "                                        coef    std err          t      P>|t|      [0.025      0.975]\n",
       "-----------------------------------------------------------------------------------------------------\n",
       "const                               176.6077     42.659      4.140      0.000      92.982     260.234\n",
       "Product_Weight                      135.0943      3.436     39.318      0.000     128.359     141.830\n",
       "Product_Allocated_Area             -139.5679    118.876     -1.174      0.240    -372.608      93.472\n",
       "Product_MRP                          12.8696      0.254     50.702      0.000      12.372      13.367\n",
       "Product_Sugar_Content_No Sugar       16.0039     12.324      1.299      0.194      -8.155      40.163\n",
       "Product_Sugar_Content_Regular        30.8608     13.284      2.323      0.020       4.819      56.902\n",
       "Store_Size_Medium                   394.3947     26.547     14.856      0.000     342.353     446.436\n",
       "Store_Size_Small                   -383.1731      5.776    -66.339      0.000    -394.496    -371.850\n",
       "Store_Location_City_Type_Tier 2    -308.1516      8.855    -34.801      0.000    -325.510    -290.794\n",
       "Store_Location_City_Type_Tier 3    -383.1731      5.776    -66.339      0.000    -394.496    -371.850\n",
       "Store_Type_Food Mart               -383.1731      5.776    -66.339      0.000    -394.496    -371.850\n",
       "Store_Type_Supermarket Type1        165.3861     17.762      9.311      0.000     130.566     200.206\n",
       "Store_Type_Supermarket Type2       -473.5378     17.176    -27.570      0.000    -507.208    -439.867\n",
       "Product_Id_char_FD                    0.3932     21.936      0.018      0.986     -42.609      43.396\n",
       "Product_Id_char_NC                   16.0039     12.324      1.299      0.194      -8.155      40.163\n",
       "Product_Type_Category_Perishables     7.7111     13.233      0.583      0.560     -18.231      33.653\n",
       "==============================================================================\n",
       "Omnibus:                     1745.262   Durbin-Watson:                   1.987\n",
       "Prob(Omnibus):                  0.000   Jarque-Bera (JB):            46497.082\n",
       "Skew:                           0.775   Prob(JB):                         0.00\n",
       "Kurtosis:                      16.399   Cond. No.                     8.67e+19\n",
       "==============================================================================\n",
       "\n",
       "Notes:\n",
       "[1] Standard Errors assume that the covariance matrix of the errors is correctly specified.\n",
       "[2] The smallest eigenvalue is 1.85e-32. This might indicate that there are\n",
       "strong multicollinearity problems or that the design matrix is singular.\n",
       "\"\"\""
      ]
     },
     "execution_count": 82,
     "metadata": {},
     "output_type": "execute_result"
    }
   ],
   "source": [
    "model1 = sm.OLS(y_train, X_train).fit()\n",
    "\n",
    "# Show the model summary\n",
    "model1.summary()"
   ]
  },
  {
   "cell_type": "markdown",
   "id": "519ce1d3",
   "metadata": {},
   "source": [
    "-----\n",
    "## **Characterize first model performance using the method created above**\n",
    "------"
   ]
  },
  {
   "cell_type": "code",
   "execution_count": 83,
   "id": "66d9c2df",
   "metadata": {
    "colab": {
     "base_uri": "https://localhost:8080/"
    },
    "id": "66d9c2df",
    "outputId": "65fd8aab-8cb2-45ca-9e7d-518746dc4221"
   },
   "outputs": [
    {
     "name": "stdout",
     "output_type": "stream",
     "text": [
      "    Data        RMSE         MAE        r2\n",
      "0  Train  446.667654  262.110666  0.785927\n",
      "1   Test  446.685287  266.690587  0.790208\n"
     ]
    }
   ],
   "source": [
    "\n",
    "model_pref(model1, X_train, X_test)"
   ]
  },
  {
   "cell_type": "markdown",
   "id": "7aa84b5d",
   "metadata": {},
   "source": [
    "**Observations:**\n",
    "- xxxx"
   ]
  },
  {
   "cell_type": "markdown",
   "id": "13bb8874",
   "metadata": {
    "id": "13bb8874"
   },
   "source": [
    "---------\n",
    "##  **Drop insignificant variables (variables with p-value > 0.05).**\n",
    "--------"
   ]
  },
  {
   "cell_type": "code",
   "execution_count": 84,
   "id": "d3c3d2ce",
   "metadata": {
    "id": "d3c3d2ce"
   },
   "outputs": [],
   "source": [
    "X_train1 = X_train.drop([\"Product_Type_Category_Perishables\", \"Product_Id_char_FD\"], axis = 1)"
   ]
  },
  {
   "cell_type": "code",
   "execution_count": 85,
   "id": "5c2b8c20",
   "metadata": {
    "id": "5c2b8c20"
   },
   "outputs": [],
   "source": [
    "X_test1 = X_test.drop([\"Product_Type_Category_Perishables\", \"Product_Id_char_FD\"], axis = 1)"
   ]
  },
  {
   "cell_type": "markdown",
   "id": "13e5b59a",
   "metadata": {},
   "source": [
    "-----\n",
    "## **Fit the SECOND model**\n",
    "------"
   ]
  },
  {
   "cell_type": "code",
   "execution_count": 86,
   "id": "22629deb",
   "metadata": {
    "colab": {
     "base_uri": "https://localhost:8080/",
     "height": 719
    },
    "id": "22629deb",
    "outputId": "14a67bb5-293c-4668-e07d-c3f904690f54"
   },
   "outputs": [
    {
     "data": {
      "text/html": [
       "<table class=\"simpletable\">\n",
       "<caption>OLS Regression Results</caption>\n",
       "<tr>\n",
       "  <th>Dep. Variable:</th>    <td>Product_Store_Sales_Total</td> <th>  R-squared:         </th> <td>   0.824</td> \n",
       "</tr>\n",
       "<tr>\n",
       "  <th>Model:</th>                       <td>OLS</td>            <th>  Adj. R-squared:    </th> <td>   0.823</td> \n",
       "</tr>\n",
       "<tr>\n",
       "  <th>Method:</th>                 <td>Least Squares</td>       <th>  F-statistic:       </th> <td>   3576.</td> \n",
       "</tr>\n",
       "<tr>\n",
       "  <th>Date:</th>                 <td>Tue, 16 Aug 2022</td>      <th>  Prob (F-statistic):</th>  <td>  0.00</td>  \n",
       "</tr>\n",
       "<tr>\n",
       "  <th>Time:</th>                     <td>16:19:05</td>          <th>  Log-Likelihood:    </th> <td> -46132.</td> \n",
       "</tr>\n",
       "<tr>\n",
       "  <th>No. Observations:</th>          <td>  6134</td>           <th>  AIC:               </th> <td>9.228e+04</td>\n",
       "</tr>\n",
       "<tr>\n",
       "  <th>Df Residuals:</th>              <td>  6125</td>           <th>  BIC:               </th> <td>9.234e+04</td>\n",
       "</tr>\n",
       "<tr>\n",
       "  <th>Df Model:</th>                  <td>     8</td>           <th>                     </th>     <td> </td>    \n",
       "</tr>\n",
       "<tr>\n",
       "  <th>Covariance Type:</th>          <td>nonrobust</td>         <th>                     </th>     <td> </td>    \n",
       "</tr>\n",
       "</table>\n",
       "<table class=\"simpletable\">\n",
       "<tr>\n",
       "                 <td></td>                    <th>coef</th>     <th>std err</th>      <th>t</th>      <th>P>|t|</th>  <th>[0.025</th>    <th>0.975]</th>  \n",
       "</tr>\n",
       "<tr>\n",
       "  <th>const</th>                           <td>  179.0666</td> <td>   40.949</td> <td>    4.373</td> <td> 0.000</td> <td>   98.793</td> <td>  259.340</td>\n",
       "</tr>\n",
       "<tr>\n",
       "  <th>Product_Weight</th>                  <td>  135.0918</td> <td>    3.435</td> <td>   39.323</td> <td> 0.000</td> <td>  128.357</td> <td>  141.827</td>\n",
       "</tr>\n",
       "<tr>\n",
       "  <th>Product_Allocated_Area</th>          <td> -140.3752</td> <td>  118.852</td> <td>   -1.181</td> <td> 0.238</td> <td> -373.367</td> <td>   92.616</td>\n",
       "</tr>\n",
       "<tr>\n",
       "  <th>Product_MRP</th>                     <td>   12.8703</td> <td>    0.254</td> <td>   50.727</td> <td> 0.000</td> <td>   12.373</td> <td>   13.368</td>\n",
       "</tr>\n",
       "<tr>\n",
       "  <th>Product_Sugar_Content_No Sugar</th>  <td>   14.1944</td> <td>    7.933</td> <td>    1.789</td> <td> 0.074</td> <td>   -1.358</td> <td>   29.747</td>\n",
       "</tr>\n",
       "<tr>\n",
       "  <th>Product_Sugar_Content_Regular</th>   <td>   30.7219</td> <td>   13.272</td> <td>    2.315</td> <td> 0.021</td> <td>    4.704</td> <td>   56.740</td>\n",
       "</tr>\n",
       "<tr>\n",
       "  <th>Store_Size_Medium</th>               <td>  395.6741</td> <td>   25.835</td> <td>   15.316</td> <td> 0.000</td> <td>  345.029</td> <td>  446.319</td>\n",
       "</tr>\n",
       "<tr>\n",
       "  <th>Store_Size_Small</th>                <td> -382.7595</td> <td>    5.395</td> <td>  -70.953</td> <td> 0.000</td> <td> -393.335</td> <td> -372.184</td>\n",
       "</tr>\n",
       "<tr>\n",
       "  <th>Store_Location_City_Type_Tier 2</th> <td> -307.8490</td> <td>    8.636</td> <td>  -35.648</td> <td> 0.000</td> <td> -324.778</td> <td> -290.920</td>\n",
       "</tr>\n",
       "<tr>\n",
       "  <th>Store_Location_City_Type_Tier 3</th> <td> -382.7595</td> <td>    5.395</td> <td>  -70.953</td> <td> 0.000</td> <td> -393.335</td> <td> -372.184</td>\n",
       "</tr>\n",
       "<tr>\n",
       "  <th>Store_Type_Food Mart</th>            <td> -382.7595</td> <td>    5.395</td> <td>  -70.953</td> <td> 0.000</td> <td> -393.335</td> <td> -372.184</td>\n",
       "</tr>\n",
       "<tr>\n",
       "  <th>Store_Type_Supermarket Type1</th>    <td>  166.1521</td> <td>   17.353</td> <td>    9.575</td> <td> 0.000</td> <td>  132.135</td> <td>  200.169</td>\n",
       "</tr>\n",
       "<tr>\n",
       "  <th>Store_Type_Supermarket Type2</th>    <td> -474.0011</td> <td>   17.074</td> <td>  -27.762</td> <td> 0.000</td> <td> -507.472</td> <td> -440.530</td>\n",
       "</tr>\n",
       "<tr>\n",
       "  <th>Product_Id_char_NC</th>              <td>   14.1944</td> <td>    7.933</td> <td>    1.789</td> <td> 0.074</td> <td>   -1.358</td> <td>   29.747</td>\n",
       "</tr>\n",
       "</table>\n",
       "<table class=\"simpletable\">\n",
       "<tr>\n",
       "  <th>Omnibus:</th>       <td>1744.629</td> <th>  Durbin-Watson:     </th> <td>   1.987</td> \n",
       "</tr>\n",
       "<tr>\n",
       "  <th>Prob(Omnibus):</th>  <td> 0.000</td>  <th>  Jarque-Bera (JB):  </th> <td>46526.548</td>\n",
       "</tr>\n",
       "<tr>\n",
       "  <th>Skew:</th>           <td> 0.775</td>  <th>  Prob(JB):          </th> <td>    0.00</td> \n",
       "</tr>\n",
       "<tr>\n",
       "  <th>Kurtosis:</th>       <td>16.403</td>  <th>  Cond. No.          </th> <td>1.53e+35</td> \n",
       "</tr>\n",
       "</table><br/><br/>Notes:<br/>[1] Standard Errors assume that the covariance matrix of the errors is correctly specified.<br/>[2] The smallest eigenvalue is 5.93e-63. This might indicate that there are<br/>strong multicollinearity problems or that the design matrix is singular."
      ],
      "text/plain": [
       "<class 'statsmodels.iolib.summary.Summary'>\n",
       "\"\"\"\n",
       "                                OLS Regression Results                               \n",
       "=====================================================================================\n",
       "Dep. Variable:     Product_Store_Sales_Total   R-squared:                       0.824\n",
       "Model:                                   OLS   Adj. R-squared:                  0.823\n",
       "Method:                        Least Squares   F-statistic:                     3576.\n",
       "Date:                       Tue, 16 Aug 2022   Prob (F-statistic):               0.00\n",
       "Time:                               16:19:05   Log-Likelihood:                -46132.\n",
       "No. Observations:                       6134   AIC:                         9.228e+04\n",
       "Df Residuals:                           6125   BIC:                         9.234e+04\n",
       "Df Model:                                  8                                         \n",
       "Covariance Type:                   nonrobust                                         \n",
       "===================================================================================================\n",
       "                                      coef    std err          t      P>|t|      [0.025      0.975]\n",
       "---------------------------------------------------------------------------------------------------\n",
       "const                             179.0666     40.949      4.373      0.000      98.793     259.340\n",
       "Product_Weight                    135.0918      3.435     39.323      0.000     128.357     141.827\n",
       "Product_Allocated_Area           -140.3752    118.852     -1.181      0.238    -373.367      92.616\n",
       "Product_MRP                        12.8703      0.254     50.727      0.000      12.373      13.368\n",
       "Product_Sugar_Content_No Sugar     14.1944      7.933      1.789      0.074      -1.358      29.747\n",
       "Product_Sugar_Content_Regular      30.7219     13.272      2.315      0.021       4.704      56.740\n",
       "Store_Size_Medium                 395.6741     25.835     15.316      0.000     345.029     446.319\n",
       "Store_Size_Small                 -382.7595      5.395    -70.953      0.000    -393.335    -372.184\n",
       "Store_Location_City_Type_Tier 2  -307.8490      8.636    -35.648      0.000    -324.778    -290.920\n",
       "Store_Location_City_Type_Tier 3  -382.7595      5.395    -70.953      0.000    -393.335    -372.184\n",
       "Store_Type_Food Mart             -382.7595      5.395    -70.953      0.000    -393.335    -372.184\n",
       "Store_Type_Supermarket Type1      166.1521     17.353      9.575      0.000     132.135     200.169\n",
       "Store_Type_Supermarket Type2     -474.0011     17.074    -27.762      0.000    -507.472    -440.530\n",
       "Product_Id_char_NC                 14.1944      7.933      1.789      0.074      -1.358      29.747\n",
       "==============================================================================\n",
       "Omnibus:                     1744.629   Durbin-Watson:                   1.987\n",
       "Prob(Omnibus):                  0.000   Jarque-Bera (JB):            46526.548\n",
       "Skew:                           0.775   Prob(JB):                         0.00\n",
       "Kurtosis:                      16.403   Cond. No.                     1.53e+35\n",
       "==============================================================================\n",
       "\n",
       "Notes:\n",
       "[1] Standard Errors assume that the covariance matrix of the errors is correctly specified.\n",
       "[2] The smallest eigenvalue is 5.93e-63. This might indicate that there are\n",
       "strong multicollinearity problems or that the design matrix is singular.\n",
       "\"\"\""
      ]
     },
     "execution_count": 86,
     "metadata": {},
     "output_type": "execute_result"
    }
   ],
   "source": [
    "model2 = sm.OLS(y_train, X_train1).fit()\n",
    "\n",
    "# Show the model summary\n",
    "model2.summary()"
   ]
  },
  {
   "cell_type": "markdown",
   "id": "19db5f5d",
   "metadata": {},
   "source": [
    "-----\n",
    "## **Check SECOND model performance metrics**\n",
    "------"
   ]
  },
  {
   "cell_type": "code",
   "execution_count": 87,
   "id": "17538cc4",
   "metadata": {
    "colab": {
     "base_uri": "https://localhost:8080/"
    },
    "id": "17538cc4",
    "outputId": "da86dba7-5b45-46ba-e6fa-fd6c2dc57cd3"
   },
   "outputs": [
    {
     "name": "stdout",
     "output_type": "stream",
     "text": [
      "    Data        RMSE         MAE        r2\n",
      "0  Train  446.681336  262.125308  0.785911\n",
      "1   Test  446.780252  266.790089  0.790113\n"
     ]
    }
   ],
   "source": [
    "# Checking model2 performance\n",
    "model_pref(model2, X_train1, X_test1)"
   ]
  },
  {
   "cell_type": "markdown",
   "id": "c0854b04",
   "metadata": {},
   "source": [
    "**Observations:**\n",
    "- xxxx"
   ]
  },
  {
   "cell_type": "markdown",
   "id": "c5f99f08",
   "metadata": {},
   "source": [
    "-----\n",
    "### **Check list to see if the linear regression assumptions have been met**\n",
    "-------"
   ]
  },
  {
   "cell_type": "markdown",
   "id": "f914f306",
   "metadata": {
    "id": "f914f306"
   },
   "source": [
    "\n",
    "1) **Mean of residuals = 0**\n",
    "2) **No Heteroscedasticity**\n",
    "3) **Linearity of variables**\n",
    "4) **Normality of error terms**"
   ]
  },
  {
   "cell_type": "markdown",
   "id": "rj-EL_s984sw",
   "metadata": {
    "id": "rj-EL_s984sw"
   },
   "source": [
    "## **1) Check for mean residuals on the SECOND model**"
   ]
  },
  {
   "cell_type": "code",
   "execution_count": 88,
   "id": "4qKv4SP381Gc",
   "metadata": {
    "colab": {
     "base_uri": "https://localhost:8080/"
    },
    "id": "4qKv4SP381Gc",
    "outputId": "808d1861-2718-45cf-c4cb-d6ebd9120cf1"
   },
   "outputs": [
    {
     "data": {
      "text/plain": [
       "-4.896207049550968e-12"
      ]
     },
     "execution_count": 88,
     "metadata": {},
     "output_type": "execute_result"
    }
   ],
   "source": [
    "residuals = model2.resid\n",
    "\n",
    "np.mean(residuals)"
   ]
  },
  {
   "cell_type": "markdown",
   "id": "f4gV-GVJ9D62",
   "metadata": {
    "id": "f4gV-GVJ9D62"
   },
   "source": [
    "**Observations:**\n",
    "\n",
    "- Is it at or very near zero?"
   ]
  },
  {
   "cell_type": "markdown",
   "id": "ThxU99WY9KZ-",
   "metadata": {
    "id": "ThxU99WY9KZ-"
   },
   "source": [
    "--------\n",
    "### **2) Check for Homoscedasticity**\n",
    "---------"
   ]
  },
  {
   "cell_type": "markdown",
   "id": "9yVd8Df69UW4",
   "metadata": {
    "id": "9yVd8Df69UW4"
   },
   "source": [
    "- **Homoscedasticity** - Are the residuals **symmetrically distributed across the regression line**? If yes =  data is homoscedastic.\n",
    "\n",
    "- **Heteroscedasticity** - Are the residuals are **NOT** symmetrically distributed across the regression line? If yes =  data is heteroscedastic. (residuals may form a funnel shape or any other non-symmetrical shape)\n",
    "\n",
    "- Use the `**Goldfeldquandt Test**` to test the following hypothesis with alpha = 0.05:\n",
    "\n",
    "    - Null hypothesis: Residuals are homoscedastic\n",
    "    - Alternate hypothesis: Residuals have heteroscedastic"
   ]
  },
  {
   "cell_type": "code",
   "execution_count": 89,
   "id": "lFJ5YnYF9XHx",
   "metadata": {
    "id": "lFJ5YnYF9XHx"
   },
   "outputs": [],
   "source": [
    "# Load relevant libraries\n",
    "\n",
    "from statsmodels.stats.diagnostic import het_white\n",
    "\n",
    "from statsmodels.compat import lzip\n",
    "\n",
    "import statsmodels.stats.api as sms"
   ]
  },
  {
   "cell_type": "code",
   "execution_count": 90,
   "id": "OFQzhZYn9Z-Z",
   "metadata": {
    "colab": {
     "base_uri": "https://localhost:8080/"
    },
    "id": "OFQzhZYn9Z-Z",
    "outputId": "5d6fd415-055e-4d50-e103-b85777a999a9"
   },
   "outputs": [
    {
     "data": {
      "text/plain": [
       "[('F statistic', 0.9832189770563923), ('p-value', 0.6800664494252275)]"
      ]
     },
     "execution_count": 90,
     "metadata": {},
     "output_type": "execute_result"
    }
   ],
   "source": [
    "\n",
    "name = [\"F statistic\", \"p-value\"]\n",
    "\n",
    "test = sms.het_goldfeldquandt(y_train, X_train1)\n",
    "\n",
    "lzip(name, test)"
   ]
  },
  {
   "cell_type": "markdown",
   "id": "dUx8KcbO9rlU",
   "metadata": {
    "id": "dUx8KcbO9rlU"
   },
   "source": [
    "**Observations:**\n",
    "\n",
    "- REPLACE THIS WITH ACTUAL OBS - Since p-value > 0.05, we cannot reject the Null Hypothesis that the residuals are homoscedastic and the corresponding assumption is satisfied."
   ]
  },
  {
   "cell_type": "markdown",
   "id": "Fsigg_dm93nV",
   "metadata": {
    "id": "Fsigg_dm93nV"
   },
   "source": [
    "----------\n",
    "## **3) Linearity of variables**\n",
    "-----------"
   ]
  },
  {
   "cell_type": "markdown",
   "id": "924c7c0f",
   "metadata": {},
   "source": [
    "- Predictor variables must have a **linear** relationship to the dependent variable.\n",
    "\n",
    "- To test, plot residuals and fitted values on a plot\n",
    "    - Look for strong patterns in the residuals\n",
    "    - Residuals should be **randomly and uniformly scattered on the x-axis**"
   ]
  },
  {
   "cell_type": "code",
   "execution_count": 91,
   "id": "-B2QWeBp92sN",
   "metadata": {
    "colab": {
     "base_uri": "https://localhost:8080/",
     "height": 295
    },
    "id": "-B2QWeBp92sN",
    "outputId": "25c9464e-1464-49cb-8057-10607711735c"
   },
   "outputs": [
    {
     "data": {
      "image/png": "[encoded data removed]",
      "text/plain": [
       "<Figure size 432x288 with 1 Axes>"
      ]
     },
     "metadata": {
      "needs_background": "light"
     },
     "output_type": "display_data"
    }
   ],
   "source": [
    "# Predicted values\n",
    "\n",
    "fitted = model2.fittedvalues\n",
    "\n",
    "# sns.set_style(\"whitegrid\")\n",
    "\n",
    "sns.residplot(x = fitted, y = residuals, color = \"lightblue\", lowess = True)\n",
    "\n",
    "plt.xlabel(\"Fitted Values\")\n",
    "\n",
    "plt.ylabel(\"Residual\")\n",
    "\n",
    "plt.title(\"Residual PLOT\")\n",
    "\n",
    "plt.show()"
   ]
  },
  {
   "cell_type": "markdown",
   "id": "CeQm4yGE9-6X",
   "metadata": {
    "id": "CeQm4yGE9-6X"
   },
   "source": [
    "**Observations:**\n",
    "\n",
    "- REPLACE WITH ACTUAL OBS There is no pattern in the residual vs fitted values plot. Hence, the corresponding assumption is satisfied."
   ]
  },
  {
   "cell_type": "markdown",
   "id": "Ux2kEoR1-AbG",
   "metadata": {
    "id": "Ux2kEoR1-AbG"
   },
   "source": [
    "---------\n",
    "## **4) Check for normality of error terms**\n",
    "---------\n",
    "\n",
    "- **Residuals should be normally distributed**."
   ]
  },
  {
   "cell_type": "code",
   "execution_count": 92,
   "id": "9T2scsGE-EJD",
   "metadata": {
    "colab": {
     "base_uri": "https://localhost:8080/",
     "height": 282
    },
    "id": "9T2scsGE-EJD",
    "outputId": "d84343d5-9e0f-4d0f-e5e6-a484d86848cc"
   },
   "outputs": [
    {
     "data": {
      "text/plain": [
       "<AxesSubplot:ylabel='Count'>"
      ]
     },
     "execution_count": 92,
     "metadata": {},
     "output_type": "execute_result"
    },
    {
     "data": {
      "image/png": "[encoded data removed]",
      "text/plain": [
       "<Figure size 432x288 with 1 Axes>"
      ]
     },
     "metadata": {
      "needs_background": "light"
     },
     "output_type": "display_data"
    }
   ],
   "source": [
    "# Plot histogram of residuals\n",
    "sns.histplot(residuals, kde = True)"
   ]
  },
  {
   "cell_type": "markdown",
   "id": "357fee49",
   "metadata": {},
   "source": [
    "## **Create the q-q plot of residuals**"
   ]
  },
  {
   "cell_type": "code",
   "execution_count": null,
   "id": "4d6550d0",
   "metadata": {},
   "outputs": [],
   "source": [
    "# Import relevant libraries\n",
    "\n",
    "import pylab\n",
    "\n",
    "import scipy.stats as stats"
   ]
  },
  {
   "cell_type": "code",
   "execution_count": 93,
   "id": "_FpgZdgX-NLd",
   "metadata": {
    "colab": {
     "base_uri": "https://localhost:8080/",
     "height": 295
    },
    "id": "_FpgZdgX-NLd",
    "outputId": "40ae915b-000a-44c8-a4e2-fbf6f4040e13"
   },
   "outputs": [
    {
     "data": {
      "image/png": "[encoded data removed]",
      "text/plain": [
       "<Figure size 432x288 with 1 Axes>"
      ]
     },
     "metadata": {
      "needs_background": "light"
     },
     "output_type": "display_data"
    }
   ],
   "source": [
    "stats.probplot(residuals, dist = \"norm\", plot = pylab)\n",
    "\n",
    "plt.show()"
   ]
  },
  {
   "cell_type": "markdown",
   "id": "45Mg8oIF-UTe",
   "metadata": {
    "id": "45Mg8oIF-UTe"
   },
   "source": [
    "**Observations:**\n",
    "\n",
    "- REPLACE WITH ACTUAL OBS From the above plots, the residuals seem to follow a normal distribution. Hence, the corresponding assumption is satisfied. Now, we will check the model performance on the train and test dataset."
   ]
  },
  {
   "cell_type": "markdown",
   "id": "1a230598",
   "metadata": {},
   "source": [
    "-------\n",
    "# **Cross-Validation**\n",
    "-------"
   ]
  },
  {
   "cell_type": "markdown",
   "id": "-jrMdUnG7zhy",
   "metadata": {
    "id": "-jrMdUnG7zhy"
   },
   "source": [
    "- **Cross-validation will improve the model** \n",
    "- **Model is valuated using different metrics**"
   ]
  },
  {
   "cell_type": "markdown",
   "id": "5341d3cf",
   "metadata": {},
   "source": [
    "------\n",
    "## **Create a Regression Model**\n",
    "------"
   ]
  },
  {
   "cell_type": "markdown",
   "id": "9b7c1831",
   "metadata": {},
   "source": [
    "### **Import relevant assets**"
   ]
  },
  {
   "cell_type": "code",
   "execution_count": null,
   "id": "3efd77ac",
   "metadata": {},
   "outputs": [],
   "source": [
    "from sklearn.model_selection import cross_val_score"
   ]
  },
  {
   "cell_type": "code",
   "execution_count": 95,
   "id": "StFmaj_t73xU",
   "metadata": {
    "colab": {
     "base_uri": "https://localhost:8080/"
    },
    "id": "StFmaj_t73xU",
    "outputId": "0c11a6b9-065d-43b8-83b3-9457b904b0bf"
   },
   "outputs": [
    {
     "name": "stdout",
     "output_type": "stream",
     "text": [
      "RSquared: 0.823 (+/- 0.045)\n",
      "Mean Squared Error: 200712.689 (+/- 64085.512)\n"
     ]
    }
   ],
   "source": [
    "# Build the regression model and cross-validate\n",
    "\n",
    "linearregression = LinearRegression()                                    \n",
    "\n",
    "cv_Score11 = cross_val_score(linearregression, X_train, y_train, cv = 10)\n",
    "cv_Score12 = cross_val_score(linearregression, X_train, y_train, cv = 10, \n",
    "                             scoring = 'neg_mean_squared_error')                                  \n",
    "\n",
    "\n",
    "print(\"RSquared: %0.3f (+/- %0.3f)\" % (cv_Score11.mean(), cv_Score11.std() * 2))\n",
    "print(\"Mean Squared Error: %0.3f (+/- %0.3f)\" % (-1*cv_Score12.mean(), cv_Score12.std() * 2))"
   ]
  },
  {
   "cell_type": "markdown",
   "id": "26ca0888",
   "metadata": {},
   "source": [
    "**Observation:**\n",
    "- REPLACE WITH ACTUAL OBS After applying cross-validation the model score has improved. We can compare it by the evaluation metric scores."
   ]
  },
  {
   "cell_type": "markdown",
   "id": "e4213339",
   "metadata": {
    "id": "e4213339"
   },
   "source": [
    "---------\n",
    "## **Conclusions (Actionable Insights and Business Recommendations)**\n",
    "--------"
   ]
  },
  {
   "cell_type": "markdown",
   "id": "34147721",
   "metadata": {
    "id": "34147721"
   },
   "source": [
    "# **REPLACE WITH ACTUAL OBSERVATIONS**\n",
    "\n",
    "- We can use this forecasting model to predict the total sales that will be done by SuperKart in the next quarter.\n",
    "\n",
    "- The model explains around 79% of the variation in the data.\n",
    "\n",
    "- **OUT004** - OUT004, which is of Supermarket Type2, located in a Tier 2 city and having store size as medium, is performing well. SuperKart can look to increase the size of this store from medium to high. They can also look to set up stores in this type of city having comparable socio-economic conditions in order to expand their business and reach.\n",
    "\n",
    "- **OUT002** - OUT002, being a food mart in a Tier 3 city and having small store size, is also performing well. SuperKart can look to upgrade its size or target similar cities for business expansion.\n",
    "\n",
    "- **OUT001** - OUT001 which is a store of Supermarket Type 1, located in a Tier 2 city and having store size as high is not performing upto the mark. SuperKart can look to look build new marketing strategies (maybe give attractive discounts and offers) in this store in order to attract more customers.\n",
    "\n",
    "- **OUT003** - Similar approach can be taken to increase the business of OUT003 which is a Departmental store in a Tier 1 city and having store size as medium. It is the premium store of the company where most of the costly goods are sold, so the correct set of audience should be targetted.\n",
    "\n",
    "- Daily needs like fruits and vegetables and snack foods are the biggest contributors to the revenue across all the stores. So SuperKart should look to maintain the inventory of these products properly and ensure that these products never face a shortage.\n",
    "\n",
    "**Additional information that can be collected to gain better insights -**\n",
    "\n",
    "- Customers' details like age and gender can be incorporated in this model so that the company gets to know their target audience well and can build their sales strategies according to that.\n",
    "\n",
    "- The company should also keep a watch for the number of festive occasions present in a quarter so that they can strategize their inventory accordingly."
   ]
  }
 ],
 "metadata": {
  "colab": {
   "collapsed_sections": [
    "21341d2b"
   ],
   "name": "Addional_Practice_Project_ML_SuperKart_SolutionNotebook",
   "provenance": []
  },
  "kernelspec": {
   "display_name": "Python 3.10.8 64-bit",
   "language": "python",
   "name": "python3"
  },
  "language_info": {
   "codemirror_mode": {
    "name": "ipython",
    "version": 3
   },
   "file_extension": ".py",
   "mimetype": "text/x-python",
   "name": "python",
   "nbconvert_exporter": "python",
   "pygments_lexer": "ipython3",
   "version": "3.10.8"
  },
  "vscode": {
   "interpreter": {
    "hash": "b0fa6594d8f4cbf19f97940f81e996739fb7646882a419484c72d19e05852a7e"
   }
  }
 },
 "nbformat": 4,
 "nbformat_minor": 5
}

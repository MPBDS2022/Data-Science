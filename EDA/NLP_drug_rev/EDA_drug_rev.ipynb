{
 "cells": [
  {
   "cell_type": "markdown",
   "id": "3915a90a",
   "metadata": {},
   "source": [
    "-------------\n",
    "# **Exploratory Data Analysis for NLP Sentiment Analysis**\n",
    "-------------"
   ]
  },
  {
   "cell_type": "markdown",
   "id": "f0eb06f3",
   "metadata": {
    "id": "f0eb06f3"
   },
   "source": [
    "## **Dataset**\n",
    "------\n",
    "\n",
    "## **UCI ML Drug Review Dataset**\n",
    "\n",
    "- A dataset from a patient survey\n",
    "- Test partition. Patient reviews on specific drugs along with related conditions and a 10 star patient rating reflecting overall patient satisfaction.\n",
    "- xxxx\n",
    "\n",
    "## **Data Dictionary:**\n",
    "- xxxx"
   ]
  },
  {
   "cell_type": "markdown",
   "id": "6611c901",
   "metadata": {},
   "source": [
    "---------\n",
    "## **Objective**\n",
    "-------\n",
    "- Use NLP to do sentiment analysis regarding patient experience with drugs"
   ]
  },
  {
   "cell_type": "markdown",
   "id": "a683f8d5",
   "metadata": {},
   "source": [
    "## **Libraries**"
   ]
  },
  {
   "cell_type": "code",
   "execution_count": 133,
   "id": "c0022e4d",
   "metadata": {
    "id": "c0022e4d"
   },
   "outputs": [],
   "source": [
    "import numpy as np\n",
    "import pandas as pd\n",
    "import matplotlib.pyplot as plt\n",
    "import seaborn as sns\n",
    "\n",
    "\n",
    "import nltk\n",
    "from nltk.sentiment.vader import SentimentIntensityAnalyzer\n",
    "\n",
    "import time\n",
    "\n",
    "from sklearn.feature_extraction.text import TfidfVectorizer\n",
    "from sklearn.metrics import confusion_matrix\n",
    "from sklearn.naive_bayes import MultinomialNB\n",
    "from sklearn.ensemble import RandomForestClassifier\n",
    "\n",
    "import warnings\n",
    "warnings.filterwarnings(\"ignore\")"
   ]
  },
  {
   "cell_type": "markdown",
   "id": "51b91836",
   "metadata": {
    "id": "51b91836"
   },
   "source": [
    "### **Importing the Dataset**"
   ]
  },
  {
   "cell_type": "code",
   "execution_count": 2,
   "id": "db0d776a",
   "metadata": {
    "id": "db0d776a"
   },
   "outputs": [],
   "source": [
    "train = pd.read_csv('drug_rev_data/drugsComTrain_raw.csv')\n",
    "test = pd.read_csv('drug_rev_data/drugsComTest_raw.csv')"
   ]
  },
  {
   "cell_type": "code",
   "execution_count": 3,
   "id": "3a41759a",
   "metadata": {
    "id": "3a41759a"
   },
   "outputs": [],
   "source": [
    "# Saving the dataset to another variable\n",
    "train_data = train.copy()\n",
    "test_data = test.copy()"
   ]
  },
  {
   "cell_type": "markdown",
   "id": "65c8c14d",
   "metadata": {
    "id": "65c8c14d"
   },
   "source": [
    "### **View the first and last 5 rows of the dataset**"
   ]
  },
  {
   "cell_type": "code",
   "execution_count": 4,
   "id": "27d5a6d3",
   "metadata": {
    "colab": {
     "base_uri": "https://localhost:8080/",
     "height": 357
    },
    "id": "27d5a6d3",
    "outputId": "4a2fe46b-7c36-4f62-8ffd-7e2cf492c09b"
   },
   "outputs": [
    {
     "data": {
      "text/html": [
       "<div>\n",
       "<style scoped>\n",
       "    .dataframe tbody tr th:only-of-type {\n",
       "        vertical-align: middle;\n",
       "    }\n",
       "\n",
       "    .dataframe tbody tr th {\n",
       "        vertical-align: top;\n",
       "    }\n",
       "\n",
       "    .dataframe thead th {\n",
       "        text-align: right;\n",
       "    }\n",
       "</style>\n",
       "<table border=\"1\" class=\"dataframe\">\n",
       "  <thead>\n",
       "    <tr style=\"text-align: right;\">\n",
       "      <th></th>\n",
       "      <th>uniqueID</th>\n",
       "      <th>drugName</th>\n",
       "      <th>condition</th>\n",
       "      <th>review</th>\n",
       "      <th>rating</th>\n",
       "      <th>date</th>\n",
       "      <th>usefulCount</th>\n",
       "    </tr>\n",
       "  </thead>\n",
       "  <tbody>\n",
       "    <tr>\n",
       "      <th>0</th>\n",
       "      <td>206461</td>\n",
       "      <td>Valsartan</td>\n",
       "      <td>Left Ventricular Dysfunction</td>\n",
       "      <td>\"It has no side effect, I take it in combinati...</td>\n",
       "      <td>9</td>\n",
       "      <td>20-May-12</td>\n",
       "      <td>27</td>\n",
       "    </tr>\n",
       "    <tr>\n",
       "      <th>1</th>\n",
       "      <td>95260</td>\n",
       "      <td>Guanfacine</td>\n",
       "      <td>ADHD</td>\n",
       "      <td>\"My son is halfway through his fourth week of ...</td>\n",
       "      <td>8</td>\n",
       "      <td>27-Apr-10</td>\n",
       "      <td>192</td>\n",
       "    </tr>\n",
       "    <tr>\n",
       "      <th>2</th>\n",
       "      <td>92703</td>\n",
       "      <td>Lybrel</td>\n",
       "      <td>Birth Control</td>\n",
       "      <td>\"I used to take another oral contraceptive, wh...</td>\n",
       "      <td>5</td>\n",
       "      <td>14-Dec-09</td>\n",
       "      <td>17</td>\n",
       "    </tr>\n",
       "    <tr>\n",
       "      <th>3</th>\n",
       "      <td>138000</td>\n",
       "      <td>Ortho Evra</td>\n",
       "      <td>Birth Control</td>\n",
       "      <td>\"This is my first time using any form of birth...</td>\n",
       "      <td>8</td>\n",
       "      <td>3-Nov-15</td>\n",
       "      <td>10</td>\n",
       "    </tr>\n",
       "    <tr>\n",
       "      <th>4</th>\n",
       "      <td>35696</td>\n",
       "      <td>Buprenorphine / naloxone</td>\n",
       "      <td>Opiate Dependence</td>\n",
       "      <td>\"Suboxone has completely turned my life around...</td>\n",
       "      <td>9</td>\n",
       "      <td>27-Nov-16</td>\n",
       "      <td>37</td>\n",
       "    </tr>\n",
       "  </tbody>\n",
       "</table>\n",
       "</div>"
      ],
      "text/plain": [
       "   uniqueID                  drugName                     condition  \\\n",
       "0    206461                 Valsartan  Left Ventricular Dysfunction   \n",
       "1     95260                Guanfacine                          ADHD   \n",
       "2     92703                    Lybrel                 Birth Control   \n",
       "3    138000                Ortho Evra                 Birth Control   \n",
       "4     35696  Buprenorphine / naloxone             Opiate Dependence   \n",
       "\n",
       "                                              review  rating       date  \\\n",
       "0  \"It has no side effect, I take it in combinati...       9  20-May-12   \n",
       "1  \"My son is halfway through his fourth week of ...       8  27-Apr-10   \n",
       "2  \"I used to take another oral contraceptive, wh...       5  14-Dec-09   \n",
       "3  \"This is my first time using any form of birth...       8   3-Nov-15   \n",
       "4  \"Suboxone has completely turned my life around...       9  27-Nov-16   \n",
       "\n",
       "   usefulCount  \n",
       "0           27  \n",
       "1          192  \n",
       "2           17  \n",
       "3           10  \n",
       "4           37  "
      ]
     },
     "execution_count": 4,
     "metadata": {},
     "output_type": "execute_result"
    }
   ],
   "source": [
    "train_data.head()"
   ]
  },
  {
   "cell_type": "code",
   "execution_count": 5,
   "id": "cb5ec8ca",
   "metadata": {
    "colab": {
     "base_uri": "https://localhost:8080/",
     "height": 340
    },
    "id": "cb5ec8ca",
    "outputId": "40fb8351-5e80-4446-c3e7-f03bce80506e"
   },
   "outputs": [
    {
     "data": {
      "text/html": [
       "<div>\n",
       "<style scoped>\n",
       "    .dataframe tbody tr th:only-of-type {\n",
       "        vertical-align: middle;\n",
       "    }\n",
       "\n",
       "    .dataframe tbody tr th {\n",
       "        vertical-align: top;\n",
       "    }\n",
       "\n",
       "    .dataframe thead th {\n",
       "        text-align: right;\n",
       "    }\n",
       "</style>\n",
       "<table border=\"1\" class=\"dataframe\">\n",
       "  <thead>\n",
       "    <tr style=\"text-align: right;\">\n",
       "      <th></th>\n",
       "      <th>uniqueID</th>\n",
       "      <th>drugName</th>\n",
       "      <th>condition</th>\n",
       "      <th>review</th>\n",
       "      <th>rating</th>\n",
       "      <th>date</th>\n",
       "      <th>usefulCount</th>\n",
       "    </tr>\n",
       "  </thead>\n",
       "  <tbody>\n",
       "    <tr>\n",
       "      <th>161292</th>\n",
       "      <td>191035</td>\n",
       "      <td>Campral</td>\n",
       "      <td>Alcohol Dependence</td>\n",
       "      <td>\"I wrote my first report in Mid-October of 201...</td>\n",
       "      <td>10</td>\n",
       "      <td>31-May-15</td>\n",
       "      <td>125</td>\n",
       "    </tr>\n",
       "    <tr>\n",
       "      <th>161293</th>\n",
       "      <td>127085</td>\n",
       "      <td>Metoclopramide</td>\n",
       "      <td>Nausea/Vomiting</td>\n",
       "      <td>\"I was given this in IV before surgey. I immed...</td>\n",
       "      <td>1</td>\n",
       "      <td>1-Nov-11</td>\n",
       "      <td>34</td>\n",
       "    </tr>\n",
       "    <tr>\n",
       "      <th>161294</th>\n",
       "      <td>187382</td>\n",
       "      <td>Orencia</td>\n",
       "      <td>Rheumatoid Arthritis</td>\n",
       "      <td>\"Limited improvement after 4 months, developed...</td>\n",
       "      <td>2</td>\n",
       "      <td>15-Mar-14</td>\n",
       "      <td>35</td>\n",
       "    </tr>\n",
       "    <tr>\n",
       "      <th>161295</th>\n",
       "      <td>47128</td>\n",
       "      <td>Thyroid desiccated</td>\n",
       "      <td>Underactive Thyroid</td>\n",
       "      <td>\"I&amp;#039;ve been on thyroid medication 49 years...</td>\n",
       "      <td>10</td>\n",
       "      <td>19-Sep-15</td>\n",
       "      <td>79</td>\n",
       "    </tr>\n",
       "    <tr>\n",
       "      <th>161296</th>\n",
       "      <td>215220</td>\n",
       "      <td>Lubiprostone</td>\n",
       "      <td>Constipation, Chronic</td>\n",
       "      <td>\"I&amp;#039;ve had chronic constipation all my adu...</td>\n",
       "      <td>9</td>\n",
       "      <td>13-Dec-14</td>\n",
       "      <td>116</td>\n",
       "    </tr>\n",
       "  </tbody>\n",
       "</table>\n",
       "</div>"
      ],
      "text/plain": [
       "        uniqueID            drugName              condition  \\\n",
       "161292    191035             Campral     Alcohol Dependence   \n",
       "161293    127085      Metoclopramide        Nausea/Vomiting   \n",
       "161294    187382             Orencia   Rheumatoid Arthritis   \n",
       "161295     47128  Thyroid desiccated    Underactive Thyroid   \n",
       "161296    215220        Lubiprostone  Constipation, Chronic   \n",
       "\n",
       "                                                   review  rating       date  \\\n",
       "161292  \"I wrote my first report in Mid-October of 201...      10  31-May-15   \n",
       "161293  \"I was given this in IV before surgey. I immed...       1   1-Nov-11   \n",
       "161294  \"Limited improvement after 4 months, developed...       2  15-Mar-14   \n",
       "161295  \"I&#039;ve been on thyroid medication 49 years...      10  19-Sep-15   \n",
       "161296  \"I&#039;ve had chronic constipation all my adu...       9  13-Dec-14   \n",
       "\n",
       "        usefulCount  \n",
       "161292          125  \n",
       "161293           34  \n",
       "161294           35  \n",
       "161295           79  \n",
       "161296          116  "
      ]
     },
     "execution_count": 5,
     "metadata": {},
     "output_type": "execute_result"
    }
   ],
   "source": [
    "train_data.tail()"
   ]
  },
  {
   "cell_type": "markdown",
   "id": "e69f5111",
   "metadata": {
    "id": "e69f5111"
   },
   "source": [
    "**Observations:**\n",
    "\n",
    "- Can drop 'uniqueID'\n",
    "- Change 'drugeName' to 'Drug Name', 'condition' to 'Condition', 'review' to 'Review', 'rating' to 'Rating', 'date' to 'Date'\n",
    "- What is 'usefulCount'?"
   ]
  },
  {
   "cell_type": "markdown",
   "id": "ee04adcd",
   "metadata": {
    "id": "ee04adcd"
   },
   "source": [
    "### **Dataset shape**"
   ]
  },
  {
   "cell_type": "code",
   "execution_count": 6,
   "id": "e9040b24",
   "metadata": {
    "colab": {
     "base_uri": "https://localhost:8080/"
    },
    "id": "e9040b24",
    "outputId": "261e0802-837f-4e98-ca6f-c6b81bd025e1"
   },
   "outputs": [
    {
     "data": {
      "text/plain": [
       "(161297, 7)"
      ]
     },
     "execution_count": 6,
     "metadata": {},
     "output_type": "execute_result"
    }
   ],
   "source": [
    "train_data.shape"
   ]
  },
  {
   "cell_type": "markdown",
   "id": "6a8f345e",
   "metadata": {},
   "source": [
    "### **Observations:**\n",
    "- There are **161,297 rows**\n",
    "- There are **7 Columns**"
   ]
  },
  {
   "cell_type": "markdown",
   "id": "e25abfe4",
   "metadata": {
    "id": "e25abfe4"
   },
   "source": [
    "### **Identify nulls and datatypes in this dataset**"
   ]
  },
  {
   "cell_type": "code",
   "execution_count": 7,
   "id": "0e8cc237",
   "metadata": {
    "colab": {
     "base_uri": "https://localhost:8080/"
    },
    "id": "0e8cc237",
    "outputId": "efa84b8c-70a3-423a-9ca3-6e091d81e722",
    "scrolled": true
   },
   "outputs": [
    {
     "name": "stdout",
     "output_type": "stream",
     "text": [
      "<class 'pandas.core.frame.DataFrame'>\n",
      "RangeIndex: 161297 entries, 0 to 161296\n",
      "Data columns (total 7 columns):\n",
      " #   Column       Non-Null Count   Dtype \n",
      "---  ------       --------------   ----- \n",
      " 0   uniqueID     161297 non-null  int64 \n",
      " 1   drugName     161297 non-null  object\n",
      " 2   condition    160398 non-null  object\n",
      " 3   review       161297 non-null  object\n",
      " 4   rating       161297 non-null  int64 \n",
      " 5   date         161297 non-null  object\n",
      " 6   usefulCount  161297 non-null  int64 \n",
      "dtypes: int64(3), object(4)\n",
      "memory usage: 8.6+ MB\n"
     ]
    }
   ],
   "source": [
    "train_data.info()"
   ]
  },
  {
   "cell_type": "markdown",
   "id": "e9b70959",
   "metadata": {
    "id": "e9b70959"
   },
   "source": [
    "**Observations:**\n",
    "- Numerical columns = 'uniqueID', 'rating', 'usefulContent'\n",
    "- Categorical columns = 'drugName', 'condition', 'review', 'date'\n",
    "- 'review' is the sentiment and is highly variable patient responses ('review')\n",
    "- 'date' is a str and NOT a Pandas datetime"
   ]
  },
  {
   "cell_type": "markdown",
   "id": "9da3d471",
   "metadata": {
    "id": "9da3d471"
   },
   "source": [
    "### **Identify any missing values in the dataset** ###"
   ]
  },
  {
   "cell_type": "code",
   "execution_count": 8,
   "id": "cf1d6de3",
   "metadata": {
    "colab": {
     "base_uri": "https://localhost:8080/"
    },
    "id": "cf1d6de3",
    "outputId": "a908b95d-dcdc-4e9a-b6c0-cbe5bcaafe51"
   },
   "outputs": [
    {
     "data": {
      "text/plain": [
       "uniqueID         0\n",
       "drugName         0\n",
       "condition      899\n",
       "review           0\n",
       "rating           0\n",
       "date             0\n",
       "usefulCount      0\n",
       "dtype: int64"
      ]
     },
     "execution_count": 8,
     "metadata": {},
     "output_type": "execute_result"
    }
   ],
   "source": [
    "train_data.isnull().sum()"
   ]
  },
  {
   "cell_type": "markdown",
   "id": "67f3b178",
   "metadata": {
    "id": "67f3b178"
   },
   "source": [
    "### **Observation:**\n",
    "- The 'condition' column has 899 nulls. This is a categorical and can not be averaged or numerically manipulated. Drop these?"
   ]
  },
  {
   "cell_type": "markdown",
   "id": "fdbb44b7",
   "metadata": {},
   "source": [
    "### **Check for any duplicates**"
   ]
  },
  {
   "cell_type": "code",
   "execution_count": 9,
   "id": "489451d2",
   "metadata": {
    "colab": {
     "base_uri": "https://localhost:8080/"
    },
    "id": "489451d2",
    "outputId": "ea6675c1-8246-4d50-e95b-28e905387124"
   },
   "outputs": [
    {
     "data": {
      "text/plain": [
       "0"
      ]
     },
     "execution_count": 9,
     "metadata": {},
     "output_type": "execute_result"
    }
   ],
   "source": [
    "# Checking for duplicate values\n",
    "\n",
    "train_data.duplicated().sum()"
   ]
  },
  {
   "cell_type": "markdown",
   "id": "22487f52",
   "metadata": {
    "id": "22487f52"
   },
   "source": [
    "**Observation:**\n",
    "- XXXX"
   ]
  },
  {
   "cell_type": "markdown",
   "id": "9e76c12a",
   "metadata": {
    "id": "9e76c12a"
   },
   "source": [
    "--------\n",
    "## **Exploratory Data Analysis**\n",
    "---------"
   ]
  },
  {
   "cell_type": "markdown",
   "id": "f4ab23ef",
   "metadata": {
    "id": "f4ab23ef"
   },
   "source": [
    "### **Statistical Summary**"
   ]
  },
  {
   "cell_type": "code",
   "execution_count": 10,
   "id": "ae93b01c",
   "metadata": {
    "colab": {
     "base_uri": "https://localhost:8080/",
     "height": 426
    },
    "id": "ae93b01c",
    "outputId": "71139946-8736-4391-bbe3-448c71a68376"
   },
   "outputs": [
    {
     "data": {
      "text/html": [
       "<div>\n",
       "<style scoped>\n",
       "    .dataframe tbody tr th:only-of-type {\n",
       "        vertical-align: middle;\n",
       "    }\n",
       "\n",
       "    .dataframe tbody tr th {\n",
       "        vertical-align: top;\n",
       "    }\n",
       "\n",
       "    .dataframe thead th {\n",
       "        text-align: right;\n",
       "    }\n",
       "</style>\n",
       "<table border=\"1\" class=\"dataframe\">\n",
       "  <thead>\n",
       "    <tr style=\"text-align: right;\">\n",
       "      <th></th>\n",
       "      <th>count</th>\n",
       "      <th>mean</th>\n",
       "      <th>std</th>\n",
       "      <th>min</th>\n",
       "      <th>25%</th>\n",
       "      <th>50%</th>\n",
       "      <th>75%</th>\n",
       "      <th>max</th>\n",
       "    </tr>\n",
       "  </thead>\n",
       "  <tbody>\n",
       "    <tr>\n",
       "      <th>uniqueID</th>\n",
       "      <td>161297.0</td>\n",
       "      <td>115923.585305</td>\n",
       "      <td>67004.445170</td>\n",
       "      <td>2.0</td>\n",
       "      <td>58063.0</td>\n",
       "      <td>115744.0</td>\n",
       "      <td>173776.0</td>\n",
       "      <td>232291.0</td>\n",
       "    </tr>\n",
       "    <tr>\n",
       "      <th>rating</th>\n",
       "      <td>161297.0</td>\n",
       "      <td>6.994377</td>\n",
       "      <td>3.272329</td>\n",
       "      <td>1.0</td>\n",
       "      <td>5.0</td>\n",
       "      <td>8.0</td>\n",
       "      <td>10.0</td>\n",
       "      <td>10.0</td>\n",
       "    </tr>\n",
       "    <tr>\n",
       "      <th>usefulCount</th>\n",
       "      <td>161297.0</td>\n",
       "      <td>28.004755</td>\n",
       "      <td>36.403742</td>\n",
       "      <td>0.0</td>\n",
       "      <td>6.0</td>\n",
       "      <td>16.0</td>\n",
       "      <td>36.0</td>\n",
       "      <td>1291.0</td>\n",
       "    </tr>\n",
       "  </tbody>\n",
       "</table>\n",
       "</div>"
      ],
      "text/plain": [
       "                count           mean           std  min      25%       50%  \\\n",
       "uniqueID     161297.0  115923.585305  67004.445170  2.0  58063.0  115744.0   \n",
       "rating       161297.0       6.994377      3.272329  1.0      5.0       8.0   \n",
       "usefulCount  161297.0      28.004755     36.403742  0.0      6.0      16.0   \n",
       "\n",
       "                  75%       max  \n",
       "uniqueID     173776.0  232291.0  \n",
       "rating           10.0      10.0  \n",
       "usefulCount      36.0    1291.0  "
      ]
     },
     "execution_count": 10,
     "metadata": {},
     "output_type": "execute_result"
    }
   ],
   "source": [
    "train_data.describe().T"
   ]
  },
  {
   "cell_type": "markdown",
   "id": "4a598b09",
   "metadata": {
    "id": "4a598b09"
   },
   "source": [
    "--------\n",
    "### **Observations:**\n",
    "- Minimum ratng was **1.0** and the max was **10.0**\n",
    "---------"
   ]
  },
  {
   "cell_type": "code",
   "execution_count": 11,
   "id": "daee5a57",
   "metadata": {},
   "outputs": [
    {
     "data": {
      "text/plain": [
       "True"
      ]
     },
     "execution_count": 11,
     "metadata": {},
     "output_type": "execute_result"
    }
   ],
   "source": [
    "list(train_data) == list (test_data)"
   ]
  },
  {
   "cell_type": "markdown",
   "id": "af1cf7e5",
   "metadata": {},
   "source": [
    "### **Observations:**\n",
    "- Both data sets have the same features"
   ]
  },
  {
   "cell_type": "markdown",
   "id": "12651542",
   "metadata": {
    "id": "12651542"
   },
   "source": [
    "------\n",
    "### **Find the count of each unique category in each of the categorical variables**\n",
    "-------"
   ]
  },
  {
   "cell_type": "code",
   "execution_count": 12,
   "id": "75b8c38d",
   "metadata": {
    "colab": {
     "base_uri": "https://localhost:8080/"
    },
    "id": "75b8c38d",
    "outputId": "0d49a6b6-144b-48a7-84fb-219dc2579cbb"
   },
   "outputs": [
    {
     "name": "stdout",
     "output_type": "stream",
     "text": [
      "Levonorgestrel                       3657\n",
      "Etonogestrel                         3336\n",
      "Ethinyl estradiol / norethindrone    2850\n",
      "Nexplanon                            2156\n",
      "Ethinyl estradiol / norgestimate     2117\n",
      "                                     ... \n",
      "Omnipaque 350                           1\n",
      "Vontrol                                 1\n",
      "Ivabradine                              1\n",
      "Neo-Poly-Dex                            1\n",
      "Grifulvin V                             1\n",
      "Name: drugName, Length: 3436, dtype: int64\n",
      "--------------------------------------------------\n",
      "Birth Control                                              28788\n",
      "Depression                                                  9069\n",
      "Pain                                                        6145\n",
      "Anxiety                                                     5904\n",
      "Acne                                                        5588\n",
      "                                                           ...  \n",
      "Dissociative Identity Disorde                                  1\n",
      "Hydrocephalus                                                  1\n",
      "Hyperlipoproteinemia Type III, Elevated beta-VLDL   IDL        1\n",
      "Q Feve                                                         1\n",
      "Neutropenia                                                    1\n",
      "Name: condition, Length: 884, dtype: int64\n",
      "--------------------------------------------------\n",
      "\"Good\"                                                                                                                                                                                                                                                                                                                                                                                                                                                                                                                                                                                                                                                                                                                        33\n",
      "\"Great\"                                                                                                                                                                                                                                                                                                                                                                                                                                                                                                                                                                                                                                                                                                                       20\n",
      "\"Good.\"                                                                                                                                                                                                                                                                                                                                                                                                                                                                                                                                                                                                                                                                                                                       18\n",
      "\"Very good\"                                                                                                                                                                                                                                                                                                                                                                                                                                                                                                                                                                                                                                                                                                                   16\n",
      "\"Great.\"                                                                                                                                                                                                                                                                                                                                                                                                                                                                                                                                                                                                                                                                                                                      14\n",
      "                                                                                                                                                                                                                                                                                                                                                                                                                                                                                                                                                                                                                                                                                                                              ..\n",
      "\"I first had a urinary tract infection at the age of 16 and suffered with them frequently since that time until around 1 year and a half ago (at age 26) when I was introduced to Hiprex by a friend. I used Hiprex at that time and since then haven&#039;t needed to use it again until recently. I&#039;m not too happy about having a UTI right now, but the fact I haven&#039;t had one for a year and a half has been so good. I&#039;m just hoping that by taking Hiprex again this time round, it will shorten the duration of the UTI and alleviate the symptoms quickly. I&#039;m hoping to avoid antibiotics, if possible.\"                                                                                         1\n",
      "\"I&#039;ve been using this medication regularly for almost two years and have never had a desire to switch to anything else. It hasn&#039;t caused cramps, weight gain, spotting, nausea, mood swings, or acne for ME personally. I&#039;m naturally prone to mood swings and hormonal acne and I feel like it actually regulates both issues, although they&#039;re not gone altogether.\\r\\n\\r\\nI do, however, get headaches when I go OFF this pill; there have been a few instances when I couldn&#039;t get my refill on time for either insurance or Rx issues, and after a few days off of this, I start to lose my appetite, become very fatigued, prone to headaches and even migraines. That is my only concern.\"     1\n",
      "\"I was prescribed after having our daughter. I spent the last three months thinking I was pregnant but confused by every negative test. After reading all the online reviews I now understand why my period is over two months late\"                                                                                                                                                                                                                                                                                                                                                                                                                                                                                           1\n",
      "\"I had 1 3mg tablet the first night and WOW it cured me from 18 years of chronic fatigue syndrome.  Make sure you get a reputable supplier. Mine is Intergrative Therapies NZ LTD. \\r\\nGood Luck. I highly recommend this.  It is a miracle product for me.\\r\\n\\r\\nthank you my Dear Lord.\\r\\n.\"                                                                                                                                                                                                                                                                                                                                                                                                                               1\n",
      "\"I&#039;ve had chronic constipation all my adult life. Tried Linzess, it worked for a month then stopped. Doctor started me on Amitiza (24 mg) and it is a miracle. I&#039;ve been on for four months now. After a life of 7-10 days between bowel motions, I now go comfortably 3-4 times per week. No pain, very little gas. It&#039;s a miracle for me.\"                                                                                                                                                                                                                                                                                                                                                                    1\n",
      "Name: review, Length: 112329, dtype: int64\n",
      "--------------------------------------------------\n",
      "1-Mar-16     146\n",
      "23-Sep-15    141\n",
      "13-Jan-16    138\n",
      "7-Jan-17     136\n",
      "3-Aug-16     135\n",
      "            ... \n",
      "13-Apr-08      5\n",
      "20-Oct-08      5\n",
      "7-Dec-17       4\n",
      "17-May-08      1\n",
      "20-Dec-08      1\n",
      "Name: date, Length: 3579, dtype: int64\n",
      "--------------------------------------------------\n"
     ]
    }
   ],
   "source": [
    "cat_col = list(train_data.select_dtypes(\"object\").columns)\n",
    "\n",
    "for column in cat_col:\n",
    "    print(train_data[column].value_counts())\n",
    "    print(\"-\" * 50)"
   ]
  },
  {
   "cell_type": "markdown",
   "id": "0d861520",
   "metadata": {
    "id": "0d861520"
   },
   "source": [
    "**Observations:**\n",
    "- XXX"
   ]
  },
  {
   "cell_type": "code",
   "execution_count": 13,
   "id": "e38d8baf",
   "metadata": {},
   "outputs": [
    {
     "data": {
      "text/plain": [
       "(161297, 7)"
      ]
     },
     "execution_count": 13,
     "metadata": {},
     "output_type": "execute_result"
    }
   ],
   "source": [
    "train_data.shape"
   ]
  },
  {
   "cell_type": "code",
   "execution_count": 20,
   "id": "104c2263",
   "metadata": {},
   "outputs": [
    {
     "data": {
      "text/plain": [
       "(53766, 7)"
      ]
     },
     "execution_count": 20,
     "metadata": {},
     "output_type": "execute_result"
    }
   ],
   "source": [
    "test_data.shape"
   ]
  },
  {
   "cell_type": "markdown",
   "id": "0d861520",
   "metadata": {
    "id": "0d861520"
   },
   "source": [
    "### **Observations:**\n",
    "- Training data shape = **(161297, 7)**\n",
    "- Testing data shape = **(53766, 7)**"
   ]
  },
  {
   "cell_type": "markdown",
   "id": "51a4fb9b",
   "metadata": {
    "id": "51a4fb9b"
   },
   "source": [
    "**If a column is fully unique, drop it...**"
   ]
  },
  {
   "cell_type": "code",
   "execution_count": 14,
   "id": "c64abe2e",
   "metadata": {
    "id": "c64abe2e"
   },
   "outputs": [],
   "source": [
    "train_data = train_data.drop([\"uniqueID\"], axis = 1)"
   ]
  },
  {
   "cell_type": "code",
   "execution_count": 15,
   "id": "3ba93318",
   "metadata": {
    "colab": {
     "base_uri": "https://localhost:8080/",
     "height": 357
    },
    "id": "3ba93318",
    "outputId": "3426192b-718a-4bc4-8601-3d7f0854e5c8"
   },
   "outputs": [
    {
     "data": {
      "text/html": [
       "<div>\n",
       "<style scoped>\n",
       "    .dataframe tbody tr th:only-of-type {\n",
       "        vertical-align: middle;\n",
       "    }\n",
       "\n",
       "    .dataframe tbody tr th {\n",
       "        vertical-align: top;\n",
       "    }\n",
       "\n",
       "    .dataframe thead th {\n",
       "        text-align: right;\n",
       "    }\n",
       "</style>\n",
       "<table border=\"1\" class=\"dataframe\">\n",
       "  <thead>\n",
       "    <tr style=\"text-align: right;\">\n",
       "      <th></th>\n",
       "      <th>drugName</th>\n",
       "      <th>condition</th>\n",
       "      <th>review</th>\n",
       "      <th>rating</th>\n",
       "      <th>date</th>\n",
       "      <th>usefulCount</th>\n",
       "    </tr>\n",
       "  </thead>\n",
       "  <tbody>\n",
       "    <tr>\n",
       "      <th>0</th>\n",
       "      <td>Valsartan</td>\n",
       "      <td>Left Ventricular Dysfunction</td>\n",
       "      <td>\"It has no side effect, I take it in combinati...</td>\n",
       "      <td>9</td>\n",
       "      <td>20-May-12</td>\n",
       "      <td>27</td>\n",
       "    </tr>\n",
       "    <tr>\n",
       "      <th>1</th>\n",
       "      <td>Guanfacine</td>\n",
       "      <td>ADHD</td>\n",
       "      <td>\"My son is halfway through his fourth week of ...</td>\n",
       "      <td>8</td>\n",
       "      <td>27-Apr-10</td>\n",
       "      <td>192</td>\n",
       "    </tr>\n",
       "    <tr>\n",
       "      <th>2</th>\n",
       "      <td>Lybrel</td>\n",
       "      <td>Birth Control</td>\n",
       "      <td>\"I used to take another oral contraceptive, wh...</td>\n",
       "      <td>5</td>\n",
       "      <td>14-Dec-09</td>\n",
       "      <td>17</td>\n",
       "    </tr>\n",
       "    <tr>\n",
       "      <th>3</th>\n",
       "      <td>Ortho Evra</td>\n",
       "      <td>Birth Control</td>\n",
       "      <td>\"This is my first time using any form of birth...</td>\n",
       "      <td>8</td>\n",
       "      <td>3-Nov-15</td>\n",
       "      <td>10</td>\n",
       "    </tr>\n",
       "    <tr>\n",
       "      <th>4</th>\n",
       "      <td>Buprenorphine / naloxone</td>\n",
       "      <td>Opiate Dependence</td>\n",
       "      <td>\"Suboxone has completely turned my life around...</td>\n",
       "      <td>9</td>\n",
       "      <td>27-Nov-16</td>\n",
       "      <td>37</td>\n",
       "    </tr>\n",
       "  </tbody>\n",
       "</table>\n",
       "</div>"
      ],
      "text/plain": [
       "                   drugName                     condition  \\\n",
       "0                 Valsartan  Left Ventricular Dysfunction   \n",
       "1                Guanfacine                          ADHD   \n",
       "2                    Lybrel                 Birth Control   \n",
       "3                Ortho Evra                 Birth Control   \n",
       "4  Buprenorphine / naloxone             Opiate Dependence   \n",
       "\n",
       "                                              review  rating       date  \\\n",
       "0  \"It has no side effect, I take it in combinati...       9  20-May-12   \n",
       "1  \"My son is halfway through his fourth week of ...       8  27-Apr-10   \n",
       "2  \"I used to take another oral contraceptive, wh...       5  14-Dec-09   \n",
       "3  \"This is my first time using any form of birth...       8   3-Nov-15   \n",
       "4  \"Suboxone has completely turned my life around...       9  27-Nov-16   \n",
       "\n",
       "   usefulCount  \n",
       "0           27  \n",
       "1          192  \n",
       "2           17  \n",
       "3           10  \n",
       "4           37  "
      ]
     },
     "execution_count": 15,
     "metadata": {},
     "output_type": "execute_result"
    }
   ],
   "source": [
    "train_data.head()"
   ]
  },
  {
   "cell_type": "code",
   "execution_count": 16,
   "id": "ef0c4b8a",
   "metadata": {},
   "outputs": [],
   "source": [
    "test_data = test_data.drop([\"uniqueID\"], axis = 1)"
   ]
  },
  {
   "cell_type": "code",
   "execution_count": 17,
   "id": "6f39cf79",
   "metadata": {},
   "outputs": [
    {
     "data": {
      "text/html": [
       "<div>\n",
       "<style scoped>\n",
       "    .dataframe tbody tr th:only-of-type {\n",
       "        vertical-align: middle;\n",
       "    }\n",
       "\n",
       "    .dataframe tbody tr th {\n",
       "        vertical-align: top;\n",
       "    }\n",
       "\n",
       "    .dataframe thead th {\n",
       "        text-align: right;\n",
       "    }\n",
       "</style>\n",
       "<table border=\"1\" class=\"dataframe\">\n",
       "  <thead>\n",
       "    <tr style=\"text-align: right;\">\n",
       "      <th></th>\n",
       "      <th>drugName</th>\n",
       "      <th>condition</th>\n",
       "      <th>review</th>\n",
       "      <th>rating</th>\n",
       "      <th>date</th>\n",
       "      <th>usefulCount</th>\n",
       "    </tr>\n",
       "  </thead>\n",
       "  <tbody>\n",
       "    <tr>\n",
       "      <th>0</th>\n",
       "      <td>Mirtazapine</td>\n",
       "      <td>Depression</td>\n",
       "      <td>\"I&amp;#039;ve tried a few antidepressants over th...</td>\n",
       "      <td>10</td>\n",
       "      <td>28-Feb-12</td>\n",
       "      <td>22</td>\n",
       "    </tr>\n",
       "    <tr>\n",
       "      <th>1</th>\n",
       "      <td>Mesalamine</td>\n",
       "      <td>Crohn's Disease, Maintenance</td>\n",
       "      <td>\"My son has Crohn&amp;#039;s disease and has done ...</td>\n",
       "      <td>8</td>\n",
       "      <td>17-May-09</td>\n",
       "      <td>17</td>\n",
       "    </tr>\n",
       "    <tr>\n",
       "      <th>2</th>\n",
       "      <td>Bactrim</td>\n",
       "      <td>Urinary Tract Infection</td>\n",
       "      <td>\"Quick reduction of symptoms\"</td>\n",
       "      <td>9</td>\n",
       "      <td>29-Sep-17</td>\n",
       "      <td>3</td>\n",
       "    </tr>\n",
       "    <tr>\n",
       "      <th>3</th>\n",
       "      <td>Contrave</td>\n",
       "      <td>Weight Loss</td>\n",
       "      <td>\"Contrave combines drugs that were used for al...</td>\n",
       "      <td>9</td>\n",
       "      <td>5-Mar-17</td>\n",
       "      <td>35</td>\n",
       "    </tr>\n",
       "    <tr>\n",
       "      <th>4</th>\n",
       "      <td>Cyclafem 1 / 35</td>\n",
       "      <td>Birth Control</td>\n",
       "      <td>\"I have been on this birth control for one cyc...</td>\n",
       "      <td>9</td>\n",
       "      <td>22-Oct-15</td>\n",
       "      <td>4</td>\n",
       "    </tr>\n",
       "  </tbody>\n",
       "</table>\n",
       "</div>"
      ],
      "text/plain": [
       "          drugName                     condition  \\\n",
       "0      Mirtazapine                    Depression   \n",
       "1       Mesalamine  Crohn's Disease, Maintenance   \n",
       "2          Bactrim       Urinary Tract Infection   \n",
       "3         Contrave                   Weight Loss   \n",
       "4  Cyclafem 1 / 35                 Birth Control   \n",
       "\n",
       "                                              review  rating       date  \\\n",
       "0  \"I&#039;ve tried a few antidepressants over th...      10  28-Feb-12   \n",
       "1  \"My son has Crohn&#039;s disease and has done ...       8  17-May-09   \n",
       "2                      \"Quick reduction of symptoms\"       9  29-Sep-17   \n",
       "3  \"Contrave combines drugs that were used for al...       9   5-Mar-17   \n",
       "4  \"I have been on this birth control for one cyc...       9  22-Oct-15   \n",
       "\n",
       "   usefulCount  \n",
       "0           22  \n",
       "1           17  \n",
       "2            3  \n",
       "3           35  \n",
       "4            4  "
      ]
     },
     "execution_count": 17,
     "metadata": {},
     "output_type": "execute_result"
    }
   ],
   "source": [
    "test_data.head()"
   ]
  },
  {
   "cell_type": "markdown",
   "id": "819f7420",
   "metadata": {},
   "source": [
    "----\n",
    "### **Change date string object to pandas datetime**\n",
    "------"
   ]
  },
  {
   "cell_type": "code",
   "execution_count": 18,
   "id": "c533755b",
   "metadata": {},
   "outputs": [],
   "source": [
    "train_data['date'] = pd.to_datetime(train_data['date'])"
   ]
  },
  {
   "cell_type": "code",
   "execution_count": 19,
   "id": "ea5f56c8",
   "metadata": {},
   "outputs": [
    {
     "data": {
      "text/html": [
       "<div>\n",
       "<style scoped>\n",
       "    .dataframe tbody tr th:only-of-type {\n",
       "        vertical-align: middle;\n",
       "    }\n",
       "\n",
       "    .dataframe tbody tr th {\n",
       "        vertical-align: top;\n",
       "    }\n",
       "\n",
       "    .dataframe thead th {\n",
       "        text-align: right;\n",
       "    }\n",
       "</style>\n",
       "<table border=\"1\" class=\"dataframe\">\n",
       "  <thead>\n",
       "    <tr style=\"text-align: right;\">\n",
       "      <th></th>\n",
       "      <th>drugName</th>\n",
       "      <th>condition</th>\n",
       "      <th>review</th>\n",
       "      <th>rating</th>\n",
       "      <th>date</th>\n",
       "      <th>usefulCount</th>\n",
       "    </tr>\n",
       "  </thead>\n",
       "  <tbody>\n",
       "    <tr>\n",
       "      <th>0</th>\n",
       "      <td>Valsartan</td>\n",
       "      <td>Left Ventricular Dysfunction</td>\n",
       "      <td>\"It has no side effect, I take it in combinati...</td>\n",
       "      <td>9</td>\n",
       "      <td>2012-05-20</td>\n",
       "      <td>27</td>\n",
       "    </tr>\n",
       "    <tr>\n",
       "      <th>1</th>\n",
       "      <td>Guanfacine</td>\n",
       "      <td>ADHD</td>\n",
       "      <td>\"My son is halfway through his fourth week of ...</td>\n",
       "      <td>8</td>\n",
       "      <td>2010-04-27</td>\n",
       "      <td>192</td>\n",
       "    </tr>\n",
       "    <tr>\n",
       "      <th>2</th>\n",
       "      <td>Lybrel</td>\n",
       "      <td>Birth Control</td>\n",
       "      <td>\"I used to take another oral contraceptive, wh...</td>\n",
       "      <td>5</td>\n",
       "      <td>2009-12-14</td>\n",
       "      <td>17</td>\n",
       "    </tr>\n",
       "    <tr>\n",
       "      <th>3</th>\n",
       "      <td>Ortho Evra</td>\n",
       "      <td>Birth Control</td>\n",
       "      <td>\"This is my first time using any form of birth...</td>\n",
       "      <td>8</td>\n",
       "      <td>2015-11-03</td>\n",
       "      <td>10</td>\n",
       "    </tr>\n",
       "    <tr>\n",
       "      <th>4</th>\n",
       "      <td>Buprenorphine / naloxone</td>\n",
       "      <td>Opiate Dependence</td>\n",
       "      <td>\"Suboxone has completely turned my life around...</td>\n",
       "      <td>9</td>\n",
       "      <td>2016-11-27</td>\n",
       "      <td>37</td>\n",
       "    </tr>\n",
       "  </tbody>\n",
       "</table>\n",
       "</div>"
      ],
      "text/plain": [
       "                   drugName                     condition  \\\n",
       "0                 Valsartan  Left Ventricular Dysfunction   \n",
       "1                Guanfacine                          ADHD   \n",
       "2                    Lybrel                 Birth Control   \n",
       "3                Ortho Evra                 Birth Control   \n",
       "4  Buprenorphine / naloxone             Opiate Dependence   \n",
       "\n",
       "                                              review  rating       date  \\\n",
       "0  \"It has no side effect, I take it in combinati...       9 2012-05-20   \n",
       "1  \"My son is halfway through his fourth week of ...       8 2010-04-27   \n",
       "2  \"I used to take another oral contraceptive, wh...       5 2009-12-14   \n",
       "3  \"This is my first time using any form of birth...       8 2015-11-03   \n",
       "4  \"Suboxone has completely turned my life around...       9 2016-11-27   \n",
       "\n",
       "   usefulCount  \n",
       "0           27  \n",
       "1          192  \n",
       "2           17  \n",
       "3           10  \n",
       "4           37  "
      ]
     },
     "execution_count": 19,
     "metadata": {},
     "output_type": "execute_result"
    }
   ],
   "source": [
    "train_data.head()"
   ]
  },
  {
   "cell_type": "code",
   "execution_count": 20,
   "id": "bb8b169f",
   "metadata": {},
   "outputs": [],
   "source": [
    "test_data['date'] = pd.to_datetime(test_data['date'])"
   ]
  },
  {
   "cell_type": "code",
   "execution_count": 21,
   "id": "76cc8b4b",
   "metadata": {},
   "outputs": [
    {
     "data": {
      "text/html": [
       "<div>\n",
       "<style scoped>\n",
       "    .dataframe tbody tr th:only-of-type {\n",
       "        vertical-align: middle;\n",
       "    }\n",
       "\n",
       "    .dataframe tbody tr th {\n",
       "        vertical-align: top;\n",
       "    }\n",
       "\n",
       "    .dataframe thead th {\n",
       "        text-align: right;\n",
       "    }\n",
       "</style>\n",
       "<table border=\"1\" class=\"dataframe\">\n",
       "  <thead>\n",
       "    <tr style=\"text-align: right;\">\n",
       "      <th></th>\n",
       "      <th>drugName</th>\n",
       "      <th>condition</th>\n",
       "      <th>review</th>\n",
       "      <th>rating</th>\n",
       "      <th>date</th>\n",
       "      <th>usefulCount</th>\n",
       "    </tr>\n",
       "  </thead>\n",
       "  <tbody>\n",
       "    <tr>\n",
       "      <th>0</th>\n",
       "      <td>Mirtazapine</td>\n",
       "      <td>Depression</td>\n",
       "      <td>\"I&amp;#039;ve tried a few antidepressants over th...</td>\n",
       "      <td>10</td>\n",
       "      <td>2012-02-28</td>\n",
       "      <td>22</td>\n",
       "    </tr>\n",
       "    <tr>\n",
       "      <th>1</th>\n",
       "      <td>Mesalamine</td>\n",
       "      <td>Crohn's Disease, Maintenance</td>\n",
       "      <td>\"My son has Crohn&amp;#039;s disease and has done ...</td>\n",
       "      <td>8</td>\n",
       "      <td>2009-05-17</td>\n",
       "      <td>17</td>\n",
       "    </tr>\n",
       "    <tr>\n",
       "      <th>2</th>\n",
       "      <td>Bactrim</td>\n",
       "      <td>Urinary Tract Infection</td>\n",
       "      <td>\"Quick reduction of symptoms\"</td>\n",
       "      <td>9</td>\n",
       "      <td>2017-09-29</td>\n",
       "      <td>3</td>\n",
       "    </tr>\n",
       "    <tr>\n",
       "      <th>3</th>\n",
       "      <td>Contrave</td>\n",
       "      <td>Weight Loss</td>\n",
       "      <td>\"Contrave combines drugs that were used for al...</td>\n",
       "      <td>9</td>\n",
       "      <td>2017-03-05</td>\n",
       "      <td>35</td>\n",
       "    </tr>\n",
       "    <tr>\n",
       "      <th>4</th>\n",
       "      <td>Cyclafem 1 / 35</td>\n",
       "      <td>Birth Control</td>\n",
       "      <td>\"I have been on this birth control for one cyc...</td>\n",
       "      <td>9</td>\n",
       "      <td>2015-10-22</td>\n",
       "      <td>4</td>\n",
       "    </tr>\n",
       "  </tbody>\n",
       "</table>\n",
       "</div>"
      ],
      "text/plain": [
       "          drugName                     condition  \\\n",
       "0      Mirtazapine                    Depression   \n",
       "1       Mesalamine  Crohn's Disease, Maintenance   \n",
       "2          Bactrim       Urinary Tract Infection   \n",
       "3         Contrave                   Weight Loss   \n",
       "4  Cyclafem 1 / 35                 Birth Control   \n",
       "\n",
       "                                              review  rating       date  \\\n",
       "0  \"I&#039;ve tried a few antidepressants over th...      10 2012-02-28   \n",
       "1  \"My son has Crohn&#039;s disease and has done ...       8 2009-05-17   \n",
       "2                      \"Quick reduction of symptoms\"       9 2017-09-29   \n",
       "3  \"Contrave combines drugs that were used for al...       9 2017-03-05   \n",
       "4  \"I have been on this birth control for one cyc...       9 2015-10-22   \n",
       "\n",
       "   usefulCount  \n",
       "0           22  \n",
       "1           17  \n",
       "2            3  \n",
       "3           35  \n",
       "4            4  "
      ]
     },
     "execution_count": 21,
     "metadata": {},
     "output_type": "execute_result"
    }
   ],
   "source": [
    "test_data.head()"
   ]
  },
  {
   "cell_type": "markdown",
   "id": "36044b64",
   "metadata": {},
   "source": [
    "-------\n",
    "### **Put top 10 conditions in a group**\n",
    "------"
   ]
  },
  {
   "cell_type": "code",
   "execution_count": 92,
   "id": "2b589136",
   "metadata": {},
   "outputs": [
    {
     "data": {
      "text/plain": [
       "Birth Control      28788\n",
       "Depression          9069\n",
       "Pain                6145\n",
       "Anxiety             5904\n",
       "Acne                5588\n",
       "Bipolar Disorde     4224\n",
       "Insomnia            3673\n",
       "Weight Loss         3609\n",
       "Obesity             3568\n",
       "ADHD                3383\n",
       "Name: condition, dtype: int64"
      ]
     },
     "execution_count": 92,
     "metadata": {},
     "output_type": "execute_result"
    }
   ],
   "source": [
    "conditions = train_data.condition.value_counts().sort_values(ascending=False)\n",
    "conditions[:10]"
   ]
  },
  {
   "cell_type": "markdown",
   "id": "21341d2b",
   "metadata": {
    "id": "21341d2b"
   },
   "source": [
    "----------\n",
    "## **Univariate Analysis**\n",
    "----------"
   ]
  },
  {
   "cell_type": "markdown",
   "id": "6a1979a2",
   "metadata": {},
   "source": [
    "### **Create boxplots and histograms to explore and visualize data**"
   ]
  },
  {
   "cell_type": "code",
   "execution_count": 23,
   "id": "c1ebcb3d",
   "metadata": {
    "id": "c1ebcb3d"
   },
   "outputs": [],
   "source": [
    "# This method creates a boxplot and a histogram along the same scale\n",
    "\n",
    "def histogram_boxplot(data, feature, figsize = (12, 7), kde = False, bins = None):\n",
    "    \"\"\"\n",
    "    Boxplot and histogram combined\n",
    "\n",
    "    data: dataframe\n",
    "    feature: dataframe column\n",
    "    figsize: size of figure (default (12,7))\n",
    "    kde: whether to the show density curve (default False)\n",
    "    bins: number of bins for histogram (default None)\n",
    "    \"\"\"\n",
    "    f2, (ax_box2, ax_hist2) = plt.subplots(\n",
    "        nrows = 2,  # Number of rows of the subplot grid = 2\n",
    "        sharex = True,  # x-axis will be shared among all subplots\n",
    "        gridspec_kw = {\"height_ratios\": (0.25, 0.75)},\n",
    "        figsize = figsize,\n",
    "    )  # Creating the 2 subplots\n",
    "    sns.boxplot(\n",
    "        data = data, x = feature, ax = ax_box2, showmeans = True, color = \"violet\"\n",
    "    )  # Boxplot will be created and a star will indicate the mean value of the column\n",
    "    sns.histplot(\n",
    "        data = data, x = feature, kde = kde, ax = ax_hist2, bins = bins, palette = \"winter\"\n",
    "    ) if bins else sns.histplot(\n",
    "        data = data, x = feature, kde = kde, ax = ax_hist2\n",
    "    )  # For histogram\n",
    "    ax_hist2.axvline(\n",
    "        data[feature].mean(), color = \"green\", linestyle = \"--\"\n",
    "    )  # Add mean to the histogram\n",
    "    ax_hist2.axvline(\n",
    "        data[feature].median(), color = \"black\", linestyle = \"-\"\n",
    "    )  # Add median to the histogram"
   ]
  },
  {
   "cell_type": "markdown",
   "id": "afe06238",
   "metadata": {
    "id": "afe06238"
   },
   "source": [
    "---------\n",
    "### **Choose a numerical column to study**\n",
    "----------"
   ]
  },
  {
   "cell_type": "code",
   "execution_count": 134,
   "id": "dbc43098",
   "metadata": {
    "colab": {
     "base_uri": "https://localhost:8080/"
    },
    "id": "dbc43098",
    "outputId": "4116ccb8-01cd-4d49-b4fb-cc78323d1aa9"
   },
   "outputs": [
    {
     "data": {
      "image/png": "[encoded data removed]",
      "text/plain": [
       "<Figure size 1200x700 with 2 Axes>"
      ]
     },
     "metadata": {},
     "output_type": "display_data"
    }
   ],
   "source": [
    "histogram_boxplot(train_data, \"rating\")"
   ]
  },
  {
   "cell_type": "markdown",
   "id": "431fda95",
   "metadata": {
    "id": "431fda95"
   },
   "source": [
    "**Observation:**\n",
    "- XXXXX"
   ]
  },
  {
   "cell_type": "markdown",
   "id": "9a38d5b3",
   "metadata": {},
   "source": [
    "-------\n",
    "## **Visualize the various types under a category type**\n",
    "_______"
   ]
  },
  {
   "cell_type": "code",
   "execution_count": 44,
   "id": "1a1f7bdd",
   "metadata": {
    "id": "1a1f7bdd"
   },
   "outputs": [],
   "source": [
    "# Method to create labeled barplots\n",
    "\n",
    "def labeled_barplot(data, feature, perc = False, n = None):\n",
    "    \"\"\"\n",
    "    Barplot with percentage at the top\n",
    "\n",
    "    data: dataframe\n",
    "    feature: dataframe column\n",
    "    perc: whether to display percentages instead of count (default is False)\n",
    "    n: displays the top n category levels (default is None, i.e., display all levels)\n",
    "    \"\"\"\n",
    "\n",
    "    total = len(data[feature])  # Length of the column\n",
    "    count = data[feature].nunique()\n",
    "    if n is None:\n",
    "        plt.figure(figsize = (count + 1, 5))\n",
    "    else:\n",
    "        plt.figure(figsize = (n + 1, 5))\n",
    "\n",
    "    plt.xticks(rotation = 90, fontsize = 15)\n",
    "    ax = sns.countplot(\n",
    "        data = data,\n",
    "        x = feature,\n",
    "        palette = \"Paired\",\n",
    "        order = data[feature].value_counts().index[:n].sort_values(),\n",
    "    )\n",
    "\n",
    "    for p in ax.patches:\n",
    "        if perc == True:\n",
    "            label = \"{:.1f}%\".format(\n",
    "                100 * p.get_height() / total\n",
    "            )  # Percentage of each class of the category\n",
    "        else:\n",
    "            label = p.get_height()  # Count of each level of the category\n",
    "\n",
    "        x = p.get_x() + p.get_width() / 2  # Width of the plot\n",
    "        y = p.get_height()  # Height of the plot\n",
    "\n",
    "        ax.annotate(\n",
    "            label,\n",
    "            (x, y),\n",
    "            ha = \"center\",\n",
    "            va = \"center\",\n",
    "            size = 12,\n",
    "            xytext = (0, 5),\n",
    "            textcoords = \"offset points\",\n",
    "        )  # Annotate the percentage\n",
    "\n",
    "    plt.show()  # Show the plot"
   ]
  },
  {
   "cell_type": "markdown",
   "id": "af2e3e97",
   "metadata": {
    "id": "af2e3e97"
   },
   "source": [
    "------\n",
    "### **Visualize the distribution of 'ratings'**\n",
    "------"
   ]
  },
  {
   "cell_type": "code",
   "execution_count": 135,
   "id": "61c08baf",
   "metadata": {},
   "outputs": [
    {
     "data": {
      "image/png": "[encoded data removed]",
      "text/plain": [
       "<Figure size 1100x500 with 1 Axes>"
      ]
     },
     "metadata": {},
     "output_type": "display_data"
    }
   ],
   "source": [
    "labeled_barplot(train_data, 'rating', perc = True, n = None)"
   ]
  },
  {
   "cell_type": "code",
   "execution_count": 136,
   "id": "4153b763",
   "metadata": {},
   "outputs": [
    {
     "data": {
      "text/plain": [
       "Text(0, 0.5, 'Count')"
      ]
     },
     "execution_count": 136,
     "metadata": {},
     "output_type": "execute_result"
    },
    {
     "data": {
      "image/png": "[encoded data removed]",
      "text/plain": [
       "<Figure size 1200x800 with 1 Axes>"
      ]
     },
     "metadata": {},
     "output_type": "display_data"
    }
   ],
   "source": [
    "train_data.rating.hist(color='skyblue')\n",
    "plt.title('Distribution of Ratings')\n",
    "plt.xlabel('Rating')\n",
    "plt.ylabel('Count')"
   ]
  },
  {
   "cell_type": "code",
   "execution_count": 120,
   "id": "ffff36f5",
   "metadata": {},
   "outputs": [
    {
     "data": {
      "text/plain": [
       "Text(0, 0.5, 'Count')"
      ]
     },
     "execution_count": 120,
     "metadata": {},
     "output_type": "execute_result"
    },
    {
     "data": {
      "image/png": "[encoded data removed]",
      "text/plain": [
       "<Figure size 1200x800 with 1 Axes>"
      ]
     },
     "metadata": {},
     "output_type": "display_data"
    }
   ],
   "source": [
    "rating_avgs = (train_data['rating'].groupby(train_data['drugName']).mean())\n",
    "rating_avgs.hist(color='skyblue')\n",
    "plt.title('Distribution of average drug ratings')\n",
    "plt.xlabel('Rating')\n",
    "plt.ylabel('Count')"
   ]
  },
  {
   "cell_type": "code",
   "execution_count": 137,
   "id": "56d9a369",
   "metadata": {},
   "outputs": [
    {
     "data": {
      "image/png": "[encoded data removed]",
      "text/plain": [
       "<Figure size 1200x800 with 1 Axes>"
      ]
     },
     "metadata": {},
     "output_type": "display_data"
    }
   ],
   "source": [
    "rating_avgs = (train_data['rating'].groupby(train_data['condition']).mean())\n",
    "rating_avgs.hist(color='skyblue')\n",
    "plt.title('Averages of medication reviews for each disease')\n",
    "plt.xlabel('Rating')\n",
    "plt.ylabel('Count')\n",
    "plt.show()"
   ]
  },
  {
   "cell_type": "code",
   "execution_count": 122,
   "id": "cf958684",
   "metadata": {},
   "outputs": [
    {
     "data": {
      "text/plain": [
       "([<matplotlib.axis.XTick at 0x2a3be0bb0>,\n",
       "  <matplotlib.axis.XTick at 0x2a3be0b80>,\n",
       "  <matplotlib.axis.XTick at 0x2a3be07f0>,\n",
       "  <matplotlib.axis.XTick at 0x2a3bbf910>,\n",
       "  <matplotlib.axis.XTick at 0x2a6011510>,\n",
       "  <matplotlib.axis.XTick at 0x2a6011de0>,\n",
       "  <matplotlib.axis.XTick at 0x2a60125c0>,\n",
       "  <matplotlib.axis.XTick at 0x2a6012da0>,\n",
       "  <matplotlib.axis.XTick at 0x2a6013580>,\n",
       "  <matplotlib.axis.XTick at 0x2a60132e0>],\n",
       " [Text(1, 0, '1'),\n",
       "  Text(2, 0, '2'),\n",
       "  Text(3, 0, '3'),\n",
       "  Text(4, 0, '4'),\n",
       "  Text(5, 0, '5'),\n",
       "  Text(6, 0, '6'),\n",
       "  Text(7, 0, '7'),\n",
       "  Text(8, 0, '8'),\n",
       "  Text(9, 0, '9'),\n",
       "  Text(10, 0, '10')])"
      ]
     },
     "execution_count": 122,
     "metadata": {},
     "output_type": "execute_result"
    },
    {
     "data": {
      "image/png": "[encoded data removed]",
      "text/plain": [
       "<Figure size 1200x800 with 1 Axes>"
      ]
     },
     "metadata": {},
     "output_type": "display_data"
    }
   ],
   "source": [
    "# Is rating correlated with usefulness of the review?\n",
    "\n",
    "plt.scatter(train_data.rating, train_data.usefulCount, c=train_data.rating.values, cmap='tab10')\n",
    "plt.title('Useful Count vs Rating')\n",
    "plt.xlabel('Rating')\n",
    "plt.ylabel('Useful Count')\n",
    "plt.xticks([i for i in range(1, 11)])"
   ]
  },
  {
   "cell_type": "code",
   "execution_count": 138,
   "id": "6d2d7dcb",
   "metadata": {},
   "outputs": [],
   "source": [
    "# Create a list (cast into an array) containing the average usefulness for given ratings\n",
    "use_ls = []\n",
    "\n",
    "for i in range(1, 11):\n",
    "    use_ls.append([i, np.sum(train_data[train_data.rating == i].usefulCount) / np.sum([train_data.rating == i])])\n",
    "    \n",
    "use_arr = np.asarray(use_ls)"
   ]
  },
  {
   "cell_type": "code",
   "execution_count": 127,
   "id": "8d28c388",
   "metadata": {},
   "outputs": [
    {
     "data": {
      "text/plain": [
       "([<matplotlib.axis.XTick at 0x2a877ebc0>,\n",
       "  <matplotlib.axis.XTick at 0x2a877eb90>,\n",
       "  <matplotlib.axis.XTick at 0x2a877e800>,\n",
       "  <matplotlib.axis.XTick at 0x2a877d810>,\n",
       "  <matplotlib.axis.XTick at 0x2a87609d0>,\n",
       "  <matplotlib.axis.XTick at 0x2a877c0d0>,\n",
       "  <matplotlib.axis.XTick at 0x2a8761150>,\n",
       "  <matplotlib.axis.XTick at 0x2a87613c0>,\n",
       "  <matplotlib.axis.XTick at 0x2a87627a0>,\n",
       "  <matplotlib.axis.XTick at 0x2a8762fb0>],\n",
       " [Text(1, 0, '1'),\n",
       "  Text(2, 0, '2'),\n",
       "  Text(3, 0, '3'),\n",
       "  Text(4, 0, '4'),\n",
       "  Text(5, 0, '5'),\n",
       "  Text(6, 0, '6'),\n",
       "  Text(7, 0, '7'),\n",
       "  Text(8, 0, '8'),\n",
       "  Text(9, 0, '9'),\n",
       "  Text(10, 0, '10')])"
      ]
     },
     "execution_count": 127,
     "metadata": {},
     "output_type": "execute_result"
    },
    {
     "data": {
      "image/png": "[encoded data removed]",
      "text/plain": [
       "<Figure size 1200x800 with 1 Axes>"
      ]
     },
     "metadata": {},
     "output_type": "display_data"
    }
   ],
   "source": [
    "plt.scatter(use_arr[:, 0], use_arr[:, 1], c=use_arr[:, 0], cmap='tab10', s=200)\n",
    "plt.title('Average Useful Count vs Rating')\n",
    "plt.xlabel('Rating')\n",
    "plt.ylabel('Average Useful Count')\n",
    "plt.xticks([i for i in range(1, 11)])"
   ]
  },
  {
   "cell_type": "code",
   "execution_count": 139,
   "id": "6f8d7ba1",
   "metadata": {},
   "outputs": [
    {
     "data": {
      "text/html": [
       "<div>\n",
       "<style scoped>\n",
       "    .dataframe tbody tr th:only-of-type {\n",
       "        vertical-align: middle;\n",
       "    }\n",
       "\n",
       "    .dataframe tbody tr th {\n",
       "        vertical-align: top;\n",
       "    }\n",
       "\n",
       "    .dataframe thead th {\n",
       "        text-align: right;\n",
       "    }\n",
       "</style>\n",
       "<table border=\"1\" class=\"dataframe\">\n",
       "  <thead>\n",
       "    <tr style=\"text-align: right;\">\n",
       "      <th></th>\n",
       "      <th>drugName</th>\n",
       "      <th>condition</th>\n",
       "      <th>review</th>\n",
       "      <th>rating</th>\n",
       "      <th>date</th>\n",
       "      <th>usefulCount</th>\n",
       "    </tr>\n",
       "  </thead>\n",
       "  <tbody>\n",
       "    <tr>\n",
       "      <th>6716</th>\n",
       "      <td>Sertraline</td>\n",
       "      <td>Depression</td>\n",
       "      <td>\"I remember reading people&amp;#039;s opinions, on...</td>\n",
       "      <td>10</td>\n",
       "      <td>2008-07-31</td>\n",
       "      <td>1291</td>\n",
       "    </tr>\n",
       "    <tr>\n",
       "      <th>33552</th>\n",
       "      <td>Zoloft</td>\n",
       "      <td>Depression</td>\n",
       "      <td>\"I remember reading people&amp;#039;s opinions, on...</td>\n",
       "      <td>10</td>\n",
       "      <td>2008-07-31</td>\n",
       "      <td>1291</td>\n",
       "    </tr>\n",
       "    <tr>\n",
       "      <th>21708</th>\n",
       "      <td>Levonorgestrel</td>\n",
       "      <td>Birth Control</td>\n",
       "      <td>\"I have had my IUD for over a year now and I t...</td>\n",
       "      <td>10</td>\n",
       "      <td>2009-04-01</td>\n",
       "      <td>1247</td>\n",
       "    </tr>\n",
       "    <tr>\n",
       "      <th>4249</th>\n",
       "      <td>Mirena</td>\n",
       "      <td>Birth Control</td>\n",
       "      <td>\"I have had my IUD for over a year now and I t...</td>\n",
       "      <td>10</td>\n",
       "      <td>2009-04-01</td>\n",
       "      <td>1247</td>\n",
       "    </tr>\n",
       "    <tr>\n",
       "      <th>146145</th>\n",
       "      <td>Zoloft</td>\n",
       "      <td>Depression</td>\n",
       "      <td>\"I&amp;#039;ve been on Zoloft 50mg for over two ye...</td>\n",
       "      <td>9</td>\n",
       "      <td>2008-08-05</td>\n",
       "      <td>949</td>\n",
       "    </tr>\n",
       "    <tr>\n",
       "      <th>58608</th>\n",
       "      <td>Phentermine</td>\n",
       "      <td>Weight Loss</td>\n",
       "      <td>\"I have used this pill off and on for the past...</td>\n",
       "      <td>10</td>\n",
       "      <td>2008-10-19</td>\n",
       "      <td>796</td>\n",
       "    </tr>\n",
       "    <tr>\n",
       "      <th>16889</th>\n",
       "      <td>Adipex-P</td>\n",
       "      <td>Weight Loss</td>\n",
       "      <td>\"I have used this pill off and on for the past...</td>\n",
       "      <td>10</td>\n",
       "      <td>2008-10-19</td>\n",
       "      <td>796</td>\n",
       "    </tr>\n",
       "    <tr>\n",
       "      <th>2039</th>\n",
       "      <td>Citalopram</td>\n",
       "      <td>Depression</td>\n",
       "      <td>\"I responded after one week. The side effects ...</td>\n",
       "      <td>8</td>\n",
       "      <td>2008-03-25</td>\n",
       "      <td>771</td>\n",
       "    </tr>\n",
       "    <tr>\n",
       "      <th>152838</th>\n",
       "      <td>Celexa</td>\n",
       "      <td>Depression</td>\n",
       "      <td>\"I responded after one week. The side effects ...</td>\n",
       "      <td>8</td>\n",
       "      <td>2008-03-25</td>\n",
       "      <td>771</td>\n",
       "    </tr>\n",
       "    <tr>\n",
       "      <th>5218</th>\n",
       "      <td>Implanon</td>\n",
       "      <td>Birth Control</td>\n",
       "      <td>\"I was very nervous about trying Implanon afte...</td>\n",
       "      <td>10</td>\n",
       "      <td>2010-07-19</td>\n",
       "      <td>730</td>\n",
       "    </tr>\n",
       "  </tbody>\n",
       "</table>\n",
       "</div>"
      ],
      "text/plain": [
       "              drugName      condition  \\\n",
       "6716        Sertraline     Depression   \n",
       "33552           Zoloft     Depression   \n",
       "21708   Levonorgestrel  Birth Control   \n",
       "4249            Mirena  Birth Control   \n",
       "146145          Zoloft     Depression   \n",
       "58608      Phentermine    Weight Loss   \n",
       "16889         Adipex-P    Weight Loss   \n",
       "2039        Citalopram     Depression   \n",
       "152838          Celexa     Depression   \n",
       "5218          Implanon  Birth Control   \n",
       "\n",
       "                                                   review  rating       date  \\\n",
       "6716    \"I remember reading people&#039;s opinions, on...      10 2008-07-31   \n",
       "33552   \"I remember reading people&#039;s opinions, on...      10 2008-07-31   \n",
       "21708   \"I have had my IUD for over a year now and I t...      10 2009-04-01   \n",
       "4249    \"I have had my IUD for over a year now and I t...      10 2009-04-01   \n",
       "146145  \"I&#039;ve been on Zoloft 50mg for over two ye...       9 2008-08-05   \n",
       "58608   \"I have used this pill off and on for the past...      10 2008-10-19   \n",
       "16889   \"I have used this pill off and on for the past...      10 2008-10-19   \n",
       "2039    \"I responded after one week. The side effects ...       8 2008-03-25   \n",
       "152838  \"I responded after one week. The side effects ...       8 2008-03-25   \n",
       "5218    \"I was very nervous about trying Implanon afte...      10 2010-07-19   \n",
       "\n",
       "        usefulCount  \n",
       "6716           1291  \n",
       "33552          1291  \n",
       "21708          1247  \n",
       "4249           1247  \n",
       "146145          949  \n",
       "58608           796  \n",
       "16889           796  \n",
       "2039            771  \n",
       "152838          771  \n",
       "5218            730  "
      ]
     },
     "execution_count": 139,
     "metadata": {},
     "output_type": "execute_result"
    }
   ],
   "source": [
    "# Sort train dataframe from most to least useful\n",
    "useful_train = train_data.sort_values(by='usefulCount', ascending=False)\n",
    "useful_train.iloc[:10]"
   ]
  },
  {
   "cell_type": "code",
   "execution_count": 129,
   "id": "5ae39f07",
   "metadata": {},
   "outputs": [
    {
     "name": "stdout",
     "output_type": "stream",
     "text": [
      "\"I remember reading people&#039;s opinions, online, of the drug before I took it and it scared me away from it. Then I finally decided to give it a try and it has been the best choice I have made. I have been on it for over 4 months and I feel great. I&#039;m on 100mg and I don&#039;t have any side effects. When I first started I did notice that my hands would tremble but then it subsided. So honestly, don&#039;t listen to all the negativity because what doesn&#039;t work for some works amazing for others. So go based on youself and not everyone else. It may be a blessing in diguise. The pill is not meant to make you be all happy go lucky and see &quot;butterflies and roses&quot;, its meant to help put the chemicals in your mind in balance so you can just be who you are and not overly depressed. I still get sad some times, but that is normal, that is life, and it&#039;s up to people to take control to make a change. I did so by getting on this pill.\" \n",
      "\n",
      "\"I remember reading people&#039;s opinions, online, of the drug before I took it and it scared me away from it. Then I finally decided to give it a try and it has been the best choice I have made. I have been on it for over 4 months and I feel great. I&#039;m on 100mg and I don&#039;t have any side effects. When I first started I did notice that my hands would tremble but then it subsided. So honestly, don&#039;t listen to all the negativity because what doesn&#039;t work for some works amazing for others. So go based on youself and not everyone else. It may be a blessing in diguise. The pill is not meant to make you be all happy go lucky and see &quot;butterflies and roses&quot;, its meant to help put the chemicals in your mind in balance so you can just be who you are and not overly depressed. I still get sad some times, but that is normal, that is life, and it&#039;s up to people to take control to make a change. I did so by getting on this pill.\" \n",
      "\n",
      "\"I have had my IUD for over a year now and I think it&#039;s the best thing ever. When I first got it put in I only bled for about a week with a little cramping. After that nothing at all. I haven&#039;t had a period for about 8months until I finally got one, and its not bad at all. It&#039;s light, no cramping, no headache, nothing. I haven&#039;t gained weight, my acne is gone, and my moods are fine. I know all women are different, but I just hear all these horror stories and I just wanted to tell my story, which is a good one. Hope it calms some of your fears.\" \n",
      "\n"
     ]
    }
   ],
   "source": [
    "# Print top 10 most useful reviews\n",
    "\n",
    "for i in useful_train.review.iloc[:3]:\n",
    "    print(i, '\\n')"
   ]
  },
  {
   "cell_type": "code",
   "execution_count": 130,
   "id": "0b530f77",
   "metadata": {},
   "outputs": [
    {
     "name": "stdout",
     "output_type": "stream",
     "text": [
      "\"I received Implanon in May of 2008. I am due to have it removed in 6 months however, for the past year I have experienced decrease in sex drive, weight gain of 30lbs and also mood swings. My periods have been very scheduled and fairly regular which was great until 4-5 months ago when I missed a period then was on time the following 2 months. Last month I started a week early and it was unusually light, this month I started 2 1/2 weeks early and it has been off and on spotting for the past 5 days. I did call the helpline when I missed my period. They did not seem to concerned and I have not been able to find ANYwhere the birth rates on this specific birth control! I loved it until a year ago so the first half of my experience was great the last half no.\" \n",
      "\n",
      "\"The only warning my gyno gave me was that I would be spotting for about 15 days after having the IUD inserted, which was a damn lie.  I spotted for a whole four weeks after the procedure.  My uterus chilled for two weeks before I started spotting again.  I then became frustrated because this irregular spotting was now interfering with my sex life.  Panty liners, something I never sought to buy, will become your most prized possession.  During the first 3! months, your period will be irregular.  Mine became lighter but the duration lasted longer.  I went from a 5-day cycle to a 10- 13-day cycle.\" \n",
      "\n",
      "\"I started yesterday and today I see it darker. Should I stop? I have a wedding in 10 days... will my melasma be better by then or still this dark? Thank you\" \n",
      "\n"
     ]
    }
   ],
   "source": [
    "# Print 10 of the least useful reviews\n",
    "for i in useful_train.review.iloc[-3:]:\n",
    "    print(i, '\\n')"
   ]
  },
  {
   "cell_type": "code",
   "execution_count": 146,
   "id": "732ffc8c",
   "metadata": {},
   "outputs": [],
   "source": [
    "sid = SentimentIntensityAnalyzer"
   ]
  },
  {
   "cell_type": "code",
   "execution_count": 147,
   "id": "e980d014",
   "metadata": {},
   "outputs": [
    {
     "ename": "TypeError",
     "evalue": "SentimentIntensityAnalyzer.polarity_scores() missing 1 required positional argument: 'text'",
     "output_type": "error",
     "traceback": [
      "\u001b[0;31m---------------------------------------------------------------------------\u001b[0m",
      "\u001b[0;31mTypeError\u001b[0m                                 Traceback (most recent call last)",
      "Cell \u001b[0;32mIn [147], line 5\u001b[0m\n\u001b[1;32m      2\u001b[0m sentiments \u001b[39m=\u001b[39m []\n\u001b[1;32m      4\u001b[0m \u001b[39mfor\u001b[39;00m i \u001b[39min\u001b[39;00m train_data\u001b[39m.\u001b[39mreview:\n\u001b[0;32m----> 5\u001b[0m     sentiments\u001b[39m.\u001b[39mappend(sid\u001b[39m.\u001b[39;49mpolarity_scores(i)\u001b[39m.\u001b[39mget(\u001b[39m'\u001b[39m\u001b[39mcompound\u001b[39m\u001b[39m'\u001b[39m))\n\u001b[1;32m      7\u001b[0m sentiments \u001b[39m=\u001b[39m np\u001b[39m.\u001b[39masarray(sentiments)\n",
      "\u001b[0;31mTypeError\u001b[0m: SentimentIntensityAnalyzer.polarity_scores() missing 1 required positional argument: 'text'"
     ]
    }
   ],
   "source": [
    "# Create list (cast to array) of compound polarity sentiment scores for reviews\n",
    "sentiments = []\n",
    "\n",
    "for i in train_data.review:\n",
    "    sentiments.append(sid.polarity_scores(i).get('compound'))\n",
    "    \n",
    "sentiments = np.asarray(sentiments)"
   ]
  },
  {
   "cell_type": "code",
   "execution_count": null,
   "id": "0e9b00da",
   "metadata": {},
   "outputs": [],
   "source": []
  },
  {
   "cell_type": "code",
   "execution_count": 76,
   "id": "1f4128d2",
   "metadata": {
    "colab": {
     "base_uri": "https://localhost:8080/"
    },
    "id": "1f4128d2",
    "outputId": "a9ebecba-7fb3-48e2-b2dd-fa1eebfc6b78"
   },
   "outputs": [
    {
     "data": {
      "text/plain": [
       "Text(0, 0.5, 'Count')"
      ]
     },
     "execution_count": 76,
     "metadata": {},
     "output_type": "execute_result"
    },
    {
     "data": {
      "image/png": "[encoded data removed]",
      "text/plain": [
       "<Figure size 1200x800 with 1 Axes>"
      ]
     },
     "metadata": {},
     "output_type": "display_data"
    }
   ],
   "source": [
    "\n",
    "\n",
    "conditions[:10].plot(kind='bar', stacked=True, colormap='Paired')\n",
    "plt.title('Top 10 Most Common Conditions')\n",
    "plt.xlabel('Condition')\n",
    "plt.ylabel('Count')\n"
   ]
  },
  {
   "cell_type": "markdown",
   "id": "058c0cf9",
   "metadata": {
    "id": "058c0cf9"
   },
   "source": [
    "**Observations:**\n",
    "- xxx"
   ]
  },
  {
   "cell_type": "markdown",
   "id": "46f0b9af",
   "metadata": {
    "id": "46f0b9af"
   },
   "source": [
    "----------\n",
    "### **Bivariate Analysis**\n",
    "----------"
   ]
  },
  {
   "cell_type": "markdown",
   "id": "cbdfbf46",
   "metadata": {},
   "source": [
    "### **Correlation Matrix as heatmap**"
   ]
  },
  {
   "cell_type": "code",
   "execution_count": 91,
   "id": "896fd22b",
   "metadata": {
    "colab": {
     "base_uri": "https://localhost:8080/",
     "height": 442
    },
    "id": "896fd22b",
    "outputId": "c6c19002-b83f-4ce9-e05f-2bc435faadd6"
   },
   "outputs": [
    {
     "data": {
      "image/png": "[encoded data removed]",
      "text/plain": [
       "<Figure size 1000x500 with 2 Axes>"
      ]
     },
     "metadata": {},
     "output_type": "display_data"
    }
   ],
   "source": [
    "cols_list = train_data.select_dtypes(include = np.number).columns.tolist()\n",
    "\n",
    "plt.figure(figsize = (10, 5))\n",
    "sns.heatmap(\n",
    "    train_data[cols_list].corr(), annot = True, vmin = -1, vmax = 1, fmt = \".2f\", cmap = \"Spectral\"\n",
    ")\n",
    "plt.show()"
   ]
  },
  {
   "cell_type": "markdown",
   "id": "033113bf",
   "metadata": {
    "id": "033113bf"
   },
   "source": [
    "**Observations:**\n",
    "- xxxxx"
   ]
  },
  {
   "cell_type": "markdown",
   "id": "02b68b47",
   "metadata": {
    "id": "02b68b47"
   },
   "source": [
    "**Visualize the distribution of the target categorical variable (dependent or experimental, all depending on scope of the project) with the numeric columns with a SCATTERPLOT** "
   ]
  },
  {
   "cell_type": "markdown",
   "id": "20f889af",
   "metadata": {
    "id": "20f889af"
   },
   "source": [
    "**Observation:**\n",
    "- xxx "
   ]
  },
  {
   "cell_type": "markdown",
   "id": "9292a578",
   "metadata": {
    "id": "9292a578"
   },
   "source": [
    "-------\n",
    "## **Visualize relationships across multiple classes under a multi-class category against the target variable**\n",
    "-------"
   ]
  },
  {
   "cell_type": "code",
   "execution_count": 102,
   "id": "ca6cdaaa",
   "metadata": {
    "colab": {
     "base_uri": "https://localhost:8080/",
     "height": 606
    },
    "id": "ca6cdaaa",
    "outputId": "ce87a385-40c7-471d-80e8-9447aeb8933f"
   },
   "outputs": [
    {
     "ename": "ValueError",
     "evalue": "The truth value of a Series is ambiguous. Use a.empty, a.bool(), a.item(), a.any() or a.all().",
     "output_type": "error",
     "traceback": [
      "\u001b[0;31m---------------------------------------------------------------------------\u001b[0m",
      "\u001b[0;31mValueError\u001b[0m                                Traceback (most recent call last)",
      "Cell \u001b[0;32mIn [102], line 5\u001b[0m\n\u001b[1;32m      3\u001b[0m plt\u001b[39m.\u001b[39mfigure(figsize \u001b[39m=\u001b[39m [\u001b[39m14\u001b[39m, \u001b[39m8\u001b[39m])\n\u001b[1;32m      4\u001b[0m plt\u001b[39m.\u001b[39mxticks(rotation \u001b[39m=\u001b[39m \u001b[39m90\u001b[39m)\n\u001b[0;32m----> 5\u001b[0m a \u001b[39m=\u001b[39m sns\u001b[39m.\u001b[39;49mbarplot(x \u001b[39m=\u001b[39;49m df_NEW_DATAFRAME_1, y \u001b[39m=\u001b[39;49m train_data\u001b[39m.\u001b[39;49mrating)\n\u001b[1;32m      6\u001b[0m a\u001b[39m.\u001b[39mset_xlabel(\u001b[39m\"\u001b[39m\u001b[39mColumn Label\u001b[39m\u001b[39m\"\u001b[39m)\n\u001b[1;32m      7\u001b[0m a\u001b[39m.\u001b[39mset_ylabel(\u001b[39m\"\u001b[39m\u001b[39mTarget variable name\u001b[39m\u001b[39m\"\u001b[39m)\n",
      "File \u001b[0;32m/opt/homebrew/lib/python3.10/site-packages/seaborn/categorical.py:2754\u001b[0m, in \u001b[0;36mbarplot\u001b[0;34m(data, x, y, hue, order, hue_order, estimator, errorbar, n_boot, units, seed, orient, color, palette, saturation, width, errcolor, errwidth, capsize, dodge, ci, ax, **kwargs)\u001b[0m\n\u001b[1;32m   2751\u001b[0m \u001b[39mif\u001b[39;00m estimator \u001b[39mis\u001b[39;00m \u001b[39mlen\u001b[39m:\n\u001b[1;32m   2752\u001b[0m     estimator \u001b[39m=\u001b[39m \u001b[39m\"\u001b[39m\u001b[39msize\u001b[39m\u001b[39m\"\u001b[39m\n\u001b[0;32m-> 2754\u001b[0m plotter \u001b[39m=\u001b[39m _BarPlotter(x, y, hue, data, order, hue_order,\n\u001b[1;32m   2755\u001b[0m                       estimator, errorbar, n_boot, units, seed,\n\u001b[1;32m   2756\u001b[0m                       orient, color, palette, saturation,\n\u001b[1;32m   2757\u001b[0m                       width, errcolor, errwidth, capsize, dodge)\n\u001b[1;32m   2759\u001b[0m \u001b[39mif\u001b[39;00m ax \u001b[39mis\u001b[39;00m \u001b[39mNone\u001b[39;00m:\n\u001b[1;32m   2760\u001b[0m     ax \u001b[39m=\u001b[39m plt\u001b[39m.\u001b[39mgca()\n",
      "File \u001b[0;32m/opt/homebrew/lib/python3.10/site-packages/seaborn/categorical.py:1530\u001b[0m, in \u001b[0;36m_BarPlotter.__init__\u001b[0;34m(self, x, y, hue, data, order, hue_order, estimator, errorbar, n_boot, units, seed, orient, color, palette, saturation, width, errcolor, errwidth, capsize, dodge)\u001b[0m\n\u001b[1;32m   1525\u001b[0m \u001b[39mdef\u001b[39;00m \u001b[39m__init__\u001b[39m(\u001b[39mself\u001b[39m, x, y, hue, data, order, hue_order,\n\u001b[1;32m   1526\u001b[0m              estimator, errorbar, n_boot, units, seed,\n\u001b[1;32m   1527\u001b[0m              orient, color, palette, saturation, width,\n\u001b[1;32m   1528\u001b[0m              errcolor, errwidth, capsize, dodge):\n\u001b[1;32m   1529\u001b[0m     \u001b[39m\"\"\"Initialize the plotter.\"\"\"\u001b[39;00m\n\u001b[0;32m-> 1530\u001b[0m     \u001b[39mself\u001b[39;49m\u001b[39m.\u001b[39;49mestablish_variables(x, y, hue, data, orient,\n\u001b[1;32m   1531\u001b[0m                              order, hue_order, units)\n\u001b[1;32m   1532\u001b[0m     \u001b[39mself\u001b[39m\u001b[39m.\u001b[39mestablish_colors(color, palette, saturation)\n\u001b[1;32m   1533\u001b[0m     \u001b[39mself\u001b[39m\u001b[39m.\u001b[39mestimate_statistic(estimator, errorbar, n_boot, seed)\n",
      "File \u001b[0;32m/opt/homebrew/lib/python3.10/site-packages/seaborn/categorical.py:544\u001b[0m, in \u001b[0;36m_CategoricalPlotter.establish_variables\u001b[0;34m(self, x, y, hue, data, orient, order, hue_order, units)\u001b[0m\n\u001b[1;32m    541\u001b[0m         \u001b[39mraise\u001b[39;00m \u001b[39mValueError\u001b[39;00m(err)\n\u001b[1;32m    543\u001b[0m \u001b[39m# Figure out the plotting orientation\u001b[39;00m\n\u001b[0;32m--> 544\u001b[0m orient \u001b[39m=\u001b[39m infer_orient(\n\u001b[1;32m    545\u001b[0m     x, y, orient, require_numeric\u001b[39m=\u001b[39;49m\u001b[39mself\u001b[39;49m\u001b[39m.\u001b[39;49mrequire_numeric\n\u001b[1;32m    546\u001b[0m )\n\u001b[1;32m    548\u001b[0m \u001b[39m# Option 2a:\u001b[39;00m\n\u001b[1;32m    549\u001b[0m \u001b[39m# We are plotting a single set of data\u001b[39;00m\n\u001b[1;32m    550\u001b[0m \u001b[39m# ------------------------------------\u001b[39;00m\n\u001b[1;32m    551\u001b[0m \u001b[39mif\u001b[39;00m x \u001b[39mis\u001b[39;00m \u001b[39mNone\u001b[39;00m \u001b[39mor\u001b[39;00m y \u001b[39mis\u001b[39;00m \u001b[39mNone\u001b[39;00m:\n\u001b[1;32m    552\u001b[0m \n\u001b[1;32m    553\u001b[0m     \u001b[39m# Determine where the data are\u001b[39;00m\n",
      "File \u001b[0;32m/opt/homebrew/lib/python3.10/site-packages/seaborn/_oldcore.py:1584\u001b[0m, in \u001b[0;36minfer_orient\u001b[0;34m(x, y, orient, require_numeric)\u001b[0m\n\u001b[1;32m   1556\u001b[0m \u001b[39mdef\u001b[39;00m \u001b[39minfer_orient\u001b[39m(x\u001b[39m=\u001b[39m\u001b[39mNone\u001b[39;00m, y\u001b[39m=\u001b[39m\u001b[39mNone\u001b[39;00m, orient\u001b[39m=\u001b[39m\u001b[39mNone\u001b[39;00m, require_numeric\u001b[39m=\u001b[39m\u001b[39mTrue\u001b[39;00m):\n\u001b[1;32m   1557\u001b[0m     \u001b[39m\"\"\"Determine how the plot should be oriented based on the data.\u001b[39;00m\n\u001b[1;32m   1558\u001b[0m \n\u001b[1;32m   1559\u001b[0m \u001b[39m    For historical reasons, the convention is to call a plot \"horizontally\"\u001b[39;00m\n\u001b[0;32m   (...)\u001b[0m\n\u001b[1;32m   1581\u001b[0m \n\u001b[1;32m   1582\u001b[0m \u001b[39m    \"\"\"\u001b[39;00m\n\u001b[0;32m-> 1584\u001b[0m     x_type \u001b[39m=\u001b[39m \u001b[39mNone\u001b[39;00m \u001b[39mif\u001b[39;00m x \u001b[39mis\u001b[39;00m \u001b[39mNone\u001b[39;00m \u001b[39melse\u001b[39;00m variable_type(x)\n\u001b[1;32m   1585\u001b[0m     y_type \u001b[39m=\u001b[39m \u001b[39mNone\u001b[39;00m \u001b[39mif\u001b[39;00m y \u001b[39mis\u001b[39;00m \u001b[39mNone\u001b[39;00m \u001b[39melse\u001b[39;00m variable_type(y)\n\u001b[1;32m   1587\u001b[0m     nonnumeric_dv_error \u001b[39m=\u001b[39m \u001b[39m\"\u001b[39m\u001b[39m{}\u001b[39;00m\u001b[39m orientation requires numeric `\u001b[39m\u001b[39m{}\u001b[39;00m\u001b[39m` variable.\u001b[39m\u001b[39m\"\u001b[39m\n",
      "File \u001b[0;32m/opt/homebrew/lib/python3.10/site-packages/seaborn/_oldcore.py:1502\u001b[0m, in \u001b[0;36mvariable_type\u001b[0;34m(vector, boolean_type)\u001b[0m\n\u001b[1;32m   1499\u001b[0m     \u001b[39mreturn\u001b[39;00m VariableType(\u001b[39m\"\u001b[39m\u001b[39mcategorical\u001b[39m\u001b[39m\"\u001b[39m)\n\u001b[1;32m   1501\u001b[0m \u001b[39m# Special-case all-na data, which is always \"numeric\"\u001b[39;00m\n\u001b[0;32m-> 1502\u001b[0m \u001b[39mif\u001b[39;00m pd\u001b[39m.\u001b[39misna(vector)\u001b[39m.\u001b[39mall():\n\u001b[1;32m   1503\u001b[0m     \u001b[39mreturn\u001b[39;00m VariableType(\u001b[39m\"\u001b[39m\u001b[39mnumeric\u001b[39m\u001b[39m\"\u001b[39m)\n\u001b[1;32m   1505\u001b[0m \u001b[39m# Special-case binary/boolean data, allow caller to determine\u001b[39;00m\n\u001b[1;32m   1506\u001b[0m \u001b[39m# This triggers a numpy warning when vector has strings/objects\u001b[39;00m\n\u001b[1;32m   1507\u001b[0m \u001b[39m# https://github.com/numpy/numpy/issues/6784\u001b[39;00m\n\u001b[0;32m   (...)\u001b[0m\n\u001b[1;32m   1511\u001b[0m \u001b[39m# https://github.com/numpy/numpy/issues/13548\u001b[39;00m\n\u001b[1;32m   1512\u001b[0m \u001b[39m# This is considered a bug by numpy and will likely go away.\u001b[39;00m\n",
      "File \u001b[0;32m/opt/homebrew/lib/python3.10/site-packages/pandas/core/generic.py:1527\u001b[0m, in \u001b[0;36mNDFrame.__nonzero__\u001b[0;34m(self)\u001b[0m\n\u001b[1;32m   1525\u001b[0m \u001b[39m@final\u001b[39m\n\u001b[1;32m   1526\u001b[0m \u001b[39mdef\u001b[39;00m \u001b[39m__nonzero__\u001b[39m(\u001b[39mself\u001b[39m) \u001b[39m-\u001b[39m\u001b[39m>\u001b[39m NoReturn:\n\u001b[0;32m-> 1527\u001b[0m     \u001b[39mraise\u001b[39;00m \u001b[39mValueError\u001b[39;00m(\n\u001b[1;32m   1528\u001b[0m         \u001b[39mf\u001b[39m\u001b[39m\"\u001b[39m\u001b[39mThe truth value of a \u001b[39m\u001b[39m{\u001b[39;00m\u001b[39mtype\u001b[39m(\u001b[39mself\u001b[39m)\u001b[39m.\u001b[39m\u001b[39m__name__\u001b[39m\u001b[39m}\u001b[39;00m\u001b[39m is ambiguous. \u001b[39m\u001b[39m\"\u001b[39m\n\u001b[1;32m   1529\u001b[0m         \u001b[39m\"\u001b[39m\u001b[39mUse a.empty, a.bool(), a.item(), a.any() or a.all().\u001b[39m\u001b[39m\"\u001b[39m\n\u001b[1;32m   1530\u001b[0m     )\n",
      "\u001b[0;31mValueError\u001b[0m: The truth value of a Series is ambiguous. Use a.empty, a.bool(), a.item(), a.any() or a.all()."
     ]
    },
    {
     "data": {
      "image/png": "[encoded data removed]",
      "text/plain": [
       "<Figure size 1400x800 with 1 Axes>"
      ]
     },
     "metadata": {},
     "output_type": "display_data"
    }
   ],
   "source": [
    "df_NEW_DATAFRAME_1 = data.groupby([\"MULTICLASS_COLUMN_NAME\"], as_index = False)[\n",
    "    \"TARGET_VARIABLE\"\n",
    "].sum()\n",
    "plt.figure(figsize = [14, 8])\n",
    "plt.xticks(rotation = 90)\n",
    "a = sns.barplot(x = df_NEW_DATAFRAME_1, y = df_NEW_DATAFRAME_1.TARGET_VARIABLE)\n",
    "a.set_xlabel(\"Column Label\")\n",
    "a.set_ylabel(\"Target variable name\")\n",
    "plt.show()"
   ]
  },
  {
   "cell_type": "markdown",
   "id": "ff9725b5",
   "metadata": {
    "id": "ff9725b5"
   },
   "source": [
    "**Observations:**\n",
    "- xxx"
   ]
  },
  {
   "cell_type": "markdown",
   "id": "e8ecab60",
   "metadata": {
    "id": "e8ecab60"
   },
   "source": [
    "---------\n",
    "**Visualize the distribution of the target variable with the other multi-class categorical columns (MULTICLASS_COLUMN_NAME)**\n",
    "---------"
   ]
  },
  {
   "cell_type": "code",
   "execution_count": 105,
   "id": "70fccb54",
   "metadata": {
    "colab": {
     "base_uri": "https://localhost:8080/",
     "height": 543
    },
    "id": "70fccb54",
    "outputId": "fc67ace6-508c-4b7c-8a70-43ecd174d27d"
   },
   "outputs": [
    {
     "ename": "ValueError",
     "evalue": "could not convert string to float: 'Left Ventricular Dysfunction'",
     "output_type": "error",
     "traceback": [
      "\u001b[0;31m---------------------------------------------------------------------------\u001b[0m",
      "\u001b[0;31mValueError\u001b[0m                                Traceback (most recent call last)",
      "Cell \u001b[0;32mIn [105], line 2\u001b[0m\n\u001b[1;32m      1\u001b[0m plt\u001b[39m.\u001b[39mfigure(figsize \u001b[39m=\u001b[39m [\u001b[39m14\u001b[39m, \u001b[39m8\u001b[39m])\n\u001b[0;32m----> 2\u001b[0m sns\u001b[39m.\u001b[39;49mboxplot(train_data\u001b[39m.\u001b[39;49mcondition)\n\u001b[1;32m      3\u001b[0m plt\u001b[39m.\u001b[39mxticks(rotation \u001b[39m=\u001b[39m \u001b[39m90\u001b[39m)\n\u001b[1;32m      4\u001b[0m plt\u001b[39m.\u001b[39mtitle(\u001b[39m\"\u001b[39m\u001b[39mTITLE\u001b[39m\u001b[39m\"\u001b[39m)\n",
      "File \u001b[0;32m/opt/homebrew/lib/python3.10/site-packages/seaborn/categorical.py:2231\u001b[0m, in \u001b[0;36mboxplot\u001b[0;34m(data, x, y, hue, order, hue_order, orient, color, palette, saturation, width, dodge, fliersize, linewidth, whis, ax, **kwargs)\u001b[0m\n\u001b[1;32m   2224\u001b[0m \u001b[39mdef\u001b[39;00m \u001b[39mboxplot\u001b[39m(\n\u001b[1;32m   2225\u001b[0m     data\u001b[39m=\u001b[39m\u001b[39mNone\u001b[39;00m, \u001b[39m*\u001b[39m, x\u001b[39m=\u001b[39m\u001b[39mNone\u001b[39;00m, y\u001b[39m=\u001b[39m\u001b[39mNone\u001b[39;00m, hue\u001b[39m=\u001b[39m\u001b[39mNone\u001b[39;00m, order\u001b[39m=\u001b[39m\u001b[39mNone\u001b[39;00m, hue_order\u001b[39m=\u001b[39m\u001b[39mNone\u001b[39;00m,\n\u001b[1;32m   2226\u001b[0m     orient\u001b[39m=\u001b[39m\u001b[39mNone\u001b[39;00m, color\u001b[39m=\u001b[39m\u001b[39mNone\u001b[39;00m, palette\u001b[39m=\u001b[39m\u001b[39mNone\u001b[39;00m, saturation\u001b[39m=\u001b[39m\u001b[39m.75\u001b[39m, width\u001b[39m=\u001b[39m\u001b[39m.8\u001b[39m,\n\u001b[1;32m   2227\u001b[0m     dodge\u001b[39m=\u001b[39m\u001b[39mTrue\u001b[39;00m, fliersize\u001b[39m=\u001b[39m\u001b[39m5\u001b[39m, linewidth\u001b[39m=\u001b[39m\u001b[39mNone\u001b[39;00m, whis\u001b[39m=\u001b[39m\u001b[39m1.5\u001b[39m, ax\u001b[39m=\u001b[39m\u001b[39mNone\u001b[39;00m,\n\u001b[1;32m   2228\u001b[0m     \u001b[39m*\u001b[39m\u001b[39m*\u001b[39mkwargs\n\u001b[1;32m   2229\u001b[0m ):\n\u001b[0;32m-> 2231\u001b[0m     plotter \u001b[39m=\u001b[39m _BoxPlotter(x, y, hue, data, order, hue_order,\n\u001b[1;32m   2232\u001b[0m                           orient, color, palette, saturation,\n\u001b[1;32m   2233\u001b[0m                           width, dodge, fliersize, linewidth)\n\u001b[1;32m   2235\u001b[0m     \u001b[39mif\u001b[39;00m ax \u001b[39mis\u001b[39;00m \u001b[39mNone\u001b[39;00m:\n\u001b[1;32m   2236\u001b[0m         ax \u001b[39m=\u001b[39m plt\u001b[39m.\u001b[39mgca()\n",
      "File \u001b[0;32m/opt/homebrew/lib/python3.10/site-packages/seaborn/categorical.py:785\u001b[0m, in \u001b[0;36m_BoxPlotter.__init__\u001b[0;34m(self, x, y, hue, data, order, hue_order, orient, color, palette, saturation, width, dodge, fliersize, linewidth)\u001b[0m\n\u001b[1;32m    781\u001b[0m \u001b[39mdef\u001b[39;00m \u001b[39m__init__\u001b[39m(\u001b[39mself\u001b[39m, x, y, hue, data, order, hue_order,\n\u001b[1;32m    782\u001b[0m              orient, color, palette, saturation,\n\u001b[1;32m    783\u001b[0m              width, dodge, fliersize, linewidth):\n\u001b[0;32m--> 785\u001b[0m     \u001b[39mself\u001b[39;49m\u001b[39m.\u001b[39;49mestablish_variables(x, y, hue, data, orient, order, hue_order)\n\u001b[1;32m    786\u001b[0m     \u001b[39mself\u001b[39m\u001b[39m.\u001b[39mestablish_colors(color, palette, saturation)\n\u001b[1;32m    788\u001b[0m     \u001b[39mself\u001b[39m\u001b[39m.\u001b[39mdodge \u001b[39m=\u001b[39m dodge\n",
      "File \u001b[0;32m/opt/homebrew/lib/python3.10/site-packages/seaborn/categorical.py:516\u001b[0m, in \u001b[0;36m_CategoricalPlotter.establish_variables\u001b[0;34m(self, x, y, hue, data, orient, order, hue_order, units)\u001b[0m\n\u001b[1;32m    513\u001b[0m     plot_data \u001b[39m=\u001b[39m data\n\u001b[1;32m    515\u001b[0m \u001b[39m# Convert to a list of arrays, the common representation\u001b[39;00m\n\u001b[0;32m--> 516\u001b[0m plot_data \u001b[39m=\u001b[39m [np\u001b[39m.\u001b[39masarray(d, \u001b[39mfloat\u001b[39m) \u001b[39mfor\u001b[39;00m d \u001b[39min\u001b[39;00m plot_data]\n\u001b[1;32m    518\u001b[0m \u001b[39m# The group names will just be numeric indices\u001b[39;00m\n\u001b[1;32m    519\u001b[0m group_names \u001b[39m=\u001b[39m \u001b[39mlist\u001b[39m(\u001b[39mrange\u001b[39m(\u001b[39mlen\u001b[39m(plot_data)))\n",
      "File \u001b[0;32m/opt/homebrew/lib/python3.10/site-packages/seaborn/categorical.py:516\u001b[0m, in \u001b[0;36m<listcomp>\u001b[0;34m(.0)\u001b[0m\n\u001b[1;32m    513\u001b[0m     plot_data \u001b[39m=\u001b[39m data\n\u001b[1;32m    515\u001b[0m \u001b[39m# Convert to a list of arrays, the common representation\u001b[39;00m\n\u001b[0;32m--> 516\u001b[0m plot_data \u001b[39m=\u001b[39m [np\u001b[39m.\u001b[39;49masarray(d, \u001b[39mfloat\u001b[39;49m) \u001b[39mfor\u001b[39;00m d \u001b[39min\u001b[39;00m plot_data]\n\u001b[1;32m    518\u001b[0m \u001b[39m# The group names will just be numeric indices\u001b[39;00m\n\u001b[1;32m    519\u001b[0m group_names \u001b[39m=\u001b[39m \u001b[39mlist\u001b[39m(\u001b[39mrange\u001b[39m(\u001b[39mlen\u001b[39m(plot_data)))\n",
      "File \u001b[0;32m/opt/homebrew/lib/python3.10/site-packages/pandas/core/series.py:893\u001b[0m, in \u001b[0;36mSeries.__array__\u001b[0;34m(self, dtype)\u001b[0m\n\u001b[1;32m    846\u001b[0m \u001b[39mdef\u001b[39;00m \u001b[39m__array__\u001b[39m(\u001b[39mself\u001b[39m, dtype: npt\u001b[39m.\u001b[39mDTypeLike \u001b[39m|\u001b[39m \u001b[39mNone\u001b[39;00m \u001b[39m=\u001b[39m \u001b[39mNone\u001b[39;00m) \u001b[39m-\u001b[39m\u001b[39m>\u001b[39m np\u001b[39m.\u001b[39mndarray:\n\u001b[1;32m    847\u001b[0m     \u001b[39m\"\"\"\u001b[39;00m\n\u001b[1;32m    848\u001b[0m \u001b[39m    Return the values as a NumPy array.\u001b[39;00m\n\u001b[1;32m    849\u001b[0m \n\u001b[0;32m   (...)\u001b[0m\n\u001b[1;32m    891\u001b[0m \u001b[39m          dtype='datetime64[ns]')\u001b[39;00m\n\u001b[1;32m    892\u001b[0m \u001b[39m    \"\"\"\u001b[39;00m\n\u001b[0;32m--> 893\u001b[0m     \u001b[39mreturn\u001b[39;00m np\u001b[39m.\u001b[39;49masarray(\u001b[39mself\u001b[39;49m\u001b[39m.\u001b[39;49m_values, dtype)\n",
      "\u001b[0;31mValueError\u001b[0m: could not convert string to float: 'Left Ventricular Dysfunction'"
     ]
    },
    {
     "data": {
      "text/plain": [
       "<Figure size 1400x800 with 0 Axes>"
      ]
     },
     "metadata": {},
     "output_type": "display_data"
    }
   ],
   "source": [
    "plt.figure(figsize = [14, 8])\n",
    "sns.boxplot(data.MULTICLASS_COLUMN_NAME, data.TARGET_VARIABLE)\n",
    "plt.xticks(rotation = 90)\n",
    "plt.title(\"TITLE\")\n",
    "plt.xlabel(\"X axis labl\")\n",
    "plt.ylabel(\"Target Variable Label\")\n",
    "plt.show()"
   ]
  },
  {
   "cell_type": "markdown",
   "id": "0322eaa5",
   "metadata": {
    "id": "0322eaa5"
   },
   "source": [
    "**Observations:**\n",
    "- xxxx"
   ]
  },
  {
   "cell_type": "markdown",
   "id": "02523ef7",
   "metadata": {
    "id": "02523ef7"
   },
   "source": [
    "-------\n",
    "## **Visualize relationships between columns**\n",
    "---------"
   ]
  },
  {
   "cell_type": "markdown",
   "id": "d415aff8",
   "metadata": {
    "id": "d415aff8"
   },
   "source": [
    "CHANGE THIS\n",
    "\n",
    "**Generally certain product types will have higher product weight than others. Let's have a look.**"
   ]
  },
  {
   "cell_type": "code",
   "execution_count": 107,
   "id": "f79b3e0d",
   "metadata": {
    "colab": {
     "base_uri": "https://localhost:8080/",
     "height": 611
    },
    "id": "f79b3e0d",
    "outputId": "305f0e58-8b28-449d-a639-5ea1810e5c79"
   },
   "outputs": [
    {
     "ename": "TypeError",
     "evalue": "boxplot() takes from 0 to 1 positional arguments but 2 were given",
     "output_type": "error",
     "traceback": [
      "\u001b[0;31m---------------------------------------------------------------------------\u001b[0m",
      "\u001b[0;31mTypeError\u001b[0m                                 Traceback (most recent call last)",
      "Cell \u001b[0;32mIn [107], line 2\u001b[0m\n\u001b[1;32m      1\u001b[0m plt\u001b[39m.\u001b[39mfigure(figsize \u001b[39m=\u001b[39m [\u001b[39m14\u001b[39m, \u001b[39m8\u001b[39m])\n\u001b[0;32m----> 2\u001b[0m sns\u001b[39m.\u001b[39;49mboxplot(train_data\u001b[39m.\u001b[39;49mcondition, train_data\u001b[39m.\u001b[39;49mrating)\n\u001b[1;32m      3\u001b[0m plt\u001b[39m.\u001b[39mxticks(rotation \u001b[39m=\u001b[39m \u001b[39m90\u001b[39m)\n\u001b[1;32m      4\u001b[0m plt\u001b[39m.\u001b[39mtitle(\u001b[39m\"\u001b[39m\u001b[39mBoxplot - Product_Type Vs Product_Weight\u001b[39m\u001b[39m\"\u001b[39m)\n",
      "\u001b[0;31mTypeError\u001b[0m: boxplot() takes from 0 to 1 positional arguments but 2 were given"
     ]
    },
    {
     "data": {
      "text/plain": [
       "<Figure size 1400x800 with 0 Axes>"
      ]
     },
     "metadata": {},
     "output_type": "display_data"
    }
   ],
   "source": [
    "plt.figure(figsize = [14, 8])\n",
    "sns.boxplot(data.Product_Type, data.Product_Weight)\n",
    "plt.xticks(rotation = 90)\n",
    "plt.title(\"Boxplot - Product_Type Vs Product_Weight\")\n",
    "plt.xlabel(\"Types of Products\")\n",
    "plt.ylabel(\"Product_Weight\")\n",
    "plt.show()"
   ]
  },
  {
   "cell_type": "markdown",
   "id": "a6de538e",
   "metadata": {
    "id": "a6de538e"
   },
   "source": [
    "**Observation:**\n",
    "- xxxx"
   ]
  },
  {
   "cell_type": "markdown",
   "id": "9d6b86b0",
   "metadata": {
    "id": "9d6b86b0"
   },
   "source": [
    "CHANGE THIS TOO\n",
    "\n",
    "**Let's find out whether there is some relationship between the weight of the product and its sugar content**"
   ]
  },
  {
   "cell_type": "code",
   "execution_count": 110,
   "id": "34df8ae3",
   "metadata": {
    "colab": {
     "base_uri": "https://localhost:8080/",
     "height": 556
    },
    "id": "34df8ae3",
    "outputId": "89120420-2035-4556-fe2b-8c37a208f3ad"
   },
   "outputs": [
    {
     "ename": "TypeError",
     "evalue": "boxplot() takes from 0 to 1 positional arguments but 2 were given",
     "output_type": "error",
     "traceback": [
      "\u001b[0;31m---------------------------------------------------------------------------\u001b[0m",
      "\u001b[0;31mTypeError\u001b[0m                                 Traceback (most recent call last)",
      "Cell \u001b[0;32mIn [110], line 2\u001b[0m\n\u001b[1;32m      1\u001b[0m plt\u001b[39m.\u001b[39mfigure(figsize \u001b[39m=\u001b[39m [\u001b[39m14\u001b[39m, \u001b[39m8\u001b[39m])\n\u001b[0;32m----> 2\u001b[0m sns\u001b[39m.\u001b[39;49mboxplot(train_data\u001b[39m.\u001b[39;49mdrugName, train_data\u001b[39m.\u001b[39;49mrating)\n\u001b[1;32m      3\u001b[0m plt\u001b[39m.\u001b[39mxticks(rotation \u001b[39m=\u001b[39m \u001b[39m90\u001b[39m)\n\u001b[1;32m      4\u001b[0m plt\u001b[39m.\u001b[39mtitle(\u001b[39m\"\u001b[39m\u001b[39mBoxplot - Product_Sugar_Content Vs Product_Weight\u001b[39m\u001b[39m\"\u001b[39m)\n",
      "\u001b[0;31mTypeError\u001b[0m: boxplot() takes from 0 to 1 positional arguments but 2 were given"
     ]
    },
    {
     "data": {
      "text/plain": [
       "<Figure size 1400x800 with 0 Axes>"
      ]
     },
     "metadata": {},
     "output_type": "display_data"
    }
   ],
   "source": [
    "plt.figure(figsize = [14, 8])\n",
    "sns.boxplot(data.Product_Sugar_Content, data.Product_Weight)\n",
    "plt.xticks(rotation = 90)\n",
    "plt.title(\"Boxplot - Product_Sugar_Content Vs Product_Weight\")\n",
    "plt.xlabel(\"Product_Sugar_Content\")\n",
    "plt.ylabel(\"Product_Weight\")\n",
    "plt.show()"
   ]
  },
  {
   "cell_type": "markdown",
   "id": "2a47c4be",
   "metadata": {
    "id": "2a47c4be"
   },
   "source": [
    "**Observation:**\n",
    "- xxxx"
   ]
  },
  {
   "cell_type": "markdown",
   "id": "c2bd287f",
   "metadata": {
    "id": "c2bd287f"
   },
   "source": [
    "-------\n",
    "## **Visualize one numerical column against a multi-class categorical**\n",
    "--------\n"
   ]
  },
  {
   "cell_type": "code",
   "execution_count": 116,
   "id": "e349075a",
   "metadata": {
    "colab": {
     "base_uri": "https://localhost:8080/",
     "height": 596
    },
    "id": "e349075a",
    "outputId": "457b02a7-1381-4d33-cdc2-6494ea5279ce"
   },
   "outputs": [
    {
     "data": {
      "image/png": "[encoded data removed]",
      "text/plain": [
       "<Figure size 1400x800 with 2 Axes>"
      ]
     },
     "metadata": {},
     "output_type": "display_data"
    }
   ],
   "source": [
    "plt.figure(figsize = (14, 8))\n",
    "sns.heatmap(\n",
    "    pd.crosstab(train_data[\"drugName\"], train_data[\"rating\"]),\n",
    "    annot = False,\n",
    "    fmt = \"g\",\n",
    "    cmap = \"viridis\",\n",
    ")\n",
    "plt.ylabel(\"Drug Name\")\n",
    "plt.xlabel(\"Rating\")\n",
    "plt.show()"
   ]
  },
  {
   "cell_type": "markdown",
   "id": "4e62eb5e",
   "metadata": {
    "id": "4e62eb5e"
   },
   "source": [
    "**Observation:**\n",
    "- xxx"
   ]
  },
  {
   "cell_type": "code",
   "execution_count": 118,
   "id": "3c7497c4",
   "metadata": {},
   "outputs": [
    {
     "data": {
      "text/html": [
       "<div>\n",
       "<style scoped>\n",
       "    .dataframe tbody tr th:only-of-type {\n",
       "        vertical-align: middle;\n",
       "    }\n",
       "\n",
       "    .dataframe tbody tr th {\n",
       "        vertical-align: top;\n",
       "    }\n",
       "\n",
       "    .dataframe thead th {\n",
       "        text-align: right;\n",
       "    }\n",
       "</style>\n",
       "<table border=\"1\" class=\"dataframe\">\n",
       "  <thead>\n",
       "    <tr style=\"text-align: right;\">\n",
       "      <th></th>\n",
       "      <th>drugName</th>\n",
       "      <th>condition</th>\n",
       "      <th>review</th>\n",
       "      <th>rating</th>\n",
       "      <th>date</th>\n",
       "      <th>usefulCount</th>\n",
       "    </tr>\n",
       "  </thead>\n",
       "  <tbody>\n",
       "    <tr>\n",
       "      <th>0</th>\n",
       "      <td>Valsartan</td>\n",
       "      <td>Left Ventricular Dysfunction</td>\n",
       "      <td>\"It has no side effect, I take it in combinati...</td>\n",
       "      <td>9</td>\n",
       "      <td>2012-05-20</td>\n",
       "      <td>27</td>\n",
       "    </tr>\n",
       "    <tr>\n",
       "      <th>1</th>\n",
       "      <td>Guanfacine</td>\n",
       "      <td>ADHD</td>\n",
       "      <td>\"My son is halfway through his fourth week of ...</td>\n",
       "      <td>8</td>\n",
       "      <td>2010-04-27</td>\n",
       "      <td>192</td>\n",
       "    </tr>\n",
       "    <tr>\n",
       "      <th>2</th>\n",
       "      <td>Lybrel</td>\n",
       "      <td>Birth Control</td>\n",
       "      <td>\"I used to take another oral contraceptive, wh...</td>\n",
       "      <td>5</td>\n",
       "      <td>2009-12-14</td>\n",
       "      <td>17</td>\n",
       "    </tr>\n",
       "    <tr>\n",
       "      <th>3</th>\n",
       "      <td>Ortho Evra</td>\n",
       "      <td>Birth Control</td>\n",
       "      <td>\"This is my first time using any form of birth...</td>\n",
       "      <td>8</td>\n",
       "      <td>2015-11-03</td>\n",
       "      <td>10</td>\n",
       "    </tr>\n",
       "    <tr>\n",
       "      <th>4</th>\n",
       "      <td>Buprenorphine / naloxone</td>\n",
       "      <td>Opiate Dependence</td>\n",
       "      <td>\"Suboxone has completely turned my life around...</td>\n",
       "      <td>9</td>\n",
       "      <td>2016-11-27</td>\n",
       "      <td>37</td>\n",
       "    </tr>\n",
       "  </tbody>\n",
       "</table>\n",
       "</div>"
      ],
      "text/plain": [
       "                   drugName                     condition  \\\n",
       "0                 Valsartan  Left Ventricular Dysfunction   \n",
       "1                Guanfacine                          ADHD   \n",
       "2                    Lybrel                 Birth Control   \n",
       "3                Ortho Evra                 Birth Control   \n",
       "4  Buprenorphine / naloxone             Opiate Dependence   \n",
       "\n",
       "                                              review  rating       date  \\\n",
       "0  \"It has no side effect, I take it in combinati...       9 2012-05-20   \n",
       "1  \"My son is halfway through his fourth week of ...       8 2010-04-27   \n",
       "2  \"I used to take another oral contraceptive, wh...       5 2009-12-14   \n",
       "3  \"This is my first time using any form of birth...       8 2015-11-03   \n",
       "4  \"Suboxone has completely turned my life around...       9 2016-11-27   \n",
       "\n",
       "   usefulCount  \n",
       "0           27  \n",
       "1          192  \n",
       "2           17  \n",
       "3           10  \n",
       "4           37  "
      ]
     },
     "execution_count": 118,
     "metadata": {},
     "output_type": "execute_result"
    }
   ],
   "source": [
    "train_data.head()"
   ]
  },
  {
   "cell_type": "markdown",
   "id": "f47c5e18",
   "metadata": {
    "id": "f47c5e18"
   },
   "source": [
    "**Different product types have different prices. Let's analyze the trend.**"
   ]
  },
  {
   "cell_type": "code",
   "execution_count": 117,
   "id": "8f538ae2",
   "metadata": {
    "colab": {
     "base_uri": "https://localhost:8080/",
     "height": 612
    },
    "id": "8f538ae2",
    "outputId": "76d06b5b-cf20-4990-ddda-4663b0fa5cb0"
   },
   "outputs": [
    {
     "ename": "TypeError",
     "evalue": "boxplot() takes from 0 to 1 positional arguments but 2 were given",
     "output_type": "error",
     "traceback": [
      "\u001b[0;31m---------------------------------------------------------------------------\u001b[0m",
      "\u001b[0;31mTypeError\u001b[0m                                 Traceback (most recent call last)",
      "Cell \u001b[0;32mIn [117], line 2\u001b[0m\n\u001b[1;32m      1\u001b[0m plt\u001b[39m.\u001b[39mfigure(figsize \u001b[39m=\u001b[39m [\u001b[39m14\u001b[39m, \u001b[39m8\u001b[39m])\n\u001b[0;32m----> 2\u001b[0m sns\u001b[39m.\u001b[39;49mboxplot(train_data\u001b[39m.\u001b[39;49mdrugName, train_data\u001b[39m.\u001b[39;49mrating)\n\u001b[1;32m      3\u001b[0m plt\u001b[39m.\u001b[39mxticks(rotation \u001b[39m=\u001b[39m \u001b[39m90\u001b[39m)\n\u001b[1;32m      4\u001b[0m plt\u001b[39m.\u001b[39mtitle(\u001b[39m\"\u001b[39m\u001b[39mBoxplot - Product_Type Vs Product_MRP\u001b[39m\u001b[39m\"\u001b[39m)\n",
      "\u001b[0;31mTypeError\u001b[0m: boxplot() takes from 0 to 1 positional arguments but 2 were given"
     ]
    },
    {
     "data": {
      "text/plain": [
       "<Figure size 1400x800 with 0 Axes>"
      ]
     },
     "metadata": {},
     "output_type": "display_data"
    }
   ],
   "source": [
    "plt.figure(figsize = [14, 8])\n",
    "sns.boxplot(train_data.drugName, train_data.rating)\n",
    "plt.xticks(rotation = 90)\n",
    "plt.title(\"Boxplot - Product_Type Vs Product_MRP\")\n",
    "plt.xlabel(\"Product_Type\")\n",
    "plt.ylabel(\"Product_MRP (of each product)\")\n",
    "plt.show()"
   ]
  },
  {
   "cell_type": "markdown",
   "id": "f559b274",
   "metadata": {
    "id": "f559b274"
   },
   "source": [
    "**Observation:**\n",
    "- xxx"
   ]
  },
  {
   "cell_type": "markdown",
   "id": "d1bb6c77",
   "metadata": {
    "id": "d1bb6c77"
   },
   "source": [
    "**Let's find out how the Product_MRP varies with the different stores**"
   ]
  },
  {
   "cell_type": "code",
   "execution_count": null,
   "id": "cb496e1d",
   "metadata": {
    "colab": {
     "base_uri": "https://localhost:8080/",
     "height": 543
    },
    "id": "cb496e1d",
    "outputId": "60aa9cd3-4b74-4231-be9f-20dc7f4f34d4"
   },
   "outputs": [
    {
     "data": {
      "image/png": "[encoded data removed]",
      "text/plain": [
       "<Figure size 1008x576 with 1 Axes>"
      ]
     },
     "metadata": {
      "needs_background": "light"
     },
     "output_type": "display_data"
    }
   ],
   "source": [
    "plt.figure(figsize = [14, 8])\n",
    "sns.boxplot(data.Store_Id, data.Product_MRP)\n",
    "plt.xticks(rotation = 90)\n",
    "plt.title(\"Boxplot - Store_Id Vs Product_MRP\")\n",
    "plt.xlabel(\"Stores\")\n",
    "plt.ylabel(\"Product_MRP (of each product)\")\n",
    "plt.show()"
   ]
  },
  {
   "cell_type": "markdown",
   "id": "dbe59b12",
   "metadata": {
    "id": "dbe59b12"
   },
   "source": [
    "**Observation:**\n",
    "- xxx"
   ]
  },
  {
   "cell_type": "markdown",
   "id": "09d79669",
   "metadata": {
    "id": "09d79669"
   },
   "source": [
    "-----\n",
    "**Stat analysis of subclasses per relevant cat col**."
   ]
  },
  {
   "cell_type": "markdown",
   "id": "4e457801",
   "metadata": {
    "id": "4e457801"
   },
   "source": [
    "### **relevant info**"
   ]
  },
  {
   "cell_type": "code",
   "execution_count": null,
   "id": "d67d5a44",
   "metadata": {
    "colab": {
     "base_uri": "https://localhost:8080/",
     "height": 426
    },
    "id": "d67d5a44",
    "outputId": "f002e7a7-44b6-459d-940f-df7959a4b9f7"
   },
   "outputs": [
    {
     "data": {
      "text/html": [
       "<div>\n",
       "<style scoped>\n",
       "    .dataframe tbody tr th:only-of-type {\n",
       "        vertical-align: middle;\n",
       "    }\n",
       "\n",
       "    .dataframe tbody tr th {\n",
       "        vertical-align: top;\n",
       "    }\n",
       "\n",
       "    .dataframe thead th {\n",
       "        text-align: right;\n",
       "    }\n",
       "</style>\n",
       "<table border=\"1\" class=\"dataframe\">\n",
       "  <thead>\n",
       "    <tr style=\"text-align: right;\">\n",
       "      <th></th>\n",
       "      <th>count</th>\n",
       "      <th>unique</th>\n",
       "      <th>top</th>\n",
       "      <th>freq</th>\n",
       "      <th>mean</th>\n",
       "      <th>std</th>\n",
       "      <th>min</th>\n",
       "      <th>25%</th>\n",
       "      <th>50%</th>\n",
       "      <th>75%</th>\n",
       "      <th>max</th>\n",
       "    </tr>\n",
       "  </thead>\n",
       "  <tbody>\n",
       "    <tr>\n",
       "      <th>Product_Weight</th>\n",
       "      <td>1586.0</td>\n",
       "      <td>NaN</td>\n",
       "      <td>NaN</td>\n",
       "      <td>NaN</td>\n",
       "      <td>13.458865</td>\n",
       "      <td>2.064975</td>\n",
       "      <td>6.16</td>\n",
       "      <td>12.0525</td>\n",
       "      <td>13.96</td>\n",
       "      <td>14.95</td>\n",
       "      <td>17.97</td>\n",
       "    </tr>\n",
       "    <tr>\n",
       "      <th>Product_Sugar_Content</th>\n",
       "      <td>1586</td>\n",
       "      <td>3</td>\n",
       "      <td>Low Sugar</td>\n",
       "      <td>845</td>\n",
       "      <td>NaN</td>\n",
       "      <td>NaN</td>\n",
       "      <td>NaN</td>\n",
       "      <td>NaN</td>\n",
       "      <td>NaN</td>\n",
       "      <td>NaN</td>\n",
       "      <td>NaN</td>\n",
       "    </tr>\n",
       "    <tr>\n",
       "      <th>Product_Allocated_Area</th>\n",
       "      <td>1586.0</td>\n",
       "      <td>NaN</td>\n",
       "      <td>NaN</td>\n",
       "      <td>NaN</td>\n",
       "      <td>0.068768</td>\n",
       "      <td>0.047131</td>\n",
       "      <td>0.004</td>\n",
       "      <td>0.033</td>\n",
       "      <td>0.0565</td>\n",
       "      <td>0.094</td>\n",
       "      <td>0.295</td>\n",
       "    </tr>\n",
       "    <tr>\n",
       "      <th>Product_Type</th>\n",
       "      <td>1586</td>\n",
       "      <td>16</td>\n",
       "      <td>Snack Foods</td>\n",
       "      <td>202</td>\n",
       "      <td>NaN</td>\n",
       "      <td>NaN</td>\n",
       "      <td>NaN</td>\n",
       "      <td>NaN</td>\n",
       "      <td>NaN</td>\n",
       "      <td>NaN</td>\n",
       "      <td>NaN</td>\n",
       "    </tr>\n",
       "    <tr>\n",
       "      <th>Product_MRP</th>\n",
       "      <td>1586.0</td>\n",
       "      <td>NaN</td>\n",
       "      <td>NaN</td>\n",
       "      <td>NaN</td>\n",
       "      <td>160.514054</td>\n",
       "      <td>30.359059</td>\n",
       "      <td>71.35</td>\n",
       "      <td>141.72</td>\n",
       "      <td>168.32</td>\n",
       "      <td>182.9375</td>\n",
       "      <td>226.59</td>\n",
       "    </tr>\n",
       "    <tr>\n",
       "      <th>Store_Id</th>\n",
       "      <td>1586</td>\n",
       "      <td>1</td>\n",
       "      <td>OUT001</td>\n",
       "      <td>1586</td>\n",
       "      <td>NaN</td>\n",
       "      <td>NaN</td>\n",
       "      <td>NaN</td>\n",
       "      <td>NaN</td>\n",
       "      <td>NaN</td>\n",
       "      <td>NaN</td>\n",
       "      <td>NaN</td>\n",
       "    </tr>\n",
       "    <tr>\n",
       "      <th>Store_Establishment_Year</th>\n",
       "      <td>1586.0</td>\n",
       "      <td>NaN</td>\n",
       "      <td>NaN</td>\n",
       "      <td>NaN</td>\n",
       "      <td>1987.0</td>\n",
       "      <td>0.0</td>\n",
       "      <td>1987.0</td>\n",
       "      <td>1987.0</td>\n",
       "      <td>1987.0</td>\n",
       "      <td>1987.0</td>\n",
       "      <td>1987.0</td>\n",
       "    </tr>\n",
       "    <tr>\n",
       "      <th>Store_Size</th>\n",
       "      <td>1586</td>\n",
       "      <td>1</td>\n",
       "      <td>High</td>\n",
       "      <td>1586</td>\n",
       "      <td>NaN</td>\n",
       "      <td>NaN</td>\n",
       "      <td>NaN</td>\n",
       "      <td>NaN</td>\n",
       "      <td>NaN</td>\n",
       "      <td>NaN</td>\n",
       "      <td>NaN</td>\n",
       "    </tr>\n",
       "    <tr>\n",
       "      <th>Store_Location_City_Type</th>\n",
       "      <td>1586</td>\n",
       "      <td>1</td>\n",
       "      <td>Tier 2</td>\n",
       "      <td>1586</td>\n",
       "      <td>NaN</td>\n",
       "      <td>NaN</td>\n",
       "      <td>NaN</td>\n",
       "      <td>NaN</td>\n",
       "      <td>NaN</td>\n",
       "      <td>NaN</td>\n",
       "      <td>NaN</td>\n",
       "    </tr>\n",
       "    <tr>\n",
       "      <th>Store_Type</th>\n",
       "      <td>1586</td>\n",
       "      <td>1</td>\n",
       "      <td>Supermarket Type1</td>\n",
       "      <td>1586</td>\n",
       "      <td>NaN</td>\n",
       "      <td>NaN</td>\n",
       "      <td>NaN</td>\n",
       "      <td>NaN</td>\n",
       "      <td>NaN</td>\n",
       "      <td>NaN</td>\n",
       "      <td>NaN</td>\n",
       "    </tr>\n",
       "    <tr>\n",
       "      <th>Product_Store_Sales_Total</th>\n",
       "      <td>1586.0</td>\n",
       "      <td>NaN</td>\n",
       "      <td>NaN</td>\n",
       "      <td>NaN</td>\n",
       "      <td>3923.778802</td>\n",
       "      <td>904.62901</td>\n",
       "      <td>2300.56</td>\n",
       "      <td>3285.51</td>\n",
       "      <td>4139.645</td>\n",
       "      <td>4639.4</td>\n",
       "      <td>4997.63</td>\n",
       "    </tr>\n",
       "    <tr>\n",
       "      <th>Product_Id_char</th>\n",
       "      <td>1586</td>\n",
       "      <td>3</td>\n",
       "      <td>FD</td>\n",
       "      <td>1163</td>\n",
       "      <td>NaN</td>\n",
       "      <td>NaN</td>\n",
       "      <td>NaN</td>\n",
       "      <td>NaN</td>\n",
       "      <td>NaN</td>\n",
       "      <td>NaN</td>\n",
       "      <td>NaN</td>\n",
       "    </tr>\n",
       "  </tbody>\n",
       "</table>\n",
       "</div>"
      ],
      "text/plain": [
       "                            count unique                top  freq  \\\n",
       "Product_Weight             1586.0    NaN                NaN   NaN   \n",
       "Product_Sugar_Content        1586      3          Low Sugar   845   \n",
       "Product_Allocated_Area     1586.0    NaN                NaN   NaN   \n",
       "Product_Type                 1586     16        Snack Foods   202   \n",
       "Product_MRP                1586.0    NaN                NaN   NaN   \n",
       "Store_Id                     1586      1             OUT001  1586   \n",
       "Store_Establishment_Year   1586.0    NaN                NaN   NaN   \n",
       "Store_Size                   1586      1               High  1586   \n",
       "Store_Location_City_Type     1586      1             Tier 2  1586   \n",
       "Store_Type                   1586      1  Supermarket Type1  1586   \n",
       "Product_Store_Sales_Total  1586.0    NaN                NaN   NaN   \n",
       "Product_Id_char              1586      3                 FD  1163   \n",
       "\n",
       "                                  mean        std      min      25%       50%  \\\n",
       "Product_Weight               13.458865   2.064975     6.16  12.0525     13.96   \n",
       "Product_Sugar_Content              NaN        NaN      NaN      NaN       NaN   \n",
       "Product_Allocated_Area        0.068768   0.047131    0.004    0.033    0.0565   \n",
       "Product_Type                       NaN        NaN      NaN      NaN       NaN   \n",
       "Product_MRP                 160.514054  30.359059    71.35   141.72    168.32   \n",
       "Store_Id                           NaN        NaN      NaN      NaN       NaN   \n",
       "Store_Establishment_Year        1987.0        0.0   1987.0   1987.0    1987.0   \n",
       "Store_Size                         NaN        NaN      NaN      NaN       NaN   \n",
       "Store_Location_City_Type           NaN        NaN      NaN      NaN       NaN   \n",
       "Store_Type                         NaN        NaN      NaN      NaN       NaN   \n",
       "Product_Store_Sales_Total  3923.778802  904.62901  2300.56  3285.51  4139.645   \n",
       "Product_Id_char                    NaN        NaN      NaN      NaN       NaN   \n",
       "\n",
       "                                75%      max  \n",
       "Product_Weight                14.95    17.97  \n",
       "Product_Sugar_Content           NaN      NaN  \n",
       "Product_Allocated_Area        0.094    0.295  \n",
       "Product_Type                    NaN      NaN  \n",
       "Product_MRP                182.9375   226.59  \n",
       "Store_Id                        NaN      NaN  \n",
       "Store_Establishment_Year     1987.0   1987.0  \n",
       "Store_Size                      NaN      NaN  \n",
       "Store_Location_City_Type        NaN      NaN  \n",
       "Store_Type                      NaN      NaN  \n",
       "Product_Store_Sales_Total    4639.4  4997.63  \n",
       "Product_Id_char                 NaN      NaN  "
      ]
     },
     "execution_count": 51,
     "metadata": {},
     "output_type": "execute_result"
    }
   ],
   "source": [
    "data.loc[data[\"Store_Id\"] == \"OUT001\"].describe(include = \"all\").T"
   ]
  },
  {
   "cell_type": "markdown",
   "id": "45de3d68",
   "metadata": {
    "id": "45de3d68"
   },
   "source": [
    "**Observations:**\n",
    "- xxxx"
   ]
  },
  {
   "cell_type": "code",
   "execution_count": null,
   "id": "e57ead84",
   "metadata": {
    "colab": {
     "base_uri": "https://localhost:8080/"
    },
    "id": "e57ead84",
    "outputId": "134afb18-7c08-4649-c847-6fdd36875493"
   },
   "outputs": [
    {
     "data": {
      "text/plain": [
       "6223113.18"
      ]
     },
     "execution_count": 52,
     "metadata": {},
     "output_type": "execute_result"
    }
   ],
   "source": [
    "data.loc[data[\"Store_Id\"] == \"OUT001\", \"Product_Store_Sales_Total\"].sum()"
   ]
  },
  {
   "cell_type": "markdown",
   "id": "c0fa1b47",
   "metadata": {
    "id": "c0fa1b47"
   },
   "source": [
    "**OUT001 has generated total revenue of 6223113 from the sales of goods.**"
   ]
  },
  {
   "cell_type": "code",
   "execution_count": null,
   "id": "cd9ac2da",
   "metadata": {
    "colab": {
     "base_uri": "https://localhost:8080/",
     "height": 612
    },
    "id": "cd9ac2da",
    "outputId": "3842e954-412b-48ee-e1f2-5260312de056"
   },
   "outputs": [
    {
     "data": {
      "image/png": "[encoded data removed]",
      "text/plain": [
       "<Figure size 1008x576 with 1 Axes>"
      ]
     },
     "metadata": {
      "needs_background": "light"
     },
     "output_type": "display_data"
    }
   ],
   "source": [
    "df_OUT001 = (\n",
    "    data.loc[data[\"Store_Id\"] == \"OUT001\"]\n",
    "    .groupby([\"Product_Type\"], as_index = False)[\"Product_Store_Sales_Total\"]\n",
    "    .sum()\n",
    ")\n",
    "plt.figure(figsize = [14, 8])\n",
    "plt.xticks(rotation = 90)\n",
    "plt.xlabel(\"Product_Type\")\n",
    "plt.ylabel(\"Product_Store_Sales_Total\")\n",
    "plt.title(\"OUT001\")\n",
    "sns.barplot(x = df_OUT001.Product_Type, y = df_OUT001.Product_Store_Sales_Total)\n",
    "plt.show()"
   ]
  },
  {
   "cell_type": "markdown",
   "id": "c7b1f9f1",
   "metadata": {
    "id": "c7b1f9f1"
   },
   "source": [
    "**Observations:**\n",
    "- xxxx"
   ]
  },
  {
   "cell_type": "markdown",
   "id": "9ef8562c",
   "metadata": {
    "id": "9ef8562c"
   },
   "source": [
    "**Let's find out the revenue generated by the stores from each of the product types**."
   ]
  },
  {
   "cell_type": "code",
   "execution_count": null,
   "id": "f7337f4f",
   "metadata": {
    "colab": {
     "base_uri": "https://localhost:8080/",
     "height": 1000
    },
    "id": "f7337f4f",
    "outputId": "8807702c-5384-44b6-cc8c-905a05838682"
   },
   "outputs": [
    {
     "data": {
      "text/html": [
       "<div>\n",
       "<style scoped>\n",
       "    .dataframe tbody tr th:only-of-type {\n",
       "        vertical-align: middle;\n",
       "    }\n",
       "\n",
       "    .dataframe tbody tr th {\n",
       "        vertical-align: top;\n",
       "    }\n",
       "\n",
       "    .dataframe thead th {\n",
       "        text-align: right;\n",
       "    }\n",
       "</style>\n",
       "<table border=\"1\" class=\"dataframe\">\n",
       "  <thead>\n",
       "    <tr style=\"text-align: right;\">\n",
       "      <th></th>\n",
       "      <th>Product_Type</th>\n",
       "      <th>Store_Id</th>\n",
       "      <th>Product_Store_Sales_Total</th>\n",
       "    </tr>\n",
       "  </thead>\n",
       "  <tbody>\n",
       "    <tr>\n",
       "      <th>0</th>\n",
       "      <td>Baking Goods</td>\n",
       "      <td>OUT001</td>\n",
       "      <td>525131.04</td>\n",
       "    </tr>\n",
       "    <tr>\n",
       "      <th>1</th>\n",
       "      <td>Baking Goods</td>\n",
       "      <td>OUT002</td>\n",
       "      <td>169860.50</td>\n",
       "    </tr>\n",
       "    <tr>\n",
       "      <th>2</th>\n",
       "      <td>Baking Goods</td>\n",
       "      <td>OUT003</td>\n",
       "      <td>491908.20</td>\n",
       "    </tr>\n",
       "    <tr>\n",
       "      <th>3</th>\n",
       "      <td>Baking Goods</td>\n",
       "      <td>OUT004</td>\n",
       "      <td>1266086.26</td>\n",
       "    </tr>\n",
       "    <tr>\n",
       "      <th>4</th>\n",
       "      <td>Breads</td>\n",
       "      <td>OUT001</td>\n",
       "      <td>121274.09</td>\n",
       "    </tr>\n",
       "    <tr>\n",
       "      <th>5</th>\n",
       "      <td>Breads</td>\n",
       "      <td>OUT002</td>\n",
       "      <td>43419.47</td>\n",
       "    </tr>\n",
       "    <tr>\n",
       "      <th>6</th>\n",
       "      <td>Breads</td>\n",
       "      <td>OUT003</td>\n",
       "      <td>175391.93</td>\n",
       "    </tr>\n",
       "    <tr>\n",
       "      <th>7</th>\n",
       "      <td>Breads</td>\n",
       "      <td>OUT004</td>\n",
       "      <td>374856.75</td>\n",
       "    </tr>\n",
       "    <tr>\n",
       "      <th>8</th>\n",
       "      <td>Breakfast</td>\n",
       "      <td>OUT001</td>\n",
       "      <td>38161.10</td>\n",
       "    </tr>\n",
       "    <tr>\n",
       "      <th>9</th>\n",
       "      <td>Breakfast</td>\n",
       "      <td>OUT002</td>\n",
       "      <td>23396.10</td>\n",
       "    </tr>\n",
       "    <tr>\n",
       "      <th>10</th>\n",
       "      <td>Breakfast</td>\n",
       "      <td>OUT003</td>\n",
       "      <td>95634.08</td>\n",
       "    </tr>\n",
       "    <tr>\n",
       "      <th>11</th>\n",
       "      <td>Breakfast</td>\n",
       "      <td>OUT004</td>\n",
       "      <td>204939.13</td>\n",
       "    </tr>\n",
       "    <tr>\n",
       "      <th>12</th>\n",
       "      <td>Canned</td>\n",
       "      <td>OUT001</td>\n",
       "      <td>449016.38</td>\n",
       "    </tr>\n",
       "    <tr>\n",
       "      <th>13</th>\n",
       "      <td>Canned</td>\n",
       "      <td>OUT002</td>\n",
       "      <td>151467.66</td>\n",
       "    </tr>\n",
       "    <tr>\n",
       "      <th>14</th>\n",
       "      <td>Canned</td>\n",
       "      <td>OUT003</td>\n",
       "      <td>452445.17</td>\n",
       "    </tr>\n",
       "    <tr>\n",
       "      <th>15</th>\n",
       "      <td>Canned</td>\n",
       "      <td>OUT004</td>\n",
       "      <td>1247153.50</td>\n",
       "    </tr>\n",
       "    <tr>\n",
       "      <th>16</th>\n",
       "      <td>Dairy</td>\n",
       "      <td>OUT001</td>\n",
       "      <td>598767.62</td>\n",
       "    </tr>\n",
       "    <tr>\n",
       "      <th>17</th>\n",
       "      <td>Dairy</td>\n",
       "      <td>OUT002</td>\n",
       "      <td>178888.18</td>\n",
       "    </tr>\n",
       "    <tr>\n",
       "      <th>18</th>\n",
       "      <td>Dairy</td>\n",
       "      <td>OUT003</td>\n",
       "      <td>715814.94</td>\n",
       "    </tr>\n",
       "    <tr>\n",
       "      <th>19</th>\n",
       "      <td>Dairy</td>\n",
       "      <td>OUT004</td>\n",
       "      <td>1318447.30</td>\n",
       "    </tr>\n",
       "    <tr>\n",
       "      <th>20</th>\n",
       "      <td>Frozen Foods</td>\n",
       "      <td>OUT001</td>\n",
       "      <td>558556.81</td>\n",
       "    </tr>\n",
       "    <tr>\n",
       "      <th>21</th>\n",
       "      <td>Frozen Foods</td>\n",
       "      <td>OUT002</td>\n",
       "      <td>180295.95</td>\n",
       "    </tr>\n",
       "    <tr>\n",
       "      <th>22</th>\n",
       "      <td>Frozen Foods</td>\n",
       "      <td>OUT003</td>\n",
       "      <td>597608.42</td>\n",
       "    </tr>\n",
       "    <tr>\n",
       "      <th>23</th>\n",
       "      <td>Frozen Foods</td>\n",
       "      <td>OUT004</td>\n",
       "      <td>1473519.65</td>\n",
       "    </tr>\n",
       "    <tr>\n",
       "      <th>24</th>\n",
       "      <td>Fruits and Vegetables</td>\n",
       "      <td>OUT001</td>\n",
       "      <td>792992.59</td>\n",
       "    </tr>\n",
       "    <tr>\n",
       "      <th>25</th>\n",
       "      <td>Fruits and Vegetables</td>\n",
       "      <td>OUT002</td>\n",
       "      <td>298503.56</td>\n",
       "    </tr>\n",
       "    <tr>\n",
       "      <th>26</th>\n",
       "      <td>Fruits and Vegetables</td>\n",
       "      <td>OUT003</td>\n",
       "      <td>897437.46</td>\n",
       "    </tr>\n",
       "    <tr>\n",
       "      <th>27</th>\n",
       "      <td>Fruits and Vegetables</td>\n",
       "      <td>OUT004</td>\n",
       "      <td>2311899.66</td>\n",
       "    </tr>\n",
       "    <tr>\n",
       "      <th>28</th>\n",
       "      <td>Hard Drinks</td>\n",
       "      <td>OUT001</td>\n",
       "      <td>152920.74</td>\n",
       "    </tr>\n",
       "    <tr>\n",
       "      <th>29</th>\n",
       "      <td>Hard Drinks</td>\n",
       "      <td>OUT002</td>\n",
       "      <td>54281.85</td>\n",
       "    </tr>\n",
       "    <tr>\n",
       "      <th>30</th>\n",
       "      <td>Hard Drinks</td>\n",
       "      <td>OUT003</td>\n",
       "      <td>110760.30</td>\n",
       "    </tr>\n",
       "    <tr>\n",
       "      <th>31</th>\n",
       "      <td>Hard Drinks</td>\n",
       "      <td>OUT004</td>\n",
       "      <td>307851.73</td>\n",
       "    </tr>\n",
       "    <tr>\n",
       "      <th>32</th>\n",
       "      <td>Health and Hygiene</td>\n",
       "      <td>OUT001</td>\n",
       "      <td>435005.31</td>\n",
       "    </tr>\n",
       "    <tr>\n",
       "      <th>33</th>\n",
       "      <td>Health and Hygiene</td>\n",
       "      <td>OUT002</td>\n",
       "      <td>164660.81</td>\n",
       "    </tr>\n",
       "    <tr>\n",
       "      <th>34</th>\n",
       "      <td>Health and Hygiene</td>\n",
       "      <td>OUT003</td>\n",
       "      <td>439139.18</td>\n",
       "    </tr>\n",
       "    <tr>\n",
       "      <th>35</th>\n",
       "      <td>Health and Hygiene</td>\n",
       "      <td>OUT004</td>\n",
       "      <td>1124901.91</td>\n",
       "    </tr>\n",
       "    <tr>\n",
       "      <th>36</th>\n",
       "      <td>Household</td>\n",
       "      <td>OUT001</td>\n",
       "      <td>531371.38</td>\n",
       "    </tr>\n",
       "    <tr>\n",
       "      <th>37</th>\n",
       "      <td>Household</td>\n",
       "      <td>OUT002</td>\n",
       "      <td>184665.65</td>\n",
       "    </tr>\n",
       "    <tr>\n",
       "      <th>38</th>\n",
       "      <td>Household</td>\n",
       "      <td>OUT003</td>\n",
       "      <td>523981.64</td>\n",
       "    </tr>\n",
       "    <tr>\n",
       "      <th>39</th>\n",
       "      <td>Household</td>\n",
       "      <td>OUT004</td>\n",
       "      <td>1324721.50</td>\n",
       "    </tr>\n",
       "    <tr>\n",
       "      <th>40</th>\n",
       "      <td>Meat</td>\n",
       "      <td>OUT001</td>\n",
       "      <td>505867.28</td>\n",
       "    </tr>\n",
       "    <tr>\n",
       "      <th>41</th>\n",
       "      <td>Meat</td>\n",
       "      <td>OUT002</td>\n",
       "      <td>151800.01</td>\n",
       "    </tr>\n",
       "    <tr>\n",
       "      <th>42</th>\n",
       "      <td>Meat</td>\n",
       "      <td>OUT003</td>\n",
       "      <td>520939.68</td>\n",
       "    </tr>\n",
       "    <tr>\n",
       "      <th>43</th>\n",
       "      <td>Meat</td>\n",
       "      <td>OUT004</td>\n",
       "      <td>950604.97</td>\n",
       "    </tr>\n",
       "    <tr>\n",
       "      <th>44</th>\n",
       "      <td>Others</td>\n",
       "      <td>OUT001</td>\n",
       "      <td>123977.09</td>\n",
       "    </tr>\n",
       "    <tr>\n",
       "      <th>45</th>\n",
       "      <td>Others</td>\n",
       "      <td>OUT002</td>\n",
       "      <td>32835.73</td>\n",
       "    </tr>\n",
       "    <tr>\n",
       "      <th>46</th>\n",
       "      <td>Others</td>\n",
       "      <td>OUT003</td>\n",
       "      <td>159963.75</td>\n",
       "    </tr>\n",
       "    <tr>\n",
       "      <th>47</th>\n",
       "      <td>Others</td>\n",
       "      <td>OUT004</td>\n",
       "      <td>224719.73</td>\n",
       "    </tr>\n",
       "    <tr>\n",
       "      <th>48</th>\n",
       "      <td>Seafood</td>\n",
       "      <td>OUT001</td>\n",
       "      <td>52936.84</td>\n",
       "    </tr>\n",
       "    <tr>\n",
       "      <th>49</th>\n",
       "      <td>Seafood</td>\n",
       "      <td>OUT002</td>\n",
       "      <td>17663.35</td>\n",
       "    </tr>\n",
       "    <tr>\n",
       "      <th>50</th>\n",
       "      <td>Seafood</td>\n",
       "      <td>OUT003</td>\n",
       "      <td>65337.48</td>\n",
       "    </tr>\n",
       "    <tr>\n",
       "      <th>51</th>\n",
       "      <td>Seafood</td>\n",
       "      <td>OUT004</td>\n",
       "      <td>136466.37</td>\n",
       "    </tr>\n",
       "    <tr>\n",
       "      <th>52</th>\n",
       "      <td>Snack Foods</td>\n",
       "      <td>OUT001</td>\n",
       "      <td>806142.24</td>\n",
       "    </tr>\n",
       "    <tr>\n",
       "      <th>53</th>\n",
       "      <td>Snack Foods</td>\n",
       "      <td>OUT002</td>\n",
       "      <td>255317.57</td>\n",
       "    </tr>\n",
       "    <tr>\n",
       "      <th>54</th>\n",
       "      <td>Snack Foods</td>\n",
       "      <td>OUT003</td>\n",
       "      <td>918510.44</td>\n",
       "    </tr>\n",
       "    <tr>\n",
       "      <th>55</th>\n",
       "      <td>Snack Foods</td>\n",
       "      <td>OUT004</td>\n",
       "      <td>2009026.70</td>\n",
       "    </tr>\n",
       "    <tr>\n",
       "      <th>56</th>\n",
       "      <td>Soft Drinks</td>\n",
       "      <td>OUT001</td>\n",
       "      <td>410548.69</td>\n",
       "    </tr>\n",
       "    <tr>\n",
       "      <th>57</th>\n",
       "      <td>Soft Drinks</td>\n",
       "      <td>OUT002</td>\n",
       "      <td>103808.35</td>\n",
       "    </tr>\n",
       "    <tr>\n",
       "      <th>58</th>\n",
       "      <td>Soft Drinks</td>\n",
       "      <td>OUT003</td>\n",
       "      <td>365046.30</td>\n",
       "    </tr>\n",
       "    <tr>\n",
       "      <th>59</th>\n",
       "      <td>Soft Drinks</td>\n",
       "      <td>OUT004</td>\n",
       "      <td>917641.38</td>\n",
       "    </tr>\n",
       "    <tr>\n",
       "      <th>60</th>\n",
       "      <td>Starchy Foods</td>\n",
       "      <td>OUT001</td>\n",
       "      <td>120443.98</td>\n",
       "    </tr>\n",
       "    <tr>\n",
       "      <th>61</th>\n",
       "      <td>Starchy Foods</td>\n",
       "      <td>OUT002</td>\n",
       "      <td>20044.98</td>\n",
       "    </tr>\n",
       "    <tr>\n",
       "      <th>62</th>\n",
       "      <td>Starchy Foods</td>\n",
       "      <td>OUT003</td>\n",
       "      <td>143538.60</td>\n",
       "    </tr>\n",
       "    <tr>\n",
       "      <th>63</th>\n",
       "      <td>Starchy Foods</td>\n",
       "      <td>OUT004</td>\n",
       "      <td>234746.89</td>\n",
       "    </tr>\n",
       "  </tbody>\n",
       "</table>\n",
       "</div>"
      ],
      "text/plain": [
       "             Product_Type Store_Id  Product_Store_Sales_Total\n",
       "0            Baking Goods   OUT001                  525131.04\n",
       "1            Baking Goods   OUT002                  169860.50\n",
       "2            Baking Goods   OUT003                  491908.20\n",
       "3            Baking Goods   OUT004                 1266086.26\n",
       "4                  Breads   OUT001                  121274.09\n",
       "5                  Breads   OUT002                   43419.47\n",
       "6                  Breads   OUT003                  175391.93\n",
       "7                  Breads   OUT004                  374856.75\n",
       "8               Breakfast   OUT001                   38161.10\n",
       "9               Breakfast   OUT002                   23396.10\n",
       "10              Breakfast   OUT003                   95634.08\n",
       "11              Breakfast   OUT004                  204939.13\n",
       "12                 Canned   OUT001                  449016.38\n",
       "13                 Canned   OUT002                  151467.66\n",
       "14                 Canned   OUT003                  452445.17\n",
       "15                 Canned   OUT004                 1247153.50\n",
       "16                  Dairy   OUT001                  598767.62\n",
       "17                  Dairy   OUT002                  178888.18\n",
       "18                  Dairy   OUT003                  715814.94\n",
       "19                  Dairy   OUT004                 1318447.30\n",
       "20           Frozen Foods   OUT001                  558556.81\n",
       "21           Frozen Foods   OUT002                  180295.95\n",
       "22           Frozen Foods   OUT003                  597608.42\n",
       "23           Frozen Foods   OUT004                 1473519.65\n",
       "24  Fruits and Vegetables   OUT001                  792992.59\n",
       "25  Fruits and Vegetables   OUT002                  298503.56\n",
       "26  Fruits and Vegetables   OUT003                  897437.46\n",
       "27  Fruits and Vegetables   OUT004                 2311899.66\n",
       "28            Hard Drinks   OUT001                  152920.74\n",
       "29            Hard Drinks   OUT002                   54281.85\n",
       "30            Hard Drinks   OUT003                  110760.30\n",
       "31            Hard Drinks   OUT004                  307851.73\n",
       "32     Health and Hygiene   OUT001                  435005.31\n",
       "33     Health and Hygiene   OUT002                  164660.81\n",
       "34     Health and Hygiene   OUT003                  439139.18\n",
       "35     Health and Hygiene   OUT004                 1124901.91\n",
       "36              Household   OUT001                  531371.38\n",
       "37              Household   OUT002                  184665.65\n",
       "38              Household   OUT003                  523981.64\n",
       "39              Household   OUT004                 1324721.50\n",
       "40                   Meat   OUT001                  505867.28\n",
       "41                   Meat   OUT002                  151800.01\n",
       "42                   Meat   OUT003                  520939.68\n",
       "43                   Meat   OUT004                  950604.97\n",
       "44                 Others   OUT001                  123977.09\n",
       "45                 Others   OUT002                   32835.73\n",
       "46                 Others   OUT003                  159963.75\n",
       "47                 Others   OUT004                  224719.73\n",
       "48                Seafood   OUT001                   52936.84\n",
       "49                Seafood   OUT002                   17663.35\n",
       "50                Seafood   OUT003                   65337.48\n",
       "51                Seafood   OUT004                  136466.37\n",
       "52            Snack Foods   OUT001                  806142.24\n",
       "53            Snack Foods   OUT002                  255317.57\n",
       "54            Snack Foods   OUT003                  918510.44\n",
       "55            Snack Foods   OUT004                 2009026.70\n",
       "56            Soft Drinks   OUT001                  410548.69\n",
       "57            Soft Drinks   OUT002                  103808.35\n",
       "58            Soft Drinks   OUT003                  365046.30\n",
       "59            Soft Drinks   OUT004                  917641.38\n",
       "60          Starchy Foods   OUT001                  120443.98\n",
       "61          Starchy Foods   OUT002                   20044.98\n",
       "62          Starchy Foods   OUT003                  143538.60\n",
       "63          Starchy Foods   OUT004                  234746.89"
      ]
     },
     "execution_count": 63,
     "metadata": {},
     "output_type": "execute_result"
    }
   ],
   "source": [
    "df1 = data.groupby([\"Product_Type\", \"Store_Id\"], as_index = False)[\n",
    "    \"Product_Store_Sales_Total\"\n",
    "].sum()\n",
    "df1"
   ]
  },
  {
   "cell_type": "markdown",
   "id": "fccffb14",
   "metadata": {
    "id": "fccffb14"
   },
   "source": [
    "**Observations:**\n",
    "- xxx"
   ]
  },
  {
   "cell_type": "markdown",
   "id": "f3083f23",
   "metadata": {
    "id": "f3083f23"
   },
   "source": [
    "**Let's find out the revenue generated by the stores from products having different levels of sugar content**."
   ]
  },
  {
   "cell_type": "code",
   "execution_count": null,
   "id": "0167eedf",
   "metadata": {
    "colab": {
     "base_uri": "https://localhost:8080/",
     "height": 426
    },
    "id": "0167eedf",
    "outputId": "1aad8ad9-ce73-418e-8535-5beb1e4284bf"
   },
   "outputs": [
    {
     "data": {
      "text/html": [
       "<div>\n",
       "<style scoped>\n",
       "    .dataframe tbody tr th:only-of-type {\n",
       "        vertical-align: middle;\n",
       "    }\n",
       "\n",
       "    .dataframe tbody tr th {\n",
       "        vertical-align: top;\n",
       "    }\n",
       "\n",
       "    .dataframe thead th {\n",
       "        text-align: right;\n",
       "    }\n",
       "</style>\n",
       "<table border=\"1\" class=\"dataframe\">\n",
       "  <thead>\n",
       "    <tr style=\"text-align: right;\">\n",
       "      <th></th>\n",
       "      <th>Product_Sugar_Content</th>\n",
       "      <th>Store_Id</th>\n",
       "      <th>Product_Store_Sales_Total</th>\n",
       "    </tr>\n",
       "  </thead>\n",
       "  <tbody>\n",
       "    <tr>\n",
       "      <th>0</th>\n",
       "      <td>Low Sugar</td>\n",
       "      <td>OUT001</td>\n",
       "      <td>3300834.93</td>\n",
       "    </tr>\n",
       "    <tr>\n",
       "      <th>1</th>\n",
       "      <td>Low Sugar</td>\n",
       "      <td>OUT002</td>\n",
       "      <td>1156758.85</td>\n",
       "    </tr>\n",
       "    <tr>\n",
       "      <th>2</th>\n",
       "      <td>Low Sugar</td>\n",
       "      <td>OUT003</td>\n",
       "      <td>3706903.24</td>\n",
       "    </tr>\n",
       "    <tr>\n",
       "      <th>3</th>\n",
       "      <td>Low Sugar</td>\n",
       "      <td>OUT004</td>\n",
       "      <td>8658908.78</td>\n",
       "    </tr>\n",
       "    <tr>\n",
       "      <th>4</th>\n",
       "      <td>No Sugar</td>\n",
       "      <td>OUT001</td>\n",
       "      <td>1090353.78</td>\n",
       "    </tr>\n",
       "    <tr>\n",
       "      <th>5</th>\n",
       "      <td>No Sugar</td>\n",
       "      <td>OUT002</td>\n",
       "      <td>382162.19</td>\n",
       "    </tr>\n",
       "    <tr>\n",
       "      <th>6</th>\n",
       "      <td>No Sugar</td>\n",
       "      <td>OUT003</td>\n",
       "      <td>1123084.57</td>\n",
       "    </tr>\n",
       "    <tr>\n",
       "      <th>7</th>\n",
       "      <td>No Sugar</td>\n",
       "      <td>OUT004</td>\n",
       "      <td>2674343.14</td>\n",
       "    </tr>\n",
       "    <tr>\n",
       "      <th>8</th>\n",
       "      <td>Regular</td>\n",
       "      <td>OUT001</td>\n",
       "      <td>1831924.47</td>\n",
       "    </tr>\n",
       "    <tr>\n",
       "      <th>9</th>\n",
       "      <td>Regular</td>\n",
       "      <td>OUT002</td>\n",
       "      <td>491988.68</td>\n",
       "    </tr>\n",
       "    <tr>\n",
       "      <th>10</th>\n",
       "      <td>Regular</td>\n",
       "      <td>OUT003</td>\n",
       "      <td>1843469.76</td>\n",
       "    </tr>\n",
       "    <tr>\n",
       "      <th>11</th>\n",
       "      <td>Regular</td>\n",
       "      <td>OUT004</td>\n",
       "      <td>4094331.51</td>\n",
       "    </tr>\n",
       "  </tbody>\n",
       "</table>\n",
       "</div>"
      ],
      "text/plain": [
       "   Product_Sugar_Content Store_Id  Product_Store_Sales_Total\n",
       "0              Low Sugar   OUT001                 3300834.93\n",
       "1              Low Sugar   OUT002                 1156758.85\n",
       "2              Low Sugar   OUT003                 3706903.24\n",
       "3              Low Sugar   OUT004                 8658908.78\n",
       "4               No Sugar   OUT001                 1090353.78\n",
       "5               No Sugar   OUT002                  382162.19\n",
       "6               No Sugar   OUT003                 1123084.57\n",
       "7               No Sugar   OUT004                 2674343.14\n",
       "8                Regular   OUT001                 1831924.47\n",
       "9                Regular   OUT002                  491988.68\n",
       "10               Regular   OUT003                 1843469.76\n",
       "11               Regular   OUT004                 4094331.51"
      ]
     },
     "execution_count": 64,
     "metadata": {},
     "output_type": "execute_result"
    }
   ],
   "source": [
    "df2 = data.groupby([\"Product_Sugar_Content\", \"Store_Id\"], as_index = False)[\n",
    "    \"Product_Store_Sales_Total\"\n",
    "].sum()\n",
    "df2"
   ]
  },
  {
   "cell_type": "markdown",
   "id": "ba3192c9",
   "metadata": {
    "id": "ba3192c9"
   },
   "source": [
    "**Observation:**\n",
    "- xxx"
   ]
  },
  {
   "cell_type": "markdown",
   "id": "0292b8ae",
   "metadata": {},
   "source": [
    "--------\n",
    "## **Data Preprocessing**\n",
    "-----------"
   ]
  },
  {
   "cell_type": "markdown",
   "id": "03621a50",
   "metadata": {
    "id": "03621a50"
   },
   "source": [
    "## **Feature Engineering**"
   ]
  },
  {
   "cell_type": "markdown",
   "id": "288f871c",
   "metadata": {
    "id": "288f871c"
   },
   "source": [
    "**A store which has been in the business for a long duration is more trustworthy than the newly established ones. On the other hand, older stores may sometimes lack infrastructure if proper attention is not given. So let us calculate the current age of the store and incorporate that in our model.** "
   ]
  },
  {
   "cell_type": "code",
   "execution_count": null,
   "id": "c18c2219",
   "metadata": {
    "id": "c18c2219"
   },
   "outputs": [],
   "source": [
    "# Outlet Age\n",
    "data[\"Store_Age_Years\"] = 2022 - data.Store_Establishment_Year"
   ]
  },
  {
   "cell_type": "markdown",
   "id": "27b7992e",
   "metadata": {
    "id": "27b7992e"
   },
   "source": [
    "**We have 16 different product types in our dataset. So let us make two broad categories, perishables and non perishables, in order to reduce the number of product types.**"
   ]
  },
  {
   "cell_type": "code",
   "execution_count": null,
   "id": "f67aec38",
   "metadata": {
    "id": "f67aec38"
   },
   "outputs": [],
   "source": [
    "perishables = [\n",
    "    \"Dairy\",\n",
    "    \"Meat\",\n",
    "    \"Fruits and Vegetables\",\n",
    "    \"Breakfast\",\n",
    "    \"Breads\",\n",
    "    \"Seafood\",\n",
    "]"
   ]
  },
  {
   "cell_type": "code",
   "execution_count": null,
   "id": "bdf7bc3a",
   "metadata": {
    "colab": {
     "base_uri": "https://localhost:8080/"
    },
    "id": "bdf7bc3a",
    "outputId": "93c63ec7-b723-4598-f78a-a4910c859857"
   },
   "outputs": [
    {
     "data": {
      "text/plain": [
       "0       Non Perishables\n",
       "1           Perishables\n",
       "2       Non Perishables\n",
       "3       Non Perishables\n",
       "4       Non Perishables\n",
       "             ...       \n",
       "8758    Non Perishables\n",
       "8759    Non Perishables\n",
       "8760    Non Perishables\n",
       "8761    Non Perishables\n",
       "8762    Non Perishables\n",
       "Name: Product_Type, Length: 8763, dtype: object"
      ]
     },
     "execution_count": 67,
     "metadata": {},
     "output_type": "execute_result"
    }
   ],
   "source": [
    "def change(x):\n",
    "    if x in perishables:\n",
    "        return \"Perishables\"\n",
    "    else:\n",
    "        return \"Non Perishables\"\n",
    "\n",
    "\n",
    "data.Product_Type.apply(change)"
   ]
  },
  {
   "cell_type": "code",
   "execution_count": null,
   "id": "b32a2dac",
   "metadata": {
    "id": "b32a2dac"
   },
   "outputs": [],
   "source": [
    "change1 = []\n",
    "for i in range(0, len(data)):\n",
    "    if data.Product_Type[i] in perishables:\n",
    "        change1.append(\"Perishables\")\n",
    "    else:\n",
    "        change1.append(\"Non Perishables\")"
   ]
  },
  {
   "cell_type": "code",
   "execution_count": null,
   "id": "4d524638",
   "metadata": {
    "id": "4d524638"
   },
   "outputs": [],
   "source": [
    "data[\"Product_Type_Category\"] = pd.Series(change1)"
   ]
  },
  {
   "cell_type": "code",
   "execution_count": null,
   "id": "e1e1c5ca",
   "metadata": {
    "colab": {
     "base_uri": "https://localhost:8080/",
     "height": 357
    },
    "id": "e1e1c5ca",
    "outputId": "798ae4c8-e2a9-4f09-9ab2-954bd4af5367"
   },
   "outputs": [
    {
     "data": {
      "text/html": [
       "<div>\n",
       "<style scoped>\n",
       "    .dataframe tbody tr th:only-of-type {\n",
       "        vertical-align: middle;\n",
       "    }\n",
       "\n",
       "    .dataframe tbody tr th {\n",
       "        vertical-align: top;\n",
       "    }\n",
       "\n",
       "    .dataframe thead th {\n",
       "        text-align: right;\n",
       "    }\n",
       "</style>\n",
       "<table border=\"1\" class=\"dataframe\">\n",
       "  <thead>\n",
       "    <tr style=\"text-align: right;\">\n",
       "      <th></th>\n",
       "      <th>Product_Weight</th>\n",
       "      <th>Product_Sugar_Content</th>\n",
       "      <th>Product_Allocated_Area</th>\n",
       "      <th>Product_Type</th>\n",
       "      <th>Product_MRP</th>\n",
       "      <th>Store_Id</th>\n",
       "      <th>Store_Establishment_Year</th>\n",
       "      <th>Store_Size</th>\n",
       "      <th>Store_Location_City_Type</th>\n",
       "      <th>Store_Type</th>\n",
       "      <th>Product_Store_Sales_Total</th>\n",
       "      <th>Product_Id_char</th>\n",
       "      <th>Store_Age_Years</th>\n",
       "      <th>Product_Type_Category</th>\n",
       "    </tr>\n",
       "  </thead>\n",
       "  <tbody>\n",
       "    <tr>\n",
       "      <th>0</th>\n",
       "      <td>12.66</td>\n",
       "      <td>Low Sugar</td>\n",
       "      <td>0.027</td>\n",
       "      <td>Frozen Foods</td>\n",
       "      <td>117.08</td>\n",
       "      <td>OUT004</td>\n",
       "      <td>2009</td>\n",
       "      <td>Medium</td>\n",
       "      <td>Tier 2</td>\n",
       "      <td>Supermarket Type2</td>\n",
       "      <td>2842.40</td>\n",
       "      <td>FD</td>\n",
       "      <td>13</td>\n",
       "      <td>Non Perishables</td>\n",
       "    </tr>\n",
       "    <tr>\n",
       "      <th>1</th>\n",
       "      <td>16.54</td>\n",
       "      <td>Low Sugar</td>\n",
       "      <td>0.144</td>\n",
       "      <td>Dairy</td>\n",
       "      <td>171.43</td>\n",
       "      <td>OUT003</td>\n",
       "      <td>1999</td>\n",
       "      <td>Medium</td>\n",
       "      <td>Tier 1</td>\n",
       "      <td>Departmental Store</td>\n",
       "      <td>4830.02</td>\n",
       "      <td>FD</td>\n",
       "      <td>23</td>\n",
       "      <td>Perishables</td>\n",
       "    </tr>\n",
       "    <tr>\n",
       "      <th>2</th>\n",
       "      <td>14.28</td>\n",
       "      <td>Regular</td>\n",
       "      <td>0.031</td>\n",
       "      <td>Canned</td>\n",
       "      <td>162.08</td>\n",
       "      <td>OUT001</td>\n",
       "      <td>1987</td>\n",
       "      <td>High</td>\n",
       "      <td>Tier 2</td>\n",
       "      <td>Supermarket Type1</td>\n",
       "      <td>4130.16</td>\n",
       "      <td>FD</td>\n",
       "      <td>35</td>\n",
       "      <td>Non Perishables</td>\n",
       "    </tr>\n",
       "    <tr>\n",
       "      <th>3</th>\n",
       "      <td>12.10</td>\n",
       "      <td>Low Sugar</td>\n",
       "      <td>0.112</td>\n",
       "      <td>Baking Goods</td>\n",
       "      <td>186.31</td>\n",
       "      <td>OUT001</td>\n",
       "      <td>1987</td>\n",
       "      <td>High</td>\n",
       "      <td>Tier 2</td>\n",
       "      <td>Supermarket Type1</td>\n",
       "      <td>4132.18</td>\n",
       "      <td>FD</td>\n",
       "      <td>35</td>\n",
       "      <td>Non Perishables</td>\n",
       "    </tr>\n",
       "    <tr>\n",
       "      <th>4</th>\n",
       "      <td>9.57</td>\n",
       "      <td>No Sugar</td>\n",
       "      <td>0.010</td>\n",
       "      <td>Health and Hygiene</td>\n",
       "      <td>123.67</td>\n",
       "      <td>OUT002</td>\n",
       "      <td>1998</td>\n",
       "      <td>Small</td>\n",
       "      <td>Tier 3</td>\n",
       "      <td>Food Mart</td>\n",
       "      <td>2279.36</td>\n",
       "      <td>NC</td>\n",
       "      <td>24</td>\n",
       "      <td>Non Perishables</td>\n",
       "    </tr>\n",
       "  </tbody>\n",
       "</table>\n",
       "</div>"
      ],
      "text/plain": [
       "   Product_Weight Product_Sugar_Content  Product_Allocated_Area  \\\n",
       "0           12.66             Low Sugar                   0.027   \n",
       "1           16.54             Low Sugar                   0.144   \n",
       "2           14.28               Regular                   0.031   \n",
       "3           12.10             Low Sugar                   0.112   \n",
       "4            9.57              No Sugar                   0.010   \n",
       "\n",
       "         Product_Type  Product_MRP Store_Id  Store_Establishment_Year  \\\n",
       "0        Frozen Foods       117.08   OUT004                      2009   \n",
       "1               Dairy       171.43   OUT003                      1999   \n",
       "2              Canned       162.08   OUT001                      1987   \n",
       "3        Baking Goods       186.31   OUT001                      1987   \n",
       "4  Health and Hygiene       123.67   OUT002                      1998   \n",
       "\n",
       "  Store_Size Store_Location_City_Type          Store_Type  \\\n",
       "0     Medium                   Tier 2   Supermarket Type2   \n",
       "1     Medium                   Tier 1  Departmental Store   \n",
       "2       High                   Tier 2   Supermarket Type1   \n",
       "3       High                   Tier 2   Supermarket Type1   \n",
       "4      Small                   Tier 3           Food Mart   \n",
       "\n",
       "   Product_Store_Sales_Total Product_Id_char  Store_Age_Years  \\\n",
       "0                    2842.40              FD               13   \n",
       "1                    4830.02              FD               23   \n",
       "2                    4130.16              FD               35   \n",
       "3                    4132.18              FD               35   \n",
       "4                    2279.36              NC               24   \n",
       "\n",
       "  Product_Type_Category  \n",
       "0       Non Perishables  \n",
       "1           Perishables  \n",
       "2       Non Perishables  \n",
       "3       Non Perishables  \n",
       "4       Non Perishables  "
      ]
     },
     "execution_count": 70,
     "metadata": {},
     "output_type": "execute_result"
    }
   ],
   "source": [
    "data.head()"
   ]
  },
  {
   "cell_type": "markdown",
   "id": "fef26ce9",
   "metadata": {
    "id": "fef26ce9"
   },
   "source": [
    "-----------\n",
    "## **Characterize Outliers**\n",
    "\n",
    "-----------"
   ]
  },
  {
   "cell_type": "code",
   "execution_count": null,
   "id": "5e04f7e5",
   "metadata": {
    "colab": {
     "base_uri": "https://localhost:8080/",
     "height": 250
    },
    "id": "5e04f7e5",
    "outputId": "4c566355-3ebb-4a56-f14b-464c629a9792"
   },
   "outputs": [
    {
     "data": {
      "image/png": "[encoded data removed]",
      "text/plain": [
       "<Figure size 1080x864 with 4 Axes>"
      ]
     },
     "metadata": {
      "needs_background": "light"
     },
     "output_type": "display_data"
    }
   ],
   "source": [
    "\n",
    "numeric_columns = data.select_dtypes(include=np.number).columns.tolist()\n",
    "numeric_columns.remove(\"Store_Establishment_Year\")\n",
    "numeric_columns.remove(\"Store_Age_Years\")\n",
    "\n",
    "\n",
    "plt.figure(figsize = (15, 12))\n",
    "\n",
    "for i, variable in enumerate(numeric_columns):\n",
    "    plt.subplot(4, 4, i + 1)\n",
    "    plt.boxplot(data[variable], whis = 1.5)\n",
    "    plt.tight_layout()\n",
    "    plt.title(variable)\n",
    "\n",
    "plt.show()"
   ]
  },
  {
   "cell_type": "markdown",
   "id": "9b0b8adc",
   "metadata": {
    "id": "9b0b8adc"
   },
   "source": [
    "**Observations:**\n",
    "\n",
    "- xxx"
   ]
  },
  {
   "cell_type": "code",
   "execution_count": null,
   "id": "d2ab0ea2",
   "metadata": {},
   "outputs": [
    {
     "data": {
      "image/png": "[encoded data removed]",
      "text/plain": [
       "<Figure size 1152x576 with 2 Axes>"
      ]
     },
     "metadata": {
      "needs_background": "light"
     },
     "output_type": "display_data"
    }
   ],
   "source": [
    "plt.figure(figsize = (16, 8))\n",
    "sns.heatmap(data.corr(), annot = True)\n",
    "plt.show()"
   ]
  },
  {
   "cell_type": "markdown",
   "id": "54a09d33",
   "metadata": {},
   "source": [
    "**Observations:**\n",
    "- xxxx"
   ]
  },
  {
   "cell_type": "markdown",
   "id": "70970767",
   "metadata": {
    "id": "70970767"
   },
   "source": [
    "----------\n",
    "## **Data Preparation for modeling**\n",
    "------------"
   ]
  },
  {
   "cell_type": "markdown",
   "id": "733ebe5e",
   "metadata": {},
   "source": [
    "-------\n",
    "## **Objectives:**\n",
    "- What is the target variable?\n",
    "- Which categorical features need to be encoded?\n",
    "- Which columns can be dropped?\n",
    "- Data needs to be split out to training and testing data subsets\n",
    "--------"
   ]
  },
  {
   "cell_type": "code",
   "execution_count": null,
   "id": "6dc255ba",
   "metadata": {
    "id": "6dc255ba"
   },
   "outputs": [],
   "source": [
    "# Drop these columns XXXXX XXXXX\n",
    "\n",
    "data = data.drop([\"Product_Type\", \"Store_Id\", \"Store_Establishment_Year\"], axis = 1)"
   ]
  },
  {
   "cell_type": "code",
   "execution_count": null,
   "id": "17ff3352",
   "metadata": {
    "id": "17ff3352"
   },
   "outputs": [],
   "source": [
    "# Generate dummy variables\n",
    "\n",
    "data = pd.get_dummies(\n",
    "    data,\n",
    "    columns = data.select_dtypes(include = [\"object\", \"category\"]).columns.tolist(),\n",
    "    drop_first = True,\n",
    ")"
   ]
  },
  {
   "cell_type": "code",
   "execution_count": null,
   "id": "dgSN0AB1FSm_",
   "metadata": {
    "id": "dgSN0AB1FSm_"
   },
   "outputs": [],
   "source": [
    "# Separating features and the target variable\n",
    "\n",
    "X = data.drop([\"Product_Store_Sales_Total\"], axis = 1)\n",
    "y = data[\"Product_Store_Sales_Total\"]"
   ]
  },
  {
   "cell_type": "code",
   "execution_count": null,
   "id": "Ewv3n5_gGrqm",
   "metadata": {
    "id": "Ewv3n5_gGrqm"
   },
   "outputs": [],
   "source": [
    "X = sm.add_constant(X)"
   ]
  },
  {
   "cell_type": "code",
   "execution_count": null,
   "id": "9QYGh6PhFZF6",
   "metadata": {
    "id": "9QYGh6PhFZF6"
   },
   "outputs": [],
   "source": [
    "# Split the data into train and test sets in 70:30 ratio (or 80/20)\n",
    "\n",
    "X_train, X_test, y_train, y_test = train_test_split(\n",
    "    X, y, test_size = 0.30, random_state = 1)"
   ]
  },
  {
   "cell_type": "markdown",
   "id": "653f4715",
   "metadata": {
    "id": "653f4715"
   },
   "source": [
    "----------\n",
    "## **Check for Multicollinearity**\n",
    "----------"
   ]
  },
  {
   "cell_type": "markdown",
   "id": "0e252f3b",
   "metadata": {},
   "source": [
    "## **Objectives:**\n",
    "\n",
    "- Use the Variance Inflation Factor (VIF), to characterize multicollinearity in the data.\n",
    "- Those features with a VIF score > 5 will be dropped / processed till all the features have a VIF score < 5"
   ]
  },
  {
   "cell_type": "code",
   "execution_count": null,
   "id": "99a2a922",
   "metadata": {
    "colab": {
     "base_uri": "https://localhost:8080/"
    },
    "id": "99a2a922",
    "outputId": "da60e67d-d63f-4f30-a26b-749d68215015"
   },
   "outputs": [
    {
     "name": "stdout",
     "output_type": "stream",
     "text": [
      "                              feature       VIF\n",
      "0                               const  0.000000\n",
      "1                      Product_Weight  1.752928\n",
      "2              Product_Allocated_Area  1.001184\n",
      "3                         Product_MRP  1.885058\n",
      "4                     Store_Age_Years       inf\n",
      "5      Product_Sugar_Content_No Sugar       inf\n",
      "6       Product_Sugar_Content_Regular  1.088506\n",
      "7                   Store_Size_Medium       inf\n",
      "8                    Store_Size_Small       inf\n",
      "9     Store_Location_City_Type_Tier 2       inf\n",
      "10    Store_Location_City_Type_Tier 3       inf\n",
      "11               Store_Type_Food Mart       inf\n",
      "12       Store_Type_Supermarket Type1       inf\n",
      "13       Store_Type_Supermarket Type2       inf\n",
      "14                 Product_Id_char_FD  2.774371\n",
      "15                 Product_Id_char_NC       inf\n",
      "16  Product_Type_Category_Perishables  1.217690\n"
     ]
    }
   ],
   "source": [
    "from statsmodels.stats.outliers_influence import variance_inflation_factor\n",
    "\n",
    "# Method to check VIF\n",
    "\n",
    "def checking_vif(train):\n",
    "    vif = pd.DataFrame()\n",
    "    vif[\"feature\"] = train.columns\n",
    "\n",
    "    # Calculate VIF for each feature\n",
    "    vif[\"VIF\"] = [\n",
    "        variance_inflation_factor(train.values, i) for i in range(len(train.columns))\n",
    "    ]\n",
    "    return vif\n"
   ]
  },
  {
   "cell_type": "code",
   "execution_count": null,
   "id": "d7f0493a",
   "metadata": {},
   "outputs": [],
   "source": [
    "print(checking_vif(X_train))"
   ]
  },
  {
   "cell_type": "markdown",
   "id": "e9226234",
   "metadata": {
    "id": "e9226234"
   },
   "source": [
    "**Observations:**\n",
    "- xxxx"
   ]
  },
  {
   "cell_type": "markdown",
   "id": "82887c59",
   "metadata": {},
   "source": [
    "### **Drop columns**"
   ]
  },
  {
   "cell_type": "code",
   "execution_count": null,
   "id": "xXfNK5XBFpP7",
   "metadata": {
    "id": "xXfNK5XBFpP7"
   },
   "outputs": [],
   "source": [
    "X_train = X_train.drop('Store_Age_Years',axis = 1)\n",
    "\n",
    "X_test = X_test.drop('Store_Age_Years',axis = 1)"
   ]
  },
  {
   "cell_type": "markdown",
   "id": "fcd5865a",
   "metadata": {},
   "source": [
    "--------\n",
    "## **Check the VIF again**\n",
    "---------"
   ]
  },
  {
   "cell_type": "code",
   "execution_count": null,
   "id": "wAGrXP2xHOB-",
   "metadata": {
    "colab": {
     "base_uri": "https://localhost:8080/"
    },
    "id": "wAGrXP2xHOB-",
    "outputId": "5657b910-5a40-48c1-df75-d9130f710826"
   },
   "outputs": [
    {
     "name": "stdout",
     "output_type": "stream",
     "text": [
      "                              feature       VIF\n",
      "0                               const  0.000000\n",
      "1                      Product_Weight  1.752928\n",
      "2              Product_Allocated_Area  1.001184\n",
      "3                         Product_MRP  1.885058\n",
      "4      Product_Sugar_Content_No Sugar       inf\n",
      "5       Product_Sugar_Content_Regular  1.088506\n",
      "6                   Store_Size_Medium       inf\n",
      "7                    Store_Size_Small       inf\n",
      "8     Store_Location_City_Type_Tier 2       inf\n",
      "9     Store_Location_City_Type_Tier 3       inf\n",
      "10               Store_Type_Food Mart       inf\n",
      "11       Store_Type_Supermarket Type1       inf\n",
      "12       Store_Type_Supermarket Type2       inf\n",
      "13                 Product_Id_char_FD  2.774371\n",
      "14                 Product_Id_char_NC       inf\n",
      "15  Product_Type_Category_Perishables  1.217690\n"
     ]
    }
   ],
   "source": [
    "print(checking_vif(X_train))"
   ]
  },
  {
   "cell_type": "markdown",
   "id": "36756a63",
   "metadata": {
    "id": "36756a63"
   },
   "source": [
    "---------\n",
    "# **Building Models**\n",
    "---------"
   ]
  },
  {
   "cell_type": "markdown",
   "id": "39f66c01",
   "metadata": {},
   "source": [
    "-----------\n",
    "## **Method for generating Performance Metrics**\n",
    "----------"
   ]
  },
  {
   "cell_type": "code",
   "execution_count": null,
   "id": "04d88690",
   "metadata": {
    "id": "04d88690"
   },
   "outputs": [],
   "source": [
    "from sklearn.metrics import r2_score, mean_absolute_percentage_error, mean_absolute_error, mean_squared_error\n",
    "\n",
    "# Model Performance on test and train data\n",
    "\n",
    "def model_pref(olsmodel, x_train, x_test):\n",
    "\n",
    "    # In-sample Prediction\n",
    "\n",
    "    y_pred_train = olsmodel.predict(x_train)\n",
    "    y_observed_train = y_train\n",
    "\n",
    "    # Prediction on test data\n",
    "    \n",
    "    y_pred_test = olsmodel.predict(x_test)\n",
    "    y_observed_test = y_test\n",
    "\n",
    "    print(\n",
    "        pd.DataFrame(\n",
    "            {\n",
    "                \"Data\": [\"Train\", \"Test\"],\n",
    "                \"RMSE\": [\n",
    "                    np.sqrt(mean_squared_error(y_pred_train, y_observed_train)),\n",
    "                    np.sqrt(mean_squared_error(y_pred_test, y_observed_test)),\n",
    "                ],\n",
    "                \"MAE\": [\n",
    "                    mean_absolute_error(y_pred_train, y_observed_train),\n",
    "                    mean_absolute_error(y_pred_test, y_observed_test),\n",
    "                ],\n",
    "                \n",
    "                \"r2\": [\n",
    "                    r2_score(y_pred_train, y_observed_train),\n",
    "                    r2_score(y_pred_test, y_observed_test),\n",
    "                ],\n",
    "            }\n",
    "        )\n",
    "    )"
   ]
  },
  {
   "cell_type": "markdown",
   "id": "24c8799a",
   "metadata": {},
   "source": [
    "-----\n",
    "## **Fit the FIRST model**\n",
    "------"
   ]
  },
  {
   "cell_type": "code",
   "execution_count": 82,
   "id": "b78bdee9",
   "metadata": {
    "colab": {
     "base_uri": "https://localhost:8080/",
     "height": 760
    },
    "id": "b78bdee9",
    "outputId": "4ec0be38-538a-46d3-be33-e2643c14249d"
   },
   "outputs": [
    {
     "data": {
      "text/html": [
       "<table class=\"simpletable\">\n",
       "<caption>OLS Regression Results</caption>\n",
       "<tr>\n",
       "  <th>Dep. Variable:</th>    <td>Product_Store_Sales_Total</td> <th>  R-squared:         </th> <td>   0.824</td> \n",
       "</tr>\n",
       "<tr>\n",
       "  <th>Model:</th>                       <td>OLS</td>            <th>  Adj. R-squared:    </th> <td>   0.823</td> \n",
       "</tr>\n",
       "<tr>\n",
       "  <th>Method:</th>                 <td>Least Squares</td>       <th>  F-statistic:       </th> <td>   2860.</td> \n",
       "</tr>\n",
       "<tr>\n",
       "  <th>Date:</th>                 <td>Tue, 16 Aug 2022</td>      <th>  Prob (F-statistic):</th>  <td>  0.00</td>  \n",
       "</tr>\n",
       "<tr>\n",
       "  <th>Time:</th>                     <td>16:19:05</td>          <th>  Log-Likelihood:    </th> <td> -46132.</td> \n",
       "</tr>\n",
       "<tr>\n",
       "  <th>No. Observations:</th>          <td>  6134</td>           <th>  AIC:               </th> <td>9.229e+04</td>\n",
       "</tr>\n",
       "<tr>\n",
       "  <th>Df Residuals:</th>              <td>  6123</td>           <th>  BIC:               </th> <td>9.236e+04</td>\n",
       "</tr>\n",
       "<tr>\n",
       "  <th>Df Model:</th>                  <td>    10</td>           <th>                     </th>     <td> </td>    \n",
       "</tr>\n",
       "<tr>\n",
       "  <th>Covariance Type:</th>          <td>nonrobust</td>         <th>                     </th>     <td> </td>    \n",
       "</tr>\n",
       "</table>\n",
       "<table class=\"simpletable\">\n",
       "<tr>\n",
       "                  <td></td>                     <th>coef</th>     <th>std err</th>      <th>t</th>      <th>P>|t|</th>  <th>[0.025</th>    <th>0.975]</th>  \n",
       "</tr>\n",
       "<tr>\n",
       "  <th>const</th>                             <td>  176.6077</td> <td>   42.659</td> <td>    4.140</td> <td> 0.000</td> <td>   92.982</td> <td>  260.234</td>\n",
       "</tr>\n",
       "<tr>\n",
       "  <th>Product_Weight</th>                    <td>  135.0943</td> <td>    3.436</td> <td>   39.318</td> <td> 0.000</td> <td>  128.359</td> <td>  141.830</td>\n",
       "</tr>\n",
       "<tr>\n",
       "  <th>Product_Allocated_Area</th>            <td> -139.5679</td> <td>  118.876</td> <td>   -1.174</td> <td> 0.240</td> <td> -372.608</td> <td>   93.472</td>\n",
       "</tr>\n",
       "<tr>\n",
       "  <th>Product_MRP</th>                       <td>   12.8696</td> <td>    0.254</td> <td>   50.702</td> <td> 0.000</td> <td>   12.372</td> <td>   13.367</td>\n",
       "</tr>\n",
       "<tr>\n",
       "  <th>Product_Sugar_Content_No Sugar</th>    <td>   16.0039</td> <td>   12.324</td> <td>    1.299</td> <td> 0.194</td> <td>   -8.155</td> <td>   40.163</td>\n",
       "</tr>\n",
       "<tr>\n",
       "  <th>Product_Sugar_Content_Regular</th>     <td>   30.8608</td> <td>   13.284</td> <td>    2.323</td> <td> 0.020</td> <td>    4.819</td> <td>   56.902</td>\n",
       "</tr>\n",
       "<tr>\n",
       "  <th>Store_Size_Medium</th>                 <td>  394.3947</td> <td>   26.547</td> <td>   14.856</td> <td> 0.000</td> <td>  342.353</td> <td>  446.436</td>\n",
       "</tr>\n",
       "<tr>\n",
       "  <th>Store_Size_Small</th>                  <td> -383.1731</td> <td>    5.776</td> <td>  -66.339</td> <td> 0.000</td> <td> -394.496</td> <td> -371.850</td>\n",
       "</tr>\n",
       "<tr>\n",
       "  <th>Store_Location_City_Type_Tier 2</th>   <td> -308.1516</td> <td>    8.855</td> <td>  -34.801</td> <td> 0.000</td> <td> -325.510</td> <td> -290.794</td>\n",
       "</tr>\n",
       "<tr>\n",
       "  <th>Store_Location_City_Type_Tier 3</th>   <td> -383.1731</td> <td>    5.776</td> <td>  -66.339</td> <td> 0.000</td> <td> -394.496</td> <td> -371.850</td>\n",
       "</tr>\n",
       "<tr>\n",
       "  <th>Store_Type_Food Mart</th>              <td> -383.1731</td> <td>    5.776</td> <td>  -66.339</td> <td> 0.000</td> <td> -394.496</td> <td> -371.850</td>\n",
       "</tr>\n",
       "<tr>\n",
       "  <th>Store_Type_Supermarket Type1</th>      <td>  165.3861</td> <td>   17.762</td> <td>    9.311</td> <td> 0.000</td> <td>  130.566</td> <td>  200.206</td>\n",
       "</tr>\n",
       "<tr>\n",
       "  <th>Store_Type_Supermarket Type2</th>      <td> -473.5378</td> <td>   17.176</td> <td>  -27.570</td> <td> 0.000</td> <td> -507.208</td> <td> -439.867</td>\n",
       "</tr>\n",
       "<tr>\n",
       "  <th>Product_Id_char_FD</th>                <td>    0.3932</td> <td>   21.936</td> <td>    0.018</td> <td> 0.986</td> <td>  -42.609</td> <td>   43.396</td>\n",
       "</tr>\n",
       "<tr>\n",
       "  <th>Product_Id_char_NC</th>                <td>   16.0039</td> <td>   12.324</td> <td>    1.299</td> <td> 0.194</td> <td>   -8.155</td> <td>   40.163</td>\n",
       "</tr>\n",
       "<tr>\n",
       "  <th>Product_Type_Category_Perishables</th> <td>    7.7111</td> <td>   13.233</td> <td>    0.583</td> <td> 0.560</td> <td>  -18.231</td> <td>   33.653</td>\n",
       "</tr>\n",
       "</table>\n",
       "<table class=\"simpletable\">\n",
       "<tr>\n",
       "  <th>Omnibus:</th>       <td>1745.262</td> <th>  Durbin-Watson:     </th> <td>   1.987</td> \n",
       "</tr>\n",
       "<tr>\n",
       "  <th>Prob(Omnibus):</th>  <td> 0.000</td>  <th>  Jarque-Bera (JB):  </th> <td>46497.082</td>\n",
       "</tr>\n",
       "<tr>\n",
       "  <th>Skew:</th>           <td> 0.775</td>  <th>  Prob(JB):          </th> <td>    0.00</td> \n",
       "</tr>\n",
       "<tr>\n",
       "  <th>Kurtosis:</th>       <td>16.399</td>  <th>  Cond. No.          </th> <td>8.67e+19</td> \n",
       "</tr>\n",
       "</table><br/><br/>Notes:<br/>[1] Standard Errors assume that the covariance matrix of the errors is correctly specified.<br/>[2] The smallest eigenvalue is 1.85e-32. This might indicate that there are<br/>strong multicollinearity problems or that the design matrix is singular."
      ],
      "text/plain": [
       "<class 'statsmodels.iolib.summary.Summary'>\n",
       "\"\"\"\n",
       "                                OLS Regression Results                               \n",
       "=====================================================================================\n",
       "Dep. Variable:     Product_Store_Sales_Total   R-squared:                       0.824\n",
       "Model:                                   OLS   Adj. R-squared:                  0.823\n",
       "Method:                        Least Squares   F-statistic:                     2860.\n",
       "Date:                       Tue, 16 Aug 2022   Prob (F-statistic):               0.00\n",
       "Time:                               16:19:05   Log-Likelihood:                -46132.\n",
       "No. Observations:                       6134   AIC:                         9.229e+04\n",
       "Df Residuals:                           6123   BIC:                         9.236e+04\n",
       "Df Model:                                 10                                         \n",
       "Covariance Type:                   nonrobust                                         \n",
       "=====================================================================================================\n",
       "                                        coef    std err          t      P>|t|      [0.025      0.975]\n",
       "-----------------------------------------------------------------------------------------------------\n",
       "const                               176.6077     42.659      4.140      0.000      92.982     260.234\n",
       "Product_Weight                      135.0943      3.436     39.318      0.000     128.359     141.830\n",
       "Product_Allocated_Area             -139.5679    118.876     -1.174      0.240    -372.608      93.472\n",
       "Product_MRP                          12.8696      0.254     50.702      0.000      12.372      13.367\n",
       "Product_Sugar_Content_No Sugar       16.0039     12.324      1.299      0.194      -8.155      40.163\n",
       "Product_Sugar_Content_Regular        30.8608     13.284      2.323      0.020       4.819      56.902\n",
       "Store_Size_Medium                   394.3947     26.547     14.856      0.000     342.353     446.436\n",
       "Store_Size_Small                   -383.1731      5.776    -66.339      0.000    -394.496    -371.850\n",
       "Store_Location_City_Type_Tier 2    -308.1516      8.855    -34.801      0.000    -325.510    -290.794\n",
       "Store_Location_City_Type_Tier 3    -383.1731      5.776    -66.339      0.000    -394.496    -371.850\n",
       "Store_Type_Food Mart               -383.1731      5.776    -66.339      0.000    -394.496    -371.850\n",
       "Store_Type_Supermarket Type1        165.3861     17.762      9.311      0.000     130.566     200.206\n",
       "Store_Type_Supermarket Type2       -473.5378     17.176    -27.570      0.000    -507.208    -439.867\n",
       "Product_Id_char_FD                    0.3932     21.936      0.018      0.986     -42.609      43.396\n",
       "Product_Id_char_NC                   16.0039     12.324      1.299      0.194      -8.155      40.163\n",
       "Product_Type_Category_Perishables     7.7111     13.233      0.583      0.560     -18.231      33.653\n",
       "==============================================================================\n",
       "Omnibus:                     1745.262   Durbin-Watson:                   1.987\n",
       "Prob(Omnibus):                  0.000   Jarque-Bera (JB):            46497.082\n",
       "Skew:                           0.775   Prob(JB):                         0.00\n",
       "Kurtosis:                      16.399   Cond. No.                     8.67e+19\n",
       "==============================================================================\n",
       "\n",
       "Notes:\n",
       "[1] Standard Errors assume that the covariance matrix of the errors is correctly specified.\n",
       "[2] The smallest eigenvalue is 1.85e-32. This might indicate that there are\n",
       "strong multicollinearity problems or that the design matrix is singular.\n",
       "\"\"\""
      ]
     },
     "execution_count": 82,
     "metadata": {},
     "output_type": "execute_result"
    }
   ],
   "source": [
    "model1 = sm.OLS(y_train, X_train).fit()\n",
    "\n",
    "# Show the model summary\n",
    "model1.summary()"
   ]
  },
  {
   "cell_type": "markdown",
   "id": "519ce1d3",
   "metadata": {},
   "source": [
    "-----\n",
    "## **Characterize first model performance using the method created above**\n",
    "------"
   ]
  },
  {
   "cell_type": "code",
   "execution_count": 83,
   "id": "66d9c2df",
   "metadata": {
    "colab": {
     "base_uri": "https://localhost:8080/"
    },
    "id": "66d9c2df",
    "outputId": "65fd8aab-8cb2-45ca-9e7d-518746dc4221"
   },
   "outputs": [
    {
     "name": "stdout",
     "output_type": "stream",
     "text": [
      "    Data        RMSE         MAE        r2\n",
      "0  Train  446.667654  262.110666  0.785927\n",
      "1   Test  446.685287  266.690587  0.790208\n"
     ]
    }
   ],
   "source": [
    "\n",
    "model_pref(model1, X_train, X_test)"
   ]
  },
  {
   "cell_type": "markdown",
   "id": "7aa84b5d",
   "metadata": {},
   "source": [
    "**Observations:**\n",
    "- xxxx"
   ]
  },
  {
   "cell_type": "markdown",
   "id": "13bb8874",
   "metadata": {
    "id": "13bb8874"
   },
   "source": [
    "---------\n",
    "##  **Drop insignificant variables (variables with p-value > 0.05).**\n",
    "--------"
   ]
  },
  {
   "cell_type": "code",
   "execution_count": 84,
   "id": "d3c3d2ce",
   "metadata": {
    "id": "d3c3d2ce"
   },
   "outputs": [],
   "source": [
    "X_train1 = X_train.drop([\"Product_Type_Category_Perishables\", \"Product_Id_char_FD\"], axis = 1)"
   ]
  },
  {
   "cell_type": "code",
   "execution_count": 85,
   "id": "5c2b8c20",
   "metadata": {
    "id": "5c2b8c20"
   },
   "outputs": [],
   "source": [
    "X_test1 = X_test.drop([\"Product_Type_Category_Perishables\", \"Product_Id_char_FD\"], axis = 1)"
   ]
  },
  {
   "cell_type": "markdown",
   "id": "13e5b59a",
   "metadata": {},
   "source": [
    "-----\n",
    "## **Fit the SECOND model**\n",
    "------"
   ]
  },
  {
   "cell_type": "code",
   "execution_count": 86,
   "id": "22629deb",
   "metadata": {
    "colab": {
     "base_uri": "https://localhost:8080/",
     "height": 719
    },
    "id": "22629deb",
    "outputId": "14a67bb5-293c-4668-e07d-c3f904690f54"
   },
   "outputs": [
    {
     "data": {
      "text/html": [
       "<table class=\"simpletable\">\n",
       "<caption>OLS Regression Results</caption>\n",
       "<tr>\n",
       "  <th>Dep. Variable:</th>    <td>Product_Store_Sales_Total</td> <th>  R-squared:         </th> <td>   0.824</td> \n",
       "</tr>\n",
       "<tr>\n",
       "  <th>Model:</th>                       <td>OLS</td>            <th>  Adj. R-squared:    </th> <td>   0.823</td> \n",
       "</tr>\n",
       "<tr>\n",
       "  <th>Method:</th>                 <td>Least Squares</td>       <th>  F-statistic:       </th> <td>   3576.</td> \n",
       "</tr>\n",
       "<tr>\n",
       "  <th>Date:</th>                 <td>Tue, 16 Aug 2022</td>      <th>  Prob (F-statistic):</th>  <td>  0.00</td>  \n",
       "</tr>\n",
       "<tr>\n",
       "  <th>Time:</th>                     <td>16:19:05</td>          <th>  Log-Likelihood:    </th> <td> -46132.</td> \n",
       "</tr>\n",
       "<tr>\n",
       "  <th>No. Observations:</th>          <td>  6134</td>           <th>  AIC:               </th> <td>9.228e+04</td>\n",
       "</tr>\n",
       "<tr>\n",
       "  <th>Df Residuals:</th>              <td>  6125</td>           <th>  BIC:               </th> <td>9.234e+04</td>\n",
       "</tr>\n",
       "<tr>\n",
       "  <th>Df Model:</th>                  <td>     8</td>           <th>                     </th>     <td> </td>    \n",
       "</tr>\n",
       "<tr>\n",
       "  <th>Covariance Type:</th>          <td>nonrobust</td>         <th>                     </th>     <td> </td>    \n",
       "</tr>\n",
       "</table>\n",
       "<table class=\"simpletable\">\n",
       "<tr>\n",
       "                 <td></td>                    <th>coef</th>     <th>std err</th>      <th>t</th>      <th>P>|t|</th>  <th>[0.025</th>    <th>0.975]</th>  \n",
       "</tr>\n",
       "<tr>\n",
       "  <th>const</th>                           <td>  179.0666</td> <td>   40.949</td> <td>    4.373</td> <td> 0.000</td> <td>   98.793</td> <td>  259.340</td>\n",
       "</tr>\n",
       "<tr>\n",
       "  <th>Product_Weight</th>                  <td>  135.0918</td> <td>    3.435</td> <td>   39.323</td> <td> 0.000</td> <td>  128.357</td> <td>  141.827</td>\n",
       "</tr>\n",
       "<tr>\n",
       "  <th>Product_Allocated_Area</th>          <td> -140.3752</td> <td>  118.852</td> <td>   -1.181</td> <td> 0.238</td> <td> -373.367</td> <td>   92.616</td>\n",
       "</tr>\n",
       "<tr>\n",
       "  <th>Product_MRP</th>                     <td>   12.8703</td> <td>    0.254</td> <td>   50.727</td> <td> 0.000</td> <td>   12.373</td> <td>   13.368</td>\n",
       "</tr>\n",
       "<tr>\n",
       "  <th>Product_Sugar_Content_No Sugar</th>  <td>   14.1944</td> <td>    7.933</td> <td>    1.789</td> <td> 0.074</td> <td>   -1.358</td> <td>   29.747</td>\n",
       "</tr>\n",
       "<tr>\n",
       "  <th>Product_Sugar_Content_Regular</th>   <td>   30.7219</td> <td>   13.272</td> <td>    2.315</td> <td> 0.021</td> <td>    4.704</td> <td>   56.740</td>\n",
       "</tr>\n",
       "<tr>\n",
       "  <th>Store_Size_Medium</th>               <td>  395.6741</td> <td>   25.835</td> <td>   15.316</td> <td> 0.000</td> <td>  345.029</td> <td>  446.319</td>\n",
       "</tr>\n",
       "<tr>\n",
       "  <th>Store_Size_Small</th>                <td> -382.7595</td> <td>    5.395</td> <td>  -70.953</td> <td> 0.000</td> <td> -393.335</td> <td> -372.184</td>\n",
       "</tr>\n",
       "<tr>\n",
       "  <th>Store_Location_City_Type_Tier 2</th> <td> -307.8490</td> <td>    8.636</td> <td>  -35.648</td> <td> 0.000</td> <td> -324.778</td> <td> -290.920</td>\n",
       "</tr>\n",
       "<tr>\n",
       "  <th>Store_Location_City_Type_Tier 3</th> <td> -382.7595</td> <td>    5.395</td> <td>  -70.953</td> <td> 0.000</td> <td> -393.335</td> <td> -372.184</td>\n",
       "</tr>\n",
       "<tr>\n",
       "  <th>Store_Type_Food Mart</th>            <td> -382.7595</td> <td>    5.395</td> <td>  -70.953</td> <td> 0.000</td> <td> -393.335</td> <td> -372.184</td>\n",
       "</tr>\n",
       "<tr>\n",
       "  <th>Store_Type_Supermarket Type1</th>    <td>  166.1521</td> <td>   17.353</td> <td>    9.575</td> <td> 0.000</td> <td>  132.135</td> <td>  200.169</td>\n",
       "</tr>\n",
       "<tr>\n",
       "  <th>Store_Type_Supermarket Type2</th>    <td> -474.0011</td> <td>   17.074</td> <td>  -27.762</td> <td> 0.000</td> <td> -507.472</td> <td> -440.530</td>\n",
       "</tr>\n",
       "<tr>\n",
       "  <th>Product_Id_char_NC</th>              <td>   14.1944</td> <td>    7.933</td> <td>    1.789</td> <td> 0.074</td> <td>   -1.358</td> <td>   29.747</td>\n",
       "</tr>\n",
       "</table>\n",
       "<table class=\"simpletable\">\n",
       "<tr>\n",
       "  <th>Omnibus:</th>       <td>1744.629</td> <th>  Durbin-Watson:     </th> <td>   1.987</td> \n",
       "</tr>\n",
       "<tr>\n",
       "  <th>Prob(Omnibus):</th>  <td> 0.000</td>  <th>  Jarque-Bera (JB):  </th> <td>46526.548</td>\n",
       "</tr>\n",
       "<tr>\n",
       "  <th>Skew:</th>           <td> 0.775</td>  <th>  Prob(JB):          </th> <td>    0.00</td> \n",
       "</tr>\n",
       "<tr>\n",
       "  <th>Kurtosis:</th>       <td>16.403</td>  <th>  Cond. No.          </th> <td>1.53e+35</td> \n",
       "</tr>\n",
       "</table><br/><br/>Notes:<br/>[1] Standard Errors assume that the covariance matrix of the errors is correctly specified.<br/>[2] The smallest eigenvalue is 5.93e-63. This might indicate that there are<br/>strong multicollinearity problems or that the design matrix is singular."
      ],
      "text/plain": [
       "<class 'statsmodels.iolib.summary.Summary'>\n",
       "\"\"\"\n",
       "                                OLS Regression Results                               \n",
       "=====================================================================================\n",
       "Dep. Variable:     Product_Store_Sales_Total   R-squared:                       0.824\n",
       "Model:                                   OLS   Adj. R-squared:                  0.823\n",
       "Method:                        Least Squares   F-statistic:                     3576.\n",
       "Date:                       Tue, 16 Aug 2022   Prob (F-statistic):               0.00\n",
       "Time:                               16:19:05   Log-Likelihood:                -46132.\n",
       "No. Observations:                       6134   AIC:                         9.228e+04\n",
       "Df Residuals:                           6125   BIC:                         9.234e+04\n",
       "Df Model:                                  8                                         \n",
       "Covariance Type:                   nonrobust                                         \n",
       "===================================================================================================\n",
       "                                      coef    std err          t      P>|t|      [0.025      0.975]\n",
       "---------------------------------------------------------------------------------------------------\n",
       "const                             179.0666     40.949      4.373      0.000      98.793     259.340\n",
       "Product_Weight                    135.0918      3.435     39.323      0.000     128.357     141.827\n",
       "Product_Allocated_Area           -140.3752    118.852     -1.181      0.238    -373.367      92.616\n",
       "Product_MRP                        12.8703      0.254     50.727      0.000      12.373      13.368\n",
       "Product_Sugar_Content_No Sugar     14.1944      7.933      1.789      0.074      -1.358      29.747\n",
       "Product_Sugar_Content_Regular      30.7219     13.272      2.315      0.021       4.704      56.740\n",
       "Store_Size_Medium                 395.6741     25.835     15.316      0.000     345.029     446.319\n",
       "Store_Size_Small                 -382.7595      5.395    -70.953      0.000    -393.335    -372.184\n",
       "Store_Location_City_Type_Tier 2  -307.8490      8.636    -35.648      0.000    -324.778    -290.920\n",
       "Store_Location_City_Type_Tier 3  -382.7595      5.395    -70.953      0.000    -393.335    -372.184\n",
       "Store_Type_Food Mart             -382.7595      5.395    -70.953      0.000    -393.335    -372.184\n",
       "Store_Type_Supermarket Type1      166.1521     17.353      9.575      0.000     132.135     200.169\n",
       "Store_Type_Supermarket Type2     -474.0011     17.074    -27.762      0.000    -507.472    -440.530\n",
       "Product_Id_char_NC                 14.1944      7.933      1.789      0.074      -1.358      29.747\n",
       "==============================================================================\n",
       "Omnibus:                     1744.629   Durbin-Watson:                   1.987\n",
       "Prob(Omnibus):                  0.000   Jarque-Bera (JB):            46526.548\n",
       "Skew:                           0.775   Prob(JB):                         0.00\n",
       "Kurtosis:                      16.403   Cond. No.                     1.53e+35\n",
       "==============================================================================\n",
       "\n",
       "Notes:\n",
       "[1] Standard Errors assume that the covariance matrix of the errors is correctly specified.\n",
       "[2] The smallest eigenvalue is 5.93e-63. This might indicate that there are\n",
       "strong multicollinearity problems or that the design matrix is singular.\n",
       "\"\"\""
      ]
     },
     "execution_count": 86,
     "metadata": {},
     "output_type": "execute_result"
    }
   ],
   "source": [
    "model2 = sm.OLS(y_train, X_train1).fit()\n",
    "\n",
    "# Show the model summary\n",
    "model2.summary()"
   ]
  },
  {
   "cell_type": "markdown",
   "id": "19db5f5d",
   "metadata": {},
   "source": [
    "-----\n",
    "## **Check SECOND model performance metrics**\n",
    "------"
   ]
  },
  {
   "cell_type": "code",
   "execution_count": 87,
   "id": "17538cc4",
   "metadata": {
    "colab": {
     "base_uri": "https://localhost:8080/"
    },
    "id": "17538cc4",
    "outputId": "da86dba7-5b45-46ba-e6fa-fd6c2dc57cd3"
   },
   "outputs": [
    {
     "name": "stdout",
     "output_type": "stream",
     "text": [
      "    Data        RMSE         MAE        r2\n",
      "0  Train  446.681336  262.125308  0.785911\n",
      "1   Test  446.780252  266.790089  0.790113\n"
     ]
    }
   ],
   "source": [
    "# Checking model2 performance\n",
    "model_pref(model2, X_train1, X_test1)"
   ]
  },
  {
   "cell_type": "markdown",
   "id": "c0854b04",
   "metadata": {},
   "source": [
    "**Observations:**\n",
    "- xxxx"
   ]
  },
  {
   "cell_type": "markdown",
   "id": "c5f99f08",
   "metadata": {},
   "source": [
    "-----\n",
    "### **Check list to see if the linear regression assumptions have been met**\n",
    "-------"
   ]
  },
  {
   "cell_type": "markdown",
   "id": "f914f306",
   "metadata": {
    "id": "f914f306"
   },
   "source": [
    "\n",
    "1) **Mean of residuals = 0**\n",
    "2) **No Heteroscedasticity**\n",
    "3) **Linearity of variables**\n",
    "4) **Normality of error terms**"
   ]
  },
  {
   "cell_type": "markdown",
   "id": "rj-EL_s984sw",
   "metadata": {
    "id": "rj-EL_s984sw"
   },
   "source": [
    "## **1) Check for mean residuals on the SECOND model**"
   ]
  },
  {
   "cell_type": "code",
   "execution_count": 88,
   "id": "4qKv4SP381Gc",
   "metadata": {
    "colab": {
     "base_uri": "https://localhost:8080/"
    },
    "id": "4qKv4SP381Gc",
    "outputId": "808d1861-2718-45cf-c4cb-d6ebd9120cf1"
   },
   "outputs": [
    {
     "data": {
      "text/plain": [
       "-4.896207049550968e-12"
      ]
     },
     "execution_count": 88,
     "metadata": {},
     "output_type": "execute_result"
    }
   ],
   "source": [
    "residuals = model2.resid\n",
    "\n",
    "np.mean(residuals)"
   ]
  },
  {
   "cell_type": "markdown",
   "id": "f4gV-GVJ9D62",
   "metadata": {
    "id": "f4gV-GVJ9D62"
   },
   "source": [
    "**Observations:**\n",
    "\n",
    "- Is it at or very near zero?"
   ]
  },
  {
   "cell_type": "markdown",
   "id": "ThxU99WY9KZ-",
   "metadata": {
    "id": "ThxU99WY9KZ-"
   },
   "source": [
    "--------\n",
    "### **2) Check for Homoscedasticity**\n",
    "---------"
   ]
  },
  {
   "cell_type": "markdown",
   "id": "9yVd8Df69UW4",
   "metadata": {
    "id": "9yVd8Df69UW4"
   },
   "source": [
    "- **Homoscedasticity** - Are the residuals **symmetrically distributed across the regression line**? If yes =  data is homoscedastic.\n",
    "\n",
    "- **Heteroscedasticity** - Are the residuals are **NOT** symmetrically distributed across the regression line? If yes =  data is heteroscedastic. (residuals may form a funnel shape or any other non-symmetrical shape)\n",
    "\n",
    "- Use the `**Goldfeldquandt Test**` to test the following hypothesis with alpha = 0.05:\n",
    "\n",
    "    - Null hypothesis: Residuals are homoscedastic\n",
    "    - Alternate hypothesis: Residuals have heteroscedastic"
   ]
  },
  {
   "cell_type": "code",
   "execution_count": 89,
   "id": "lFJ5YnYF9XHx",
   "metadata": {
    "id": "lFJ5YnYF9XHx"
   },
   "outputs": [],
   "source": [
    "# Load relevant libraries\n",
    "\n",
    "from statsmodels.stats.diagnostic import het_white\n",
    "\n",
    "from statsmodels.compat import lzip\n",
    "\n",
    "import statsmodels.stats.api as sms"
   ]
  },
  {
   "cell_type": "code",
   "execution_count": 90,
   "id": "OFQzhZYn9Z-Z",
   "metadata": {
    "colab": {
     "base_uri": "https://localhost:8080/"
    },
    "id": "OFQzhZYn9Z-Z",
    "outputId": "5d6fd415-055e-4d50-e103-b85777a999a9"
   },
   "outputs": [
    {
     "data": {
      "text/plain": [
       "[('F statistic', 0.9832189770563923), ('p-value', 0.6800664494252275)]"
      ]
     },
     "execution_count": 90,
     "metadata": {},
     "output_type": "execute_result"
    }
   ],
   "source": [
    "\n",
    "name = [\"F statistic\", \"p-value\"]\n",
    "\n",
    "test = sms.het_goldfeldquandt(y_train, X_train1)\n",
    "\n",
    "lzip(name, test)"
   ]
  },
  {
   "cell_type": "markdown",
   "id": "dUx8KcbO9rlU",
   "metadata": {
    "id": "dUx8KcbO9rlU"
   },
   "source": [
    "**Observations:**\n",
    "\n",
    "- REPLACE THIS WITH ACTUAL OBS - Since p-value > 0.05, we cannot reject the Null Hypothesis that the residuals are homoscedastic and the corresponding assumption is satisfied."
   ]
  },
  {
   "cell_type": "markdown",
   "id": "Fsigg_dm93nV",
   "metadata": {
    "id": "Fsigg_dm93nV"
   },
   "source": [
    "----------\n",
    "## **3) Linearity of variables**\n",
    "-----------"
   ]
  },
  {
   "cell_type": "markdown",
   "id": "924c7c0f",
   "metadata": {},
   "source": [
    "- Predictor variables must have a **linear** relationship to the dependent variable.\n",
    "\n",
    "- To test, plot residuals and fitted values on a plot\n",
    "    - Look for strong patterns in the residuals\n",
    "    - Residuals should be **randomly and uniformly scattered on the x-axis**"
   ]
  },
  {
   "cell_type": "code",
   "execution_count": 91,
   "id": "-B2QWeBp92sN",
   "metadata": {
    "colab": {
     "base_uri": "https://localhost:8080/",
     "height": 295
    },
    "id": "-B2QWeBp92sN",
    "outputId": "25c9464e-1464-49cb-8057-10607711735c"
   },
   "outputs": [
    {
     "data": {
      "image/png": "[encoded data removed]",
      "text/plain": [
       "<Figure size 432x288 with 1 Axes>"
      ]
     },
     "metadata": {
      "needs_background": "light"
     },
     "output_type": "display_data"
    }
   ],
   "source": [
    "# Predicted values\n",
    "\n",
    "fitted = model2.fittedvalues\n",
    "\n",
    "# sns.set_style(\"whitegrid\")\n",
    "\n",
    "sns.residplot(x = fitted, y = residuals, color = \"lightblue\", lowess = True)\n",
    "\n",
    "plt.xlabel(\"Fitted Values\")\n",
    "\n",
    "plt.ylabel(\"Residual\")\n",
    "\n",
    "plt.title(\"Residual PLOT\")\n",
    "\n",
    "plt.show()"
   ]
  },
  {
   "cell_type": "markdown",
   "id": "CeQm4yGE9-6X",
   "metadata": {
    "id": "CeQm4yGE9-6X"
   },
   "source": [
    "**Observations:**\n",
    "\n",
    "- REPLACE WITH ACTUAL OBS There is no pattern in the residual vs fitted values plot. Hence, the corresponding assumption is satisfied."
   ]
  },
  {
   "cell_type": "markdown",
   "id": "Ux2kEoR1-AbG",
   "metadata": {
    "id": "Ux2kEoR1-AbG"
   },
   "source": [
    "---------\n",
    "## **4) Check for normality of error terms**\n",
    "---------\n",
    "\n",
    "- **Residuals should be normally distributed**."
   ]
  },
  {
   "cell_type": "code",
   "execution_count": 92,
   "id": "9T2scsGE-EJD",
   "metadata": {
    "colab": {
     "base_uri": "https://localhost:8080/",
     "height": 282
    },
    "id": "9T2scsGE-EJD",
    "outputId": "d84343d5-9e0f-4d0f-e5e6-a484d86848cc"
   },
   "outputs": [
    {
     "data": {
      "text/plain": [
       "<AxesSubplot:ylabel='Count'>"
      ]
     },
     "execution_count": 92,
     "metadata": {},
     "output_type": "execute_result"
    },
    {
     "data": {
      "image/png": "[encoded data removed]",
      "text/plain": [
       "<Figure size 432x288 with 1 Axes>"
      ]
     },
     "metadata": {
      "needs_background": "light"
     },
     "output_type": "display_data"
    }
   ],
   "source": [
    "# Plot histogram of residuals\n",
    "sns.histplot(residuals, kde = True)"
   ]
  },
  {
   "cell_type": "markdown",
   "id": "357fee49",
   "metadata": {},
   "source": [
    "## **Create the q-q plot of residuals**"
   ]
  },
  {
   "cell_type": "code",
   "execution_count": null,
   "id": "4d6550d0",
   "metadata": {},
   "outputs": [],
   "source": [
    "# Import relevant libraries\n",
    "\n",
    "import pylab\n",
    "\n",
    "import scipy.stats as stats"
   ]
  },
  {
   "cell_type": "code",
   "execution_count": 93,
   "id": "_FpgZdgX-NLd",
   "metadata": {
    "colab": {
     "base_uri": "https://localhost:8080/",
     "height": 295
    },
    "id": "_FpgZdgX-NLd",
    "outputId": "40ae915b-000a-44c8-a4e2-fbf6f4040e13"
   },
   "outputs": [
    {
     "data": {
      "image/png": "[encoded data removed]",
      "text/plain": [
       "<Figure size 432x288 with 1 Axes>"
      ]
     },
     "metadata": {
      "needs_background": "light"
     },
     "output_type": "display_data"
    }
   ],
   "source": [
    "stats.probplot(residuals, dist = \"norm\", plot = pylab)\n",
    "\n",
    "plt.show()"
   ]
  },
  {
   "cell_type": "markdown",
   "id": "45Mg8oIF-UTe",
   "metadata": {
    "id": "45Mg8oIF-UTe"
   },
   "source": [
    "**Observations:**\n",
    "\n",
    "- REPLACE WITH ACTUAL OBS From the above plots, the residuals seem to follow a normal distribution. Hence, the corresponding assumption is satisfied. Now, we will check the model performance on the train and test dataset."
   ]
  },
  {
   "cell_type": "markdown",
   "id": "1a230598",
   "metadata": {},
   "source": [
    "-------\n",
    "# **Cross-Validation**\n",
    "-------"
   ]
  },
  {
   "cell_type": "markdown",
   "id": "-jrMdUnG7zhy",
   "metadata": {
    "id": "-jrMdUnG7zhy"
   },
   "source": [
    "- **Cross-validation will improve the model** \n",
    "- **Model is valuated using different metrics**"
   ]
  },
  {
   "cell_type": "markdown",
   "id": "5341d3cf",
   "metadata": {},
   "source": [
    "------\n",
    "## **Create a Regression Model**\n",
    "------"
   ]
  },
  {
   "cell_type": "markdown",
   "id": "9b7c1831",
   "metadata": {},
   "source": [
    "### **Import relevant assets**"
   ]
  },
  {
   "cell_type": "code",
   "execution_count": null,
   "id": "3efd77ac",
   "metadata": {},
   "outputs": [],
   "source": [
    "from sklearn.model_selection import cross_val_score"
   ]
  },
  {
   "cell_type": "code",
   "execution_count": 95,
   "id": "StFmaj_t73xU",
   "metadata": {
    "colab": {
     "base_uri": "https://localhost:8080/"
    },
    "id": "StFmaj_t73xU",
    "outputId": "0c11a6b9-065d-43b8-83b3-9457b904b0bf"
   },
   "outputs": [
    {
     "name": "stdout",
     "output_type": "stream",
     "text": [
      "RSquared: 0.823 (+/- 0.045)\n",
      "Mean Squared Error: 200712.689 (+/- 64085.512)\n"
     ]
    }
   ],
   "source": [
    "# Build the regression model and cross-validate\n",
    "\n",
    "linearregression = LinearRegression()                                    \n",
    "\n",
    "cv_Score11 = cross_val_score(linearregression, X_train, y_train, cv = 10)\n",
    "cv_Score12 = cross_val_score(linearregression, X_train, y_train, cv = 10, \n",
    "                             scoring = 'neg_mean_squared_error')                                  \n",
    "\n",
    "\n",
    "print(\"RSquared: %0.3f (+/- %0.3f)\" % (cv_Score11.mean(), cv_Score11.std() * 2))\n",
    "print(\"Mean Squared Error: %0.3f (+/- %0.3f)\" % (-1*cv_Score12.mean(), cv_Score12.std() * 2))"
   ]
  },
  {
   "cell_type": "markdown",
   "id": "26ca0888",
   "metadata": {},
   "source": [
    "**Observation:**\n",
    "- REPLACE WITH ACTUAL OBS After applying cross-validation the model score has improved. We can compare it by the evaluation metric scores."
   ]
  },
  {
   "cell_type": "markdown",
   "id": "e4213339",
   "metadata": {
    "id": "e4213339"
   },
   "source": [
    "---------\n",
    "## **Conclusions (Actionable Insights and Business Recommendations)**\n",
    "--------"
   ]
  },
  {
   "cell_type": "markdown",
   "id": "34147721",
   "metadata": {
    "id": "34147721"
   },
   "source": [
    "# **REPLACE WITH ACTUAL OBSERVATIONS**\n",
    "\n",
    "- We can use this forecasting model to predict the total sales that will be done by SuperKart in the next quarter.\n",
    "\n",
    "- The model explains around 79% of the variation in the data.\n",
    "\n",
    "- **OUT004** - OUT004, which is of Supermarket Type2, located in a Tier 2 city and having store size as medium, is performing well. SuperKart can look to increase the size of this store from medium to high. They can also look to set up stores in this type of city having comparable socio-economic conditions in order to expand their business and reach.\n",
    "\n",
    "- **OUT002** - OUT002, being a food mart in a Tier 3 city and having small store size, is also performing well. SuperKart can look to upgrade its size or target similar cities for business expansion.\n",
    "\n",
    "- **OUT001** - OUT001 which is a store of Supermarket Type 1, located in a Tier 2 city and having store size as high is not performing upto the mark. SuperKart can look to look build new marketing strategies (maybe give attractive discounts and offers) in this store in order to attract more customers.\n",
    "\n",
    "- **OUT003** - Similar approach can be taken to increase the business of OUT003 which is a Departmental store in a Tier 1 city and having store size as medium. It is the premium store of the company where most of the costly goods are sold, so the correct set of audience should be targetted.\n",
    "\n",
    "- Daily needs like fruits and vegetables and snack foods are the biggest contributors to the revenue across all the stores. So SuperKart should look to maintain the inventory of these products properly and ensure that these products never face a shortage.\n",
    "\n",
    "**Additional information that can be collected to gain better insights -**\n",
    "\n",
    "- Customers' details like age and gender can be incorporated in this model so that the company gets to know their target audience well and can build their sales strategies according to that.\n",
    "\n",
    "- The company should also keep a watch for the number of festive occasions present in a quarter so that they can strategize their inventory accordingly."
   ]
  }
 ],
 "metadata": {
  "colab": {
   "collapsed_sections": [
    "21341d2b"
   ],
   "name": "Addional_Practice_Project_ML_SuperKart_SolutionNotebook",
   "provenance": []
  },
  "kernelspec": {
   "display_name": "Python 3.10.8 64-bit",
   "language": "python",
   "name": "python3"
  },
  "language_info": {
   "codemirror_mode": {
    "name": "ipython",
    "version": 3
   },
   "file_extension": ".py",
   "mimetype": "text/x-python",
   "name": "python",
   "nbconvert_exporter": "python",
   "pygments_lexer": "ipython3",
   "version": "3.10.8"
  },
  "vscode": {
   "interpreter": {
    "hash": "b0fa6594d8f4cbf19f97940f81e996739fb7646882a419484c72d19e05852a7e"
   }
  }
 },
 "nbformat": 4,
 "nbformat_minor": 5
}
